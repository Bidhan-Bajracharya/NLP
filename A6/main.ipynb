{
 "cells": [
  {
   "cell_type": "code",
   "execution_count": 1,
   "metadata": {},
   "outputs": [],
   "source": [
    "import os\n",
    "from langchain.prompts import PromptTemplate\n",
    "# from langchain_community.llms import Ollama\n",
    "from langchain_ollama import OllamaLLM\n",
    "from langchain.document_loaders import TextLoader\n",
    "from langchain_text_splitters import RecursiveCharacterTextSplitter\n",
    "from langchain_huggingface import HuggingFaceEmbeddings\n",
    "from langchain.vectorstores import FAISS"
   ]
  },
  {
   "cell_type": "markdown",
   "metadata": {},
   "source": [
    "# Prompt"
   ]
  },
  {
   "cell_type": "code",
   "execution_count": 2,
   "metadata": {},
   "outputs": [
    {
     "data": {
      "text/plain": [
       "PromptTemplate(input_variables=['context', 'question'], input_types={}, partial_variables={}, template=\"You are an assistant that provides useful information about Bidhan. Use the following pieces of retrieved context to answer the question. \\n    If the question is about Bidhan's education, summarize his degrees, institutions, and fields of study.\\n    If you don't know the answer, just say that you don't know. Keep the answer concise.\\n    {context}\\n    Question: {question}\\n    Answer:\")"
      ]
     },
     "execution_count": 2,
     "metadata": {},
     "output_type": "execute_result"
    }
   ],
   "source": [
    "prompt_template = \"\"\"\n",
    "    You are an assistant that provides useful information about Bidhan. Use the following pieces of retrieved context to answer the question. \n",
    "    If the question is about Bidhan's education, summarize his degrees, institutions, and fields of study.\n",
    "    If you don't know the answer, just say that you don't know. Keep the answer concise.\n",
    "    {context}\n",
    "    Question: {question}\n",
    "    Answer:\n",
    "    \"\"\".strip()\n",
    "\n",
    "PROMPT = PromptTemplate(template= prompt_template)\n",
    "PROMPT"
   ]
  },
  {
   "cell_type": "markdown",
   "metadata": {},
   "source": [
    "# Model"
   ]
  },
  {
   "cell_type": "code",
   "execution_count": 3,
   "metadata": {},
   "outputs": [
    {
     "data": {
      "text/plain": [
       "OllamaLLM(model='llama3.2')"
      ]
     },
     "execution_count": 3,
     "metadata": {},
     "output_type": "execute_result"
    }
   ],
   "source": [
    "llm = OllamaLLM(model=\"llama3.2\")\n",
    "llm"
   ]
  },
  {
   "cell_type": "code",
   "execution_count": 4,
   "metadata": {},
   "outputs": [
    {
     "data": {
      "text/plain": [
       "\"It's nice to meet you. Is there something I can help you with or would you like to chat?\""
      ]
     },
     "execution_count": 4,
     "metadata": {},
     "output_type": "execute_result"
    }
   ],
   "source": [
    "# testing the llm\n",
    "llm.invoke(\"Hello!\")"
   ]
  },
  {
   "cell_type": "markdown",
   "metadata": {},
   "source": [
    "# Document Loaders\n",
    "Data for the context was sourced from my resume and my personal information and beliefs which were all put into two files available in the `data` folder."
   ]
  },
  {
   "cell_type": "code",
   "execution_count": 5,
   "metadata": {},
   "outputs": [],
   "source": [
    "# loading documents\n",
    "all_documents = []\n",
    "\n",
    "files = ['./data/aboutme.txt', './data/cv.txt']\n",
    "for file in files:\n",
    "    loader = TextLoader(file)\n",
    "    documents = loader.load()\n",
    "    all_documents.extend(documents)"
   ]
  },
  {
   "cell_type": "code",
   "execution_count": 6,
   "metadata": {},
   "outputs": [
    {
     "data": {
      "text/plain": [
       "[Document(metadata={'source': './data/aboutme.txt'}, page_content='My Personal Information:\\n\\nName: Bidhan Bajracharya\\nAge: 23 years (as of 2025)\\nBirthdate: September 14, 2001\\nGender: Male\\nNationality: Nepalese\\nHeight: 5\\'10\"\\nSkin tone: Brown\\n\\nEducation Background:\\n- Master’s Degree: Data Science and Artificial Intelligence (DSAI)\\n    - Institution: Asian Institute of Technology (AIT)\\n\\n- Bachelor’s Degree: BSc (Hons) in Computing\\n    - Institution: London Metropolitan University\\n\\nProfessional Experience:\\n- Software Engineer (1 year)\\n    - Industry: Education\\n- Currently not employed\\n\\nTechnical Skills:\\n- Programming Languages: Python, Java, JavaScript/TypeScript, C#, SQL\\n- Frameworks & Libraries: React, Node.js, Pandas, NumPy, Matplotlib, Scikit-Learn\\n\\nBeliefs & Philosophy:\\n- Technology as a Double-Edged Sword:– If used ethically, technology can drive societal progress, but if misused, it can lead to negative consequences.\\n- Data-Driven Decision Making:– Making informed decisions based on data and logical reasoning is crucial in both personal and professional life.\\n- Empathy & Ethical Responsibility:– The impact of technology on people’s lives should always be considered, and ethical practices should be prioritized in development.\\n- Cultural Identity in a Globalized World:– While globalization connects us, preserving cultural uniqueness is essential for diversity and innovation.\\n- Creativity & Problem-Solving:– Every challenge is an opportunity for creative solutions, and technology should be used to solve real-world problems efficiently.\\n\\nCultural Values:\\n- Respect for Tradition & Innovation:– I value cultural heritage and believe that modern technology should integrate and reflect traditional wisdom rather than replace it.\\n- Community & Collaboration:– A strong sense of community is essential for growth, and I believe in using technology to bring people together rather than isolate them.\\n- Lifelong Learning & Adaptability:– Continuous learning is key to personal and professional growth, and I embrace change as an opportunity for innovation.\\n- Balance Between Nature & Technology:– Technology should be used responsibly to preserve nature and promote sustainable living.\\n\\nChallenges faced till now in Masters:\\n- Firguring out integrating data science into my fields of interests\\n- Managing time for personal projects\\n- Figuring out which field to primarily start out as a person in data science\\n- Catching up with advance ML concepts\\n\\nGoals hoping to achieve as master\\'s student:\\n- Learn useful ML concepts and apply them in real case scenarios\\n- Get into a good company for internship\\n- Network with good people and grow and learn from them\\n- Currently, have no intention of doing research as job is the primary focus\\n'),\n",
       " Document(metadata={'source': './data/cv.txt'}, page_content='NAME: Bidhan Bajracharya\\n\\nEDUCATION BACKGROUND:\\n- Asian Institute Of Technology\\n    - Master of Science (M.S) - Data Science and AI | August 2024 - May 2026\\n\\n- Islington College (Affiliated to London Metropolitan University)\\n    - BSc (Hons) Computing | Feb 2021 – Dec 2023 | Final Percentage: 76.56%\\n\\n- Uniglobe SS/College\\n    - High School | Jan 2018 – Dec 2020 | CGPA: 3.78/4.0\\n\\nPROFESSIONAL EXPERIENCE:\\nVurilo Pvt. Ltd. | Junior Software Engineer (Jun 2023 – May 2024)\\n    - Worked on Agile methodology, ensuring successful development and timely delivery of tasks.\\n    - Conducted data analysis, interpretation, and utilization to enhance project efficiency.\\n    - Implemented ChatGPT plugins, AWS services, and REST APIs into project functionalities.\\n\\nLevel 9 Tech | Front-end Developer Intern (Aug 2022 – Dec 2022)\\n    - Collaborated with a team of developers to build and maintain web applications.\\n    - Utilized Git and GitHub to manage project workflows.\\n    - Developed new features and improved existing functionalities to enhance user experience.\\n\\nPROJECTS:\\n- Vurilo Insights (Python, SQL)\\n    - Extracted data from APIs, databases, and CSV files using Python and SQL.\\n    - Pre-processed raw data with Pandas and NumPy, handling missing values and inconsistencies.\\n    - Conducted exploratory data analysis (EDA) with statistical methods and visualization techniques.\\n    - Created interactive dashboards using Matplotlib, Seaborn, and Plotly.\\n\\n- Vurilo (TypeScript, Next.js, React.js, Tailwind, Firebase)\\n    - Developed an E-Learning platform for students.\\n    - Used Next.js for server-side rendering to enhance user experience.\\n    - Integrated Firebase for secure authentication and real-time data synchronization.\\n\\n- Moneyvest (TypeScript, React.js, AWS Cognito, Ant-Design)\\n    - Built an online platform for finance, investing, and trading education.\\n    - Implemented AWS Cognito for secure user authentication.\\n    - Collaborated with an international client for API optimization and integration.\\n    - Designed data visualization graphs to improve user insights.\\n\\n- Uddum (Vue.js, Nuxt.js)\\n    - Developed an online airplane ticket booking platform.\\n    - Worked with experienced developers to optimize and resolve issues.\\n    - Implemented REST APIs and developed an intuitive UI/UX.\\n\\nAWARDS AND ACHIEVEMENT:\\n- AAA Scholarship Award (2022)\\n    - Recognized for exceptional Attitude, Attendance, and Academic performance.\\n\\nTECHNICAL SKILLS:\\nProgramming Languages: Python, Java, JavaScript/TypeScript, C#, SQL\\nTools: Git/GitHub, Jupyter Notebook, VS Code, IntelliJ, PyCharm, Docker, Tableau, AWS, PostgreSQL, MySQL\\nLibraries & Frameworks: Pandas, NumPy, Matplotlib, Scikit-Learn, React.js\\n\\nEXTRACURRICULAR ACTIVITIES:\\n- Arts and Culture Club (2018 – 2020)\\n    - Participated in creative competitions, showcasing artistic talents.\\n    - Hosted club activities, promoting cultural appreciation and creativity.\\n    - Collaborated with peers to organize and execute events.\\n\\n- Student Academic Representative (2021 & 2023)\\n    - Represented class interests and facilitated communication between students and faculty.\\n    - Organized weekly forms to document and communicate student feedback.\\n    - Participated in faculty meetings to address academic concerns.')]"
      ]
     },
     "execution_count": 6,
     "metadata": {},
     "output_type": "execute_result"
    }
   ],
   "source": [
    "all_documents"
   ]
  },
  {
   "cell_type": "markdown",
   "metadata": {},
   "source": [
    "## Document Transformers"
   ]
  },
  {
   "cell_type": "code",
   "execution_count": 7,
   "metadata": {},
   "outputs": [],
   "source": [
    "text_splitter = RecursiveCharacterTextSplitter(chunk_size=1000, chunk_overlap=200)\n",
    "doc = text_splitter.split_documents(all_documents)"
   ]
  },
  {
   "cell_type": "code",
   "execution_count": 8,
   "metadata": {},
   "outputs": [
    {
     "data": {
      "text/plain": [
       "[Document(metadata={'source': './data/aboutme.txt'}, page_content='My Personal Information:\\n\\nName: Bidhan Bajracharya\\nAge: 23 years (as of 2025)\\nBirthdate: September 14, 2001\\nGender: Male\\nNationality: Nepalese\\nHeight: 5\\'10\"\\nSkin tone: Brown\\n\\nEducation Background:\\n- Master’s Degree: Data Science and Artificial Intelligence (DSAI)\\n    - Institution: Asian Institute of Technology (AIT)\\n\\n- Bachelor’s Degree: BSc (Hons) in Computing\\n    - Institution: London Metropolitan University\\n\\nProfessional Experience:\\n- Software Engineer (1 year)\\n    - Industry: Education\\n- Currently not employed\\n\\nTechnical Skills:\\n- Programming Languages: Python, Java, JavaScript/TypeScript, C#, SQL\\n- Frameworks & Libraries: React, Node.js, Pandas, NumPy, Matplotlib, Scikit-Learn'),\n",
       " Document(metadata={'source': './data/aboutme.txt'}, page_content='Technical Skills:\\n- Programming Languages: Python, Java, JavaScript/TypeScript, C#, SQL\\n- Frameworks & Libraries: React, Node.js, Pandas, NumPy, Matplotlib, Scikit-Learn\\n\\nBeliefs & Philosophy:\\n- Technology as a Double-Edged Sword:– If used ethically, technology can drive societal progress, but if misused, it can lead to negative consequences.\\n- Data-Driven Decision Making:– Making informed decisions based on data and logical reasoning is crucial in both personal and professional life.\\n- Empathy & Ethical Responsibility:– The impact of technology on people’s lives should always be considered, and ethical practices should be prioritized in development.\\n- Cultural Identity in a Globalized World:– While globalization connects us, preserving cultural uniqueness is essential for diversity and innovation.\\n- Creativity & Problem-Solving:– Every challenge is an opportunity for creative solutions, and technology should be used to solve real-world problems efficiently.'),\n",
       " Document(metadata={'source': './data/aboutme.txt'}, page_content='Cultural Values:\\n- Respect for Tradition & Innovation:– I value cultural heritage and believe that modern technology should integrate and reflect traditional wisdom rather than replace it.\\n- Community & Collaboration:– A strong sense of community is essential for growth, and I believe in using technology to bring people together rather than isolate them.\\n- Lifelong Learning & Adaptability:– Continuous learning is key to personal and professional growth, and I embrace change as an opportunity for innovation.\\n- Balance Between Nature & Technology:– Technology should be used responsibly to preserve nature and promote sustainable living.\\n\\nChallenges faced till now in Masters:\\n- Firguring out integrating data science into my fields of interests\\n- Managing time for personal projects\\n- Figuring out which field to primarily start out as a person in data science\\n- Catching up with advance ML concepts'),\n",
       " Document(metadata={'source': './data/aboutme.txt'}, page_content=\"Goals hoping to achieve as master's student:\\n- Learn useful ML concepts and apply them in real case scenarios\\n- Get into a good company for internship\\n- Network with good people and grow and learn from them\\n- Currently, have no intention of doing research as job is the primary focus\"),\n",
       " Document(metadata={'source': './data/cv.txt'}, page_content='NAME: Bidhan Bajracharya\\n\\nEDUCATION BACKGROUND:\\n- Asian Institute Of Technology\\n    - Master of Science (M.S) - Data Science and AI | August 2024 - May 2026\\n\\n- Islington College (Affiliated to London Metropolitan University)\\n    - BSc (Hons) Computing | Feb 2021 – Dec 2023 | Final Percentage: 76.56%\\n\\n- Uniglobe SS/College\\n    - High School | Jan 2018 – Dec 2020 | CGPA: 3.78/4.0\\n\\nPROFESSIONAL EXPERIENCE:\\nVurilo Pvt. Ltd. | Junior Software Engineer (Jun 2023 – May 2024)\\n    - Worked on Agile methodology, ensuring successful development and timely delivery of tasks.\\n    - Conducted data analysis, interpretation, and utilization to enhance project efficiency.\\n    - Implemented ChatGPT plugins, AWS services, and REST APIs into project functionalities.'),\n",
       " Document(metadata={'source': './data/cv.txt'}, page_content='Level 9 Tech | Front-end Developer Intern (Aug 2022 – Dec 2022)\\n    - Collaborated with a team of developers to build and maintain web applications.\\n    - Utilized Git and GitHub to manage project workflows.\\n    - Developed new features and improved existing functionalities to enhance user experience.\\n\\nPROJECTS:\\n- Vurilo Insights (Python, SQL)\\n    - Extracted data from APIs, databases, and CSV files using Python and SQL.\\n    - Pre-processed raw data with Pandas and NumPy, handling missing values and inconsistencies.\\n    - Conducted exploratory data analysis (EDA) with statistical methods and visualization techniques.\\n    - Created interactive dashboards using Matplotlib, Seaborn, and Plotly.\\n\\n- Vurilo (TypeScript, Next.js, React.js, Tailwind, Firebase)\\n    - Developed an E-Learning platform for students.\\n    - Used Next.js for server-side rendering to enhance user experience.\\n    - Integrated Firebase for secure authentication and real-time data synchronization.'),\n",
       " Document(metadata={'source': './data/cv.txt'}, page_content='- Moneyvest (TypeScript, React.js, AWS Cognito, Ant-Design)\\n    - Built an online platform for finance, investing, and trading education.\\n    - Implemented AWS Cognito for secure user authentication.\\n    - Collaborated with an international client for API optimization and integration.\\n    - Designed data visualization graphs to improve user insights.\\n\\n- Uddum (Vue.js, Nuxt.js)\\n    - Developed an online airplane ticket booking platform.\\n    - Worked with experienced developers to optimize and resolve issues.\\n    - Implemented REST APIs and developed an intuitive UI/UX.\\n\\nAWARDS AND ACHIEVEMENT:\\n- AAA Scholarship Award (2022)\\n    - Recognized for exceptional Attitude, Attendance, and Academic performance.\\n\\nTECHNICAL SKILLS:\\nProgramming Languages: Python, Java, JavaScript/TypeScript, C#, SQL\\nTools: Git/GitHub, Jupyter Notebook, VS Code, IntelliJ, PyCharm, Docker, Tableau, AWS, PostgreSQL, MySQL\\nLibraries & Frameworks: Pandas, NumPy, Matplotlib, Scikit-Learn, React.js'),\n",
       " Document(metadata={'source': './data/cv.txt'}, page_content='EXTRACURRICULAR ACTIVITIES:\\n- Arts and Culture Club (2018 – 2020)\\n    - Participated in creative competitions, showcasing artistic talents.\\n    - Hosted club activities, promoting cultural appreciation and creativity.\\n    - Collaborated with peers to organize and execute events.\\n\\n- Student Academic Representative (2021 & 2023)\\n    - Represented class interests and facilitated communication between students and faculty.\\n    - Organized weekly forms to document and communicate student feedback.\\n    - Participated in faculty meetings to address academic concerns.')]"
      ]
     },
     "execution_count": 8,
     "metadata": {},
     "output_type": "execute_result"
    }
   ],
   "source": [
    "doc "
   ]
  },
  {
   "cell_type": "markdown",
   "metadata": {},
   "source": [
    "## Text Embedding Models"
   ]
  },
  {
   "cell_type": "code",
   "execution_count": 9,
   "metadata": {},
   "outputs": [
    {
     "name": "stderr",
     "output_type": "stream",
     "text": [
      "c:\\Users\\Bidhan\\anaconda3\\envs\\langchain\\Lib\\site-packages\\tqdm\\auto.py:21: TqdmWarning: IProgress not found. Please update jupyter and ipywidgets. See https://ipywidgets.readthedocs.io/en/stable/user_install.html\n",
      "  from .autonotebook import tqdm as notebook_tqdm\n"
     ]
    }
   ],
   "source": [
    "embedding_model = HuggingFaceEmbeddings(model_name=\"sentence-transformers/all-mpnet-base-v2\")"
   ]
  },
  {
   "cell_type": "markdown",
   "metadata": {},
   "source": [
    "## Vector Stores"
   ]
  },
  {
   "cell_type": "code",
   "execution_count": 10,
   "metadata": {},
   "outputs": [],
   "source": [
    "vector_path = './vector-store'\n",
    "if not os.path.exists(vector_path):\n",
    "    os.makedirs(vector_path)\n",
    "    print('create path done')"
   ]
  },
  {
   "cell_type": "code",
   "execution_count": 11,
   "metadata": {},
   "outputs": [],
   "source": [
    "db_file_name = 'personal_info'\n",
    "\n",
    "# load the vector store if it exists\n",
    "if os.path.exists(os.path.join(vector_path, db_file_name)):\n",
    "        vectordb = FAISS.load_local(\n",
    "            folder_path=os.path.join(vector_path, db_file_name),\n",
    "            embeddings=embedding_model,\n",
    "            allow_dangerous_deserialization=True # because I'm sure the file is safe\n",
    "        )\n",
    "else:\n",
    "    vectordb = FAISS.from_documents(\n",
    "        documents = doc,\n",
    "        embedding = embedding_model\n",
    "    )\n",
    "\n",
    "    vectordb.save_local(\n",
    "        folder_path = os.path.join(vector_path, db_file_name)\n",
    "    )"
   ]
  },
  {
   "cell_type": "markdown",
   "metadata": {},
   "source": [
    "## Retrievers"
   ]
  },
  {
   "cell_type": "code",
   "execution_count": 12,
   "metadata": {},
   "outputs": [],
   "source": [
    "retriever = vectordb.as_retriever(search_kwargs={\"k\": 3})"
   ]
  },
  {
   "cell_type": "code",
   "execution_count": 13,
   "metadata": {},
   "outputs": [
    {
     "name": "stderr",
     "output_type": "stream",
     "text": [
      "C:\\Users\\Bidhan\\AppData\\Local\\Temp\\ipykernel_19632\\3674800939.py:1: LangChainDeprecationWarning: The method `BaseRetriever.get_relevant_documents` was deprecated in langchain-core 0.1.46 and will be removed in 1.0. Use :meth:`~invoke` instead.\n",
      "  retriever.get_relevant_documents(\"What is your name?\")\n"
     ]
    },
    {
     "data": {
      "text/plain": [
       "[Document(id='8010dec4-47aa-49db-b2e8-24df4382f1da', metadata={'source': './data/cv.txt'}, page_content='- Moneyvest (TypeScript, React.js, AWS Cognito, Ant-Design)\\n    - Built an online platform for finance, investing, and trading education.\\n    - Implemented AWS Cognito for secure user authentication.\\n    - Collaborated with an international client for API optimization and integration.\\n    - Designed data visualization graphs to improve user insights.\\n\\n- Uddum (Vue.js, Nuxt.js)\\n    - Developed an online airplane ticket booking platform.\\n    - Worked with experienced developers to optimize and resolve issues.\\n    - Implemented REST APIs and developed an intuitive UI/UX.\\n\\nAWARDS AND ACHIEVEMENT:\\n- AAA Scholarship Award (2022)\\n    - Recognized for exceptional Attitude, Attendance, and Academic performance.\\n\\nTECHNICAL SKILLS:\\nProgramming Languages: Python, Java, JavaScript/TypeScript, C#, SQL\\nTools: Git/GitHub, Jupyter Notebook, VS Code, IntelliJ, PyCharm, Docker, Tableau, AWS, PostgreSQL, MySQL\\nLibraries & Frameworks: Pandas, NumPy, Matplotlib, Scikit-Learn, React.js'),\n",
       " Document(id='c20697ab-c5cf-4666-b7e3-7c1c56e8e2f5', metadata={'source': './data/aboutme.txt'}, page_content='My Personal Information:\\n\\nName: Bidhan Bajracharya\\nAge: 23 years (as of 2025)\\nBirthdate: September 14, 2001\\nGender: Male\\nNationality: Nepalese\\nHeight: 5\\'10\"\\nSkin tone: Brown\\n\\nEducation Background:\\n- Master’s Degree: Data Science and Artificial Intelligence (DSAI)\\n    - Institution: Asian Institute of Technology (AIT)\\n\\n- Bachelor’s Degree: BSc (Hons) in Computing\\n    - Institution: London Metropolitan University\\n\\nProfessional Experience:\\n- Software Engineer (1 year)\\n    - Industry: Education\\n- Currently not employed\\n\\nTechnical Skills:\\n- Programming Languages: Python, Java, JavaScript/TypeScript, C#, SQL\\n- Frameworks & Libraries: React, Node.js, Pandas, NumPy, Matplotlib, Scikit-Learn'),\n",
       " Document(id='9bc22508-5e07-4ab5-9a1f-d41661a5e40a', metadata={'source': './data/aboutme.txt'}, page_content='Technical Skills:\\n- Programming Languages: Python, Java, JavaScript/TypeScript, C#, SQL\\n- Frameworks & Libraries: React, Node.js, Pandas, NumPy, Matplotlib, Scikit-Learn\\n\\nBeliefs & Philosophy:\\n- Technology as a Double-Edged Sword:– If used ethically, technology can drive societal progress, but if misused, it can lead to negative consequences.\\n- Data-Driven Decision Making:– Making informed decisions based on data and logical reasoning is crucial in both personal and professional life.\\n- Empathy & Ethical Responsibility:– The impact of technology on people’s lives should always be considered, and ethical practices should be prioritized in development.\\n- Cultural Identity in a Globalized World:– While globalization connects us, preserving cultural uniqueness is essential for diversity and innovation.\\n- Creativity & Problem-Solving:– Every challenge is an opportunity for creative solutions, and technology should be used to solve real-world problems efficiently.')]"
      ]
     },
     "execution_count": 13,
     "metadata": {},
     "output_type": "execute_result"
    }
   ],
   "source": [
    "retriever.get_relevant_documents(\"What is your name?\")"
   ]
  },
  {
   "cell_type": "markdown",
   "metadata": {},
   "source": [
    "# Memory"
   ]
  },
  {
   "cell_type": "code",
   "execution_count": 14,
   "metadata": {},
   "outputs": [],
   "source": [
    "from langchain.memory import ChatMessageHistory"
   ]
  },
  {
   "cell_type": "code",
   "execution_count": 15,
   "metadata": {},
   "outputs": [
    {
     "data": {
      "text/plain": [
       "InMemoryChatMessageHistory(messages=[])"
      ]
     },
     "execution_count": 15,
     "metadata": {},
     "output_type": "execute_result"
    }
   ],
   "source": [
    "history = ChatMessageHistory()\n",
    "history"
   ]
  },
  {
   "cell_type": "code",
   "execution_count": 16,
   "metadata": {},
   "outputs": [],
   "source": [
    "# history.add_user_message('hi')\n",
    "# history.add_ai_message('Hello! I\\'m a personal chatbot who knows a lot about Bidhan.Go ahead and ask me anything about him.')\n",
    "# history.add_user_message('How are you')\n",
    "# history.add_ai_message('I\\'m quite good. How about you?')"
   ]
  },
  {
   "cell_type": "code",
   "execution_count": 17,
   "metadata": {},
   "outputs": [
    {
     "data": {
      "text/plain": [
       "InMemoryChatMessageHistory(messages=[])"
      ]
     },
     "execution_count": 17,
     "metadata": {},
     "output_type": "execute_result"
    }
   ],
   "source": [
    "history"
   ]
  },
  {
   "cell_type": "code",
   "execution_count": 18,
   "metadata": {},
   "outputs": [],
   "source": [
    "from langchain.memory import ConversationBufferMemory"
   ]
  },
  {
   "cell_type": "code",
   "execution_count": 19,
   "metadata": {},
   "outputs": [],
   "source": [
    "# memory = ConversationBufferMemory(return_messages = True)\n",
    "# memory.save_context({'input':'hi'}, {'output':'What\\'s up?'})\n",
    "# memory.save_context({\"input\":'How are you?'},{'output': 'I\\'m quite good. How about you?'})\n",
    "# memory.load_memory_variables({})"
   ]
  },
  {
   "cell_type": "code",
   "execution_count": 20,
   "metadata": {},
   "outputs": [
    {
     "name": "stderr",
     "output_type": "stream",
     "text": [
      "C:\\Users\\Bidhan\\AppData\\Local\\Temp\\ipykernel_19632\\4142404075.py:1: LangChainDeprecationWarning: Please see the migration guide at: https://python.langchain.com/docs/versions/migrating_memory/\n",
      "  memory = ConversationBufferMemory(memory_key=\"chat_history\", input_key=\"question\", output_key=\"answer\")\n"
     ]
    }
   ],
   "source": [
    "memory = ConversationBufferMemory(memory_key=\"chat_history\", input_key=\"question\", output_key=\"answer\")\n",
    "# memory = ConversationBufferMemory(input_key=\"question\", output_key=\"answer\")"
   ]
  },
  {
   "cell_type": "code",
   "execution_count": 21,
   "metadata": {},
   "outputs": [],
   "source": [
    "# memory.save_context({'question':'hi'}, {'answer':'What\\'s up?'})\n",
    "# memory.save_context({\"question\":'From now on every reply, you can use the context provided. And answer as bidhan himself.'},{'answer': 'Okay I will now answer as Bidhan.'})"
   ]
  },
  {
   "cell_type": "markdown",
   "metadata": {},
   "source": [
    "# Chain"
   ]
  },
  {
   "cell_type": "code",
   "execution_count": 22,
   "metadata": {},
   "outputs": [],
   "source": [
    "from langchain.chains import RetrievalQA"
   ]
  },
  {
   "cell_type": "code",
   "execution_count": 23,
   "metadata": {},
   "outputs": [],
   "source": [
    "qa_chain = RetrievalQA.from_chain_type(\n",
    "    llm = llm,\n",
    "    chain_type = \"stuff\",\n",
    "    retriever = retriever,\n",
    "    return_source_documents = True,\n",
    "    chain_type_kwargs={\"prompt\": PROMPT}\n",
    ")"
   ]
  },
  {
   "cell_type": "code",
   "execution_count": 24,
   "metadata": {},
   "outputs": [
    {
     "name": "stderr",
     "output_type": "stream",
     "text": [
      "C:\\Users\\Bidhan\\AppData\\Local\\Temp\\ipykernel_19632\\1298083337.py:1: LangChainDeprecationWarning: The method `Chain.__call__` was deprecated in langchain 0.1.0 and will be removed in 1.0. Use :meth:`~invoke` instead.\n",
      "  result = qa_chain({\"query\": \"What is my birthdate?\"})\n"
     ]
    }
   ],
   "source": [
    "result = qa_chain({\"query\": \"What is my birthdate?\"})\n",
    "answer = result.get('result', '')"
   ]
  },
  {
   "cell_type": "code",
   "execution_count": null,
   "metadata": {},
   "outputs": [],
   "source": [
    "sources = []\n",
    "source_docs = result.get('source_documents', [])\n",
    "for doc in source_docs:\n",
    "    source = {\n",
    "        \"content\": doc.page_content[:150] + \"...\",\n",
    "        \"source\": doc.metadata.get('source', 'Unknown Source')\n",
    "    }\n",
    "    sources.append(source)"
   ]
  },
  {
   "cell_type": "code",
   "execution_count": 26,
   "metadata": {},
   "outputs": [
    {
     "data": {
      "text/plain": [
       "[{'content': 'My Personal Information:\\n\\nName: Bidhan Bajracharya\\nAge: 23 years (as of 2025)\\nBirthdate: September 14, 2001\\nGender: Male\\nNationality: Nepalese\\nHeight:...',\n",
       "  'source': './data/aboutme.txt'},\n",
       " {'content': '- Moneyvest (TypeScript, React.js, AWS Cognito, Ant-Design)\\n    - Built an online platform for finance, investing, and trading education.\\n    - Implem...',\n",
       "  'source': './data/cv.txt'},\n",
       " {'content': 'Technical Skills:\\n- Programming Languages: Python, Java, JavaScript/TypeScript, C#, SQL\\n- Frameworks & Libraries: React, Node.js, Pandas, NumPy, Matpl...',\n",
       "  'source': './data/aboutme.txt'}]"
      ]
     },
     "execution_count": 26,
     "metadata": {},
     "output_type": "execute_result"
    }
   ],
   "source": [
    "sources"
   ]
  },
  {
   "cell_type": "code",
   "execution_count": 27,
   "metadata": {},
   "outputs": [
    {
     "data": {
      "text/plain": [
       "'Your birthdate is September 14, 2001.'"
      ]
     },
     "execution_count": 27,
     "metadata": {},
     "output_type": "execute_result"
    }
   ],
   "source": [
    "answer"
   ]
  },
  {
   "cell_type": "code",
   "execution_count": 28,
   "metadata": {},
   "outputs": [],
   "source": [
    "questions = [\n",
    " \"How old are you?\",\n",
    " \"What is your highest level of education?\",\n",
    " \"What major or field of study did you pursue during your education?\",\n",
    " \"How many years of work experience do you have?\",\n",
    " \"What type of work or industry have you been involved in?\",\n",
    " \"Can you describe your current role or job responsibilities?\",\n",
    " \"What are your core beliefs regarding the role of technology in shaping society?\",\n",
    " \"How do you think cultural values should influence technological advancements?\",\n",
    " \"As a master's student, what is the most challenging aspect of your studies so far?\",\n",
    " \"What specific research interests or academic goals do you hope to achieve during your time as a master's student?\"\n",
    "]"
   ]
  },
  {
   "cell_type": "code",
   "execution_count": 45,
   "metadata": {},
   "outputs": [
    {
     "name": "stdout",
     "output_type": "stream",
     "text": [
      "1) How old are you?\n",
      "Answer: You are 23 years old (as of 2025).\n",
      "\n",
      "2) What is your highest level of education?\n",
      "Answer: I don't know the answer to this question. The provided context doesn't mention Bidhan's highest level of education or any specific degree held by him.\n",
      "\n",
      "3) What major or field of study did you pursue during your education?\n",
      "Answer: During my education, I pursued a Master's degree in Bidhan. Unfortunately, the provided context does not specify the exact major or field of study pursued by Bidhan.\n",
      "\n",
      "4) How many years of work experience do you have?\n",
      "Answer: I don't know the exact number of years of work experience Bidhan has. However, he mentioned that his professional experience started in June 2023, but I don't have enough information to determine how long he has been working.\n",
      "\n",
      "5) What type of work or industry have you been involved in?\n",
      "Answer: Based on the provided context, I can tell that Bidhan has been involved in developing and implementing various projects related to finance, investing, trading education, online platforms, and airplane ticket booking. The specific industries or types of work mentioned include:\n",
      "\n",
      "* Finance and investing\n",
      "* Online education and training platforms (e.g., Moneyvest)\n",
      "* Airplane ticket booking and management (Uddum)\n",
      "\n",
      "These projects demonstrate Bidhan's expertise in building and integrating complex systems using various technologies such as AWS, React.js, Vue.js, Nuxt.js, and more.\n",
      "\n",
      "6) Can you describe your current role or job responsibilities?\n",
      "Answer: I don't have information about Bidhan's current role or job responsibilities. The provided context only includes his professional experience and does not mention his current position or employer.\n",
      "\n",
      "7) What are your core beliefs regarding the role of technology in shaping society?\n",
      "Answer: According to Bidhan's Beliefs & Philosophy section, his core beliefs regarding the role of technology in shaping society include:\n",
      "\n",
      "- Technology can drive societal progress if used ethically.\n",
      "- Technology has the potential for negative consequences if misused.\n",
      "- It is crucial to prioritize empathy and ethical responsibility when developing technology.\n",
      "\n",
      "These beliefs emphasize the importance of responsible innovation and considering the impact of technology on people's lives.\n",
      "\n",
      "8) How do you think cultural values should influence technological advancements?\n",
      "Answer: Bidhan believes that cultural values should influence technological advancements in a way that integrates traditional wisdom with modern technology. He thinks that technology should reflect cultural heritage while also promoting sustainable living and preserving nature.\n",
      "\n",
      "9) As a master's student, what is the most challenging aspect of your studies so far?\n",
      "Answer: According to Bidhan's context, the most challenging aspect of his Master's studies so far is:\n",
      "\n",
      "Figuring out which field to primarily start out as a person in data science and integrating data science into his existing fields of interest.\n",
      "\n",
      "10) What specific research interests or academic goals do you hope to achieve during your time as a master's student?\n",
      "Answer: Bidhan does not explicitly state their specific research interests. However, they do mention that their primary goal is to learn useful ML concepts and apply them in real case scenarios, suggesting an interest in applying machine learning to practical problems.\n",
      "\n"
     ]
    }
   ],
   "source": [
    "qa_pairs = []\n",
    "\n",
    "for idx, question in enumerate(questions, start=1):\n",
    "    response = qa_chain({\"query\": question})\n",
    "    qa_pairs.append({\"question\": question, \"answer\": response[\"result\"]})\n",
    "    print(f\"{idx}) {question}\")\n",
    "    print(f\"Answer: {response['result']}\\n\")"
   ]
  },
  {
   "cell_type": "code",
   "execution_count": 46,
   "metadata": {},
   "outputs": [],
   "source": [
    "import json\n",
    "\n",
    "with open(\"qa_pairs.json\", \"w\", encoding=\"utf-8\") as f:\n",
    "    json.dump(qa_pairs, f, ensure_ascii=False, indent=4)"
   ]
  },
  {
   "cell_type": "code",
   "execution_count": 48,
   "metadata": {},
   "outputs": [
    {
     "data": {
      "text/plain": [
       "[{'question': 'How old are you?',\n",
       "  'answer': 'You are 23 years old (as of 2025).'},\n",
       " {'question': 'What is your highest level of education?',\n",
       "  'answer': \"I don't know the answer to this question. The provided context doesn't mention Bidhan's highest level of education or any specific degree held by him.\"},\n",
       " {'question': 'What major or field of study did you pursue during your education?',\n",
       "  'answer': \"During my education, I pursued a Master's degree in Bidhan. Unfortunately, the provided context does not specify the exact major or field of study pursued by Bidhan.\"},\n",
       " {'question': 'How many years of work experience do you have?',\n",
       "  'answer': \"I don't know the exact number of years of work experience Bidhan has. However, he mentioned that his professional experience started in June 2023, but I don't have enough information to determine how long he has been working.\"},\n",
       " {'question': 'What type of work or industry have you been involved in?',\n",
       "  'answer': \"Based on the provided context, I can tell that Bidhan has been involved in developing and implementing various projects related to finance, investing, trading education, online platforms, and airplane ticket booking. The specific industries or types of work mentioned include:\\n\\n* Finance and investing\\n* Online education and training platforms (e.g., Moneyvest)\\n* Airplane ticket booking and management (Uddum)\\n\\nThese projects demonstrate Bidhan's expertise in building and integrating complex systems using various technologies such as AWS, React.js, Vue.js, Nuxt.js, and more.\"},\n",
       " {'question': 'Can you describe your current role or job responsibilities?',\n",
       "  'answer': \"I don't have information about Bidhan's current role or job responsibilities. The provided context only includes his professional experience and does not mention his current position or employer.\"},\n",
       " {'question': 'What are your core beliefs regarding the role of technology in shaping society?',\n",
       "  'answer': \"According to Bidhan's Beliefs & Philosophy section, his core beliefs regarding the role of technology in shaping society include:\\n\\n- Technology can drive societal progress if used ethically.\\n- Technology has the potential for negative consequences if misused.\\n- It is crucial to prioritize empathy and ethical responsibility when developing technology.\\n\\nThese beliefs emphasize the importance of responsible innovation and considering the impact of technology on people's lives.\"},\n",
       " {'question': 'How do you think cultural values should influence technological advancements?',\n",
       "  'answer': 'Bidhan believes that cultural values should influence technological advancements in a way that integrates traditional wisdom with modern technology. He thinks that technology should reflect cultural heritage while also promoting sustainable living and preserving nature.'},\n",
       " {'question': \"As a master's student, what is the most challenging aspect of your studies so far?\",\n",
       "  'answer': \"According to Bidhan's context, the most challenging aspect of his Master's studies so far is:\\n\\nFiguring out which field to primarily start out as a person in data science and integrating data science into his existing fields of interest.\"},\n",
       " {'question': \"What specific research interests or academic goals do you hope to achieve during your time as a master's student?\",\n",
       "  'answer': 'Bidhan does not explicitly state their specific research interests. However, they do mention that their primary goal is to learn useful ML concepts and apply them in real case scenarios, suggesting an interest in applying machine learning to practical problems.'}]"
      ]
     },
     "execution_count": 48,
     "metadata": {},
     "output_type": "execute_result"
    }
   ],
   "source": [
    "# json response\n",
    "qa_pairs"
   ]
  },
  {
   "cell_type": "markdown",
   "metadata": {},
   "source": [
    "# Analysis and Problem Solving"
   ]
  },
  {
   "cell_type": "markdown",
   "metadata": {},
   "source": []
  },
  {
   "cell_type": "code",
   "execution_count": 30,
   "metadata": {},
   "outputs": [],
   "source": [
    "# code here..."
   ]
  },
  {
   "cell_type": "code",
   "execution_count": 39,
   "metadata": {},
   "outputs": [],
   "source": [
    "from langchain.chains import create_retrieval_chain\n",
    "from langchain.chains.combine_documents import create_stuff_documents_chain"
   ]
  },
  {
   "cell_type": "code",
   "execution_count": 32,
   "metadata": {},
   "outputs": [],
   "source": [
    "prompt_template = \"\"\"\n",
    "    You are an assistant that provides useful information about Bidhan. Use the following pieces of retrieved context to answer the question. \n",
    "    If you don't know the answer, just say that you don't know. Use three sentences maximum and keep the answer concise.\n",
    "    {context}\n",
    "    Question: {input}\n",
    "    Answer:\n",
    "    \"\"\".strip()\n",
    "\n",
    "PROMPT2 = PromptTemplate(template= prompt_template)"
   ]
  },
  {
   "cell_type": "code",
   "execution_count": 33,
   "metadata": {},
   "outputs": [],
   "source": [
    "document_chain=create_stuff_documents_chain(llm, PROMPT2)"
   ]
  },
  {
   "cell_type": "code",
   "execution_count": 34,
   "metadata": {},
   "outputs": [],
   "source": [
    "retrieval_chain=create_retrieval_chain(retriever,document_chain)"
   ]
  },
  {
   "cell_type": "code",
   "execution_count": 35,
   "metadata": {},
   "outputs": [],
   "source": [
    "response=retrieval_chain.invoke({\"input\":\"What is your highest level of education?\"})"
   ]
  },
  {
   "cell_type": "code",
   "execution_count": 36,
   "metadata": {},
   "outputs": [
    {
     "data": {
      "text/plain": [
       "{'input': 'What is your highest level of education?',\n",
       " 'context': [Document(id='9bc22508-5e07-4ab5-9a1f-d41661a5e40a', metadata={'source': './data/aboutme.txt'}, page_content='Technical Skills:\\n- Programming Languages: Python, Java, JavaScript/TypeScript, C#, SQL\\n- Frameworks & Libraries: React, Node.js, Pandas, NumPy, Matplotlib, Scikit-Learn\\n\\nBeliefs & Philosophy:\\n- Technology as a Double-Edged Sword:– If used ethically, technology can drive societal progress, but if misused, it can lead to negative consequences.\\n- Data-Driven Decision Making:– Making informed decisions based on data and logical reasoning is crucial in both personal and professional life.\\n- Empathy & Ethical Responsibility:– The impact of technology on people’s lives should always be considered, and ethical practices should be prioritized in development.\\n- Cultural Identity in a Globalized World:– While globalization connects us, preserving cultural uniqueness is essential for diversity and innovation.\\n- Creativity & Problem-Solving:– Every challenge is an opportunity for creative solutions, and technology should be used to solve real-world problems efficiently.'),\n",
       "  Document(id='8010dec4-47aa-49db-b2e8-24df4382f1da', metadata={'source': './data/cv.txt'}, page_content='- Moneyvest (TypeScript, React.js, AWS Cognito, Ant-Design)\\n    - Built an online platform for finance, investing, and trading education.\\n    - Implemented AWS Cognito for secure user authentication.\\n    - Collaborated with an international client for API optimization and integration.\\n    - Designed data visualization graphs to improve user insights.\\n\\n- Uddum (Vue.js, Nuxt.js)\\n    - Developed an online airplane ticket booking platform.\\n    - Worked with experienced developers to optimize and resolve issues.\\n    - Implemented REST APIs and developed an intuitive UI/UX.\\n\\nAWARDS AND ACHIEVEMENT:\\n- AAA Scholarship Award (2022)\\n    - Recognized for exceptional Attitude, Attendance, and Academic performance.\\n\\nTECHNICAL SKILLS:\\nProgramming Languages: Python, Java, JavaScript/TypeScript, C#, SQL\\nTools: Git/GitHub, Jupyter Notebook, VS Code, IntelliJ, PyCharm, Docker, Tableau, AWS, PostgreSQL, MySQL\\nLibraries & Frameworks: Pandas, NumPy, Matplotlib, Scikit-Learn, React.js'),\n",
       "  Document(id='11d896d7-2807-4a2c-a048-1591d6b0b9f6', metadata={'source': './data/aboutme.txt'}, page_content='Cultural Values:\\n- Respect for Tradition & Innovation:– I value cultural heritage and believe that modern technology should integrate and reflect traditional wisdom rather than replace it.\\n- Community & Collaboration:– A strong sense of community is essential for growth, and I believe in using technology to bring people together rather than isolate them.\\n- Lifelong Learning & Adaptability:– Continuous learning is key to personal and professional growth, and I embrace change as an opportunity for innovation.\\n- Balance Between Nature & Technology:– Technology should be used responsibly to preserve nature and promote sustainable living.\\n\\nChallenges faced till now in Masters:\\n- Firguring out integrating data science into my fields of interests\\n- Managing time for personal projects\\n- Figuring out which field to primarily start out as a person in data science\\n- Catching up with advance ML concepts')],\n",
       " 'answer': \"I don't have information about Bidhan's highest level of education. The provided context only mentions an AAA Scholarship Award (2022), which implies that Bidhan has completed their Masters degree, but the specific level or field of study is not mentioned.\"}"
      ]
     },
     "execution_count": 36,
     "metadata": {},
     "output_type": "execute_result"
    }
   ],
   "source": [
    "response"
   ]
  },
  {
   "cell_type": "code",
   "execution_count": 37,
   "metadata": {},
   "outputs": [
    {
     "name": "stdout",
     "output_type": "stream",
     "text": [
      "1) How old are you?\n",
      "Answer: As of 2025, Bidhan Bajracharya is 23 years old.\n",
      "\n",
      "2) What is your highest level of education?\n",
      "Answer: I don't have information on the highest level of education provided by Bidhan. However, I can tell you that they hold an award (AAA Scholarship Award) and are currently pursuing a Master's degree.\n",
      "\n",
      "3) What major or field of study did you pursue during your education?\n",
      "Answer: I don't have information on the specific major or field of study pursued by Bidhan. The provided context does not mention this detail.\n",
      "\n",
      "4) How many years of work experience do you have?\n",
      "Answer: Bidhan has 1 year of work experience as a Junior Software Engineer. He does not have any prior work experience before that. His professional experience started in June 2023 and ended in May 2024.\n",
      "\n",
      "5) What type of work or industry have you been involved in?\n",
      "Answer: I've been involved in finance, investing, and trading education, specifically building an online platform that utilizes technology such as TypeScript, React.js, AWS Cognito, and Ant-Design. I collaborated with international clients and designed data visualization graphs to improve user insights. The work has been focused on creating a robust online platform for financial education.\n",
      "\n",
      "6) Can you describe your current role or job responsibilities?\n",
      "Answer: I don't know the specific details of Bidhan's current role or job responsibilities. However, according to his professional experience section, he has worked as a Junior Software Engineer at Vurilo Pvt. Ltd., where he conducted data analysis and implementation of various technologies such as ChatGPT plugins, AWS services, and REST APIs.\n",
      "\n",
      "7) What are your core beliefs regarding the role of technology in shaping society?\n",
      "Answer: I believe that technology can be a powerful force for societal progress when used ethically. On one hand, it has the potential to drive innovation and improve people's lives, but on the other hand, if misused, it can lead to negative consequences such as increased inequality and loss of traditional ways of life. Ultimately, I think that data-driven decision making and responsible technological practices are crucial for harnessing technology's full potential.\n",
      "\n",
      "8) How do you think cultural values should influence technological advancements?\n",
      "Answer: Cultural values should play a significant role in shaping technological advancements by integrating traditional wisdom with modern innovation. This can be achieved by prioritizing community and collaboration to foster inclusivity and responsible development, while also promoting lifelong learning and adaptability to ensure the technology serves the greater good. By doing so, we can harness technology's potential to drive societal progress while preserving cultural uniqueness.\n",
      "\n",
      "9) As a master's student, what is the most challenging aspect of your studies so far?\n",
      "Answer: As a master's student in data science, I've found managing time for personal projects to be particularly challenging. Balancing coursework with personal projects and ensuring that I'm not compromising on my academic responsibilities has been a constant struggle. This is often due to the sheer amount of content covered in courses and keeping up with advanced ML concepts can also be overwhelming at times.\n",
      "\n",
      "10) What specific research interests or academic goals do you hope to achieve during your time as a master's student?\n",
      "Answer: I don't know. The provided context doesn't mention the specific research interests or academic goals of the person. However, it does mention that they have no intention of doing research as their primary focus and are more focused on applying ML concepts in real case scenarios and getting into a good company for internship.\n",
      "\n"
     ]
    }
   ],
   "source": [
    "for idx, question in enumerate(questions, start=1):\n",
    "    response = retrieval_chain.invoke({\"input\": question})\n",
    "    print(f\"{idx}) {question}\")\n",
    "    print(f\"Answer: {response['answer']}\\n\")"
   ]
  },
  {
   "cell_type": "code",
   "execution_count": 38,
   "metadata": {},
   "outputs": [
    {
     "data": {
      "text/plain": [
       "[Document(id='9bc22508-5e07-4ab5-9a1f-d41661a5e40a', metadata={'source': './data/aboutme.txt'}, page_content='Technical Skills:\\n- Programming Languages: Python, Java, JavaScript/TypeScript, C#, SQL\\n- Frameworks & Libraries: React, Node.js, Pandas, NumPy, Matplotlib, Scikit-Learn\\n\\nBeliefs & Philosophy:\\n- Technology as a Double-Edged Sword:– If used ethically, technology can drive societal progress, but if misused, it can lead to negative consequences.\\n- Data-Driven Decision Making:– Making informed decisions based on data and logical reasoning is crucial in both personal and professional life.\\n- Empathy & Ethical Responsibility:– The impact of technology on people’s lives should always be considered, and ethical practices should be prioritized in development.\\n- Cultural Identity in a Globalized World:– While globalization connects us, preserving cultural uniqueness is essential for diversity and innovation.\\n- Creativity & Problem-Solving:– Every challenge is an opportunity for creative solutions, and technology should be used to solve real-world problems efficiently.'),\n",
       " Document(id='c20697ab-c5cf-4666-b7e3-7c1c56e8e2f5', metadata={'source': './data/aboutme.txt'}, page_content='My Personal Information:\\n\\nName: Bidhan Bajracharya\\nAge: 23 years (as of 2025)\\nBirthdate: September 14, 2001\\nGender: Male\\nNationality: Nepalese\\nHeight: 5\\'10\"\\nSkin tone: Brown\\n\\nEducation Background:\\n- Master’s Degree: Data Science and Artificial Intelligence (DSAI)\\n    - Institution: Asian Institute of Technology (AIT)\\n\\n- Bachelor’s Degree: BSc (Hons) in Computing\\n    - Institution: London Metropolitan University\\n\\nProfessional Experience:\\n- Software Engineer (1 year)\\n    - Industry: Education\\n- Currently not employed\\n\\nTechnical Skills:\\n- Programming Languages: Python, Java, JavaScript/TypeScript, C#, SQL\\n- Frameworks & Libraries: React, Node.js, Pandas, NumPy, Matplotlib, Scikit-Learn'),\n",
       " Document(id='73b494ef-9ec4-433f-8326-76f0a3a0beef', metadata={'source': './data/cv.txt'}, page_content='NAME: Bidhan Bajracharya\\n\\nEDUCATION BACKGROUND:\\n- Asian Institute Of Technology\\n    - Master of Science (M.S) - Data Science and AI | August 2024 - May 2026\\n\\n- Islington College (Affiliated to London Metropolitan University)\\n    - BSc (Hons) Computing | Feb 2021 – Dec 2023 | Final Percentage: 76.56%\\n\\n- Uniglobe SS/College\\n    - High School | Jan 2018 – Dec 2020 | CGPA: 3.78/4.0\\n\\nPROFESSIONAL EXPERIENCE:\\nVurilo Pvt. Ltd. | Junior Software Engineer (Jun 2023 – May 2024)\\n    - Worked on Agile methodology, ensuring successful development and timely delivery of tasks.\\n    - Conducted data analysis, interpretation, and utilization to enhance project efficiency.\\n    - Implemented ChatGPT plugins, AWS services, and REST APIs into project functionalities.'),\n",
       " Document(id='8010dec4-47aa-49db-b2e8-24df4382f1da', metadata={'source': './data/cv.txt'}, page_content='- Moneyvest (TypeScript, React.js, AWS Cognito, Ant-Design)\\n    - Built an online platform for finance, investing, and trading education.\\n    - Implemented AWS Cognito for secure user authentication.\\n    - Collaborated with an international client for API optimization and integration.\\n    - Designed data visualization graphs to improve user insights.\\n\\n- Uddum (Vue.js, Nuxt.js)\\n    - Developed an online airplane ticket booking platform.\\n    - Worked with experienced developers to optimize and resolve issues.\\n    - Implemented REST APIs and developed an intuitive UI/UX.\\n\\nAWARDS AND ACHIEVEMENT:\\n- AAA Scholarship Award (2022)\\n    - Recognized for exceptional Attitude, Attendance, and Academic performance.\\n\\nTECHNICAL SKILLS:\\nProgramming Languages: Python, Java, JavaScript/TypeScript, C#, SQL\\nTools: Git/GitHub, Jupyter Notebook, VS Code, IntelliJ, PyCharm, Docker, Tableau, AWS, PostgreSQL, MySQL\\nLibraries & Frameworks: Pandas, NumPy, Matplotlib, Scikit-Learn, React.js')]"
      ]
     },
     "execution_count": 38,
     "metadata": {},
     "output_type": "execute_result"
    }
   ],
   "source": [
    "vectordb.similarity_search(\"What is Bidhan's major?\")"
   ]
  },
  {
   "cell_type": "code",
   "execution_count": null,
   "metadata": {},
   "outputs": [],
   "source": []
  }
 ],
 "metadata": {
  "kernelspec": {
   "display_name": "langchain",
   "language": "python",
   "name": "python3"
  },
  "language_info": {
   "codemirror_mode": {
    "name": "ipython",
    "version": 3
   },
   "file_extension": ".py",
   "mimetype": "text/x-python",
   "name": "python",
   "nbconvert_exporter": "python",
   "pygments_lexer": "ipython3",
   "version": "3.11.11"
  }
 },
 "nbformat": 4,
 "nbformat_minor": 2
}
