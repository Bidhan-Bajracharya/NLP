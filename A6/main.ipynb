{
 "cells": [
  {
   "cell_type": "code",
   "execution_count": 83,
   "metadata": {},
   "outputs": [],
   "source": [
    "import os\n",
    "from langchain.prompts import PromptTemplate\n",
    "# from langchain_community.llms import Ollama\n",
    "from langchain_ollama import OllamaLLM\n",
    "from langchain.document_loaders import TextLoader\n",
    "from langchain_text_splitters import RecursiveCharacterTextSplitter\n",
    "from langchain_huggingface import HuggingFaceEmbeddings\n",
    "from langchain.vectorstores import FAISS"
   ]
  },
  {
   "cell_type": "markdown",
   "metadata": {},
   "source": [
    "# Prompt"
   ]
  },
  {
   "cell_type": "code",
   "execution_count": 84,
   "metadata": {},
   "outputs": [
    {
     "data": {
      "text/plain": [
       "PromptTemplate(input_variables=['context', 'question'], input_types={}, partial_variables={}, template=\"You are an assistant that provides useful information about Bidhan. Use the following pieces of retrieved context to answer the question. \\n    If the question is about Bidhan's education, summarize his degrees, institutions, and fields of study.\\n    If you don't know the answer, just say that you don't know. Keep the answer concise.\\n    {context}\\n    Question: {question}\\n    Answer:\")"
      ]
     },
     "execution_count": 84,
     "metadata": {},
     "output_type": "execute_result"
    }
   ],
   "source": [
    "prompt_template = \"\"\"\n",
    "    You are an assistant that provides useful information about Bidhan. Use the following pieces of retrieved context to answer the question. \n",
    "    If the question is about Bidhan's education, summarize his degrees, institutions, and fields of study.\n",
    "    If you don't know the answer, just say that you don't know. Keep the answer concise.\n",
    "    {context}\n",
    "    Question: {question}\n",
    "    Answer:\n",
    "    \"\"\".strip()\n",
    "\n",
    "PROMPT = PromptTemplate(template= prompt_template)\n",
    "PROMPT"
   ]
  },
  {
   "cell_type": "markdown",
   "metadata": {},
   "source": [
    "# Model"
   ]
  },
  {
   "cell_type": "code",
   "execution_count": 85,
   "metadata": {},
   "outputs": [
    {
     "data": {
      "text/plain": [
       "OllamaLLM(model='llama3.2')"
      ]
     },
     "execution_count": 85,
     "metadata": {},
     "output_type": "execute_result"
    }
   ],
   "source": [
    "llm = OllamaLLM(model=\"llama3.2\")\n",
    "llm"
   ]
  },
  {
   "cell_type": "code",
   "execution_count": 86,
   "metadata": {},
   "outputs": [
    {
     "data": {
      "text/plain": [
       "'How can I assist you today?'"
      ]
     },
     "execution_count": 86,
     "metadata": {},
     "output_type": "execute_result"
    }
   ],
   "source": [
    "# testing the llm\n",
    "llm.invoke(\"Hello!\")"
   ]
  },
  {
   "cell_type": "markdown",
   "metadata": {},
   "source": [
    "# Document Loaders\n",
    "Data for the context was sourced from my resume and my personal information and beliefs which were all put into two files available in the `data` folder."
   ]
  },
  {
   "cell_type": "code",
   "execution_count": null,
   "metadata": {},
   "outputs": [],
   "source": [
    "all_documents = []\n",
    "\n",
    "files = ['./data/aboutme.txt', './data/cv.txt']\n",
    "for file in files:\n",
    "    loader = TextLoader(file)\n",
    "    documents = loader.load()\n",
    "    all_documents.extend(documents)"
   ]
  },
  {
   "cell_type": "code",
   "execution_count": 88,
   "metadata": {},
   "outputs": [
    {
     "data": {
      "text/plain": [
       "[Document(metadata={'source': './data/aboutme.txt'}, page_content='My Personal Information:\\n\\nName: Bidhan Bajracharya\\nAge: 23 years (as of 2025)\\nBirthdate: September 14, 2001\\nGender: Male\\nNationality: Nepalese\\nHeight: 5\\'10\"\\nSkin tone: Brown\\nYear(s) of work experience: 1 year\\nCurrent role or job responsibility: Student (no jobs)\\nMajor or field I pursued during my education: Data science\\nHighest level of education: Masters\\n\\nEducation Background:\\n- Master’s Degree: Data Science and Artificial Intelligence (DSAI)\\n    - Institution: Asian Institute of Technology (AIT)\\n\\n- Bachelor’s Degree: BSc (Hons) in Computing\\n    - Institution: London Metropolitan University\\n\\nProfessional Experience:\\n- Software Engineer (1 year)\\n    - Industry: Education\\n- Currently not employed\\n\\nTechnical Skills:\\n- Programming Languages: Python, Java, JavaScript/TypeScript, C#, SQL\\n- Frameworks & Libraries: React, Node.js, Pandas, NumPy, Matplotlib, Scikit-Learn\\n\\nBeliefs & Philosophy:\\n- Technology as a Double-Edged Sword:– If used ethically, technology can drive societal progress, but if misused, it can lead to negative consequences.\\n- Data-Driven Decision Making:– Making informed decisions based on data and logical reasoning is crucial in both personal and professional life.\\n- Empathy & Ethical Responsibility:– The impact of technology on people’s lives should always be considered, and ethical practices should be prioritized in development.\\n- Cultural Identity in a Globalized World:– While globalization connects us, preserving cultural uniqueness is essential for diversity and innovation.\\n- Creativity & Problem-Solving:– Every challenge is an opportunity for creative solutions, and technology should be used to solve real-world problems efficiently.\\n\\nCultural Values:\\n- Respect for Tradition & Innovation:– I value cultural heritage and believe that modern technology should integrate and reflect traditional wisdom rather than replace it.\\n- Community & Collaboration:– A strong sense of community is essential for growth, and I believe in using technology to bring people together rather than isolate them.\\n- Lifelong Learning & Adaptability:– Continuous learning is key to personal and professional growth, and I embrace change as an opportunity for innovation.\\n- Balance Between Nature & Technology:– Technology should be used responsibly to preserve nature and promote sustainable living.\\n\\nChallenges faced till now in Masters:\\n- Firguring out integrating data science into my fields of interests\\n- Managing time for personal projects\\n- Figuring out which field to primarily start out as a person in data science\\n- Catching up with advance ML concepts\\n\\nGoals hoping to achieve as master\\'s student:\\n- Learn useful ML concepts and apply them in real case scenarios\\n- Get into a good company for internship\\n- Network with good people and grow and learn from them\\n- Currently, have no intention of doing research as job is the primary focus\\n'),\n",
       " Document(metadata={'source': './data/cv.txt'}, page_content='NAME: Bidhan Bajracharya\\n\\nEDUCATION BACKGROUND:\\n- Asian Institute Of Technology\\n    - Master of Science (M.S) - Data Science and AI | August 2024 - May 2026\\n\\n- Islington College (Affiliated to London Metropolitan University)\\n    - BSc (Hons) Computing | Feb 2021 – Dec 2023 | Final Percentage: 76.56%\\n\\n- Uniglobe SS/College\\n    - High School | Jan 2018 – Dec 2020 | CGPA: 3.78/4.0\\n\\nPROFESSIONAL EXPERIENCE:\\nVurilo Pvt. Ltd. | Junior Software Engineer (Jun 2023 – May 2024)\\n    - Worked on Agile methodology, ensuring successful development and timely delivery of tasks.\\n    - Conducted data analysis, interpretation, and utilization to enhance project efficiency.\\n    - Implemented ChatGPT plugins, AWS services, and REST APIs into project functionalities.\\n\\nLevel 9 Tech | Front-end Developer Intern (Aug 2022 – Dec 2022)\\n    - Collaborated with a team of developers to build and maintain web applications.\\n    - Utilized Git and GitHub to manage project workflows.\\n    - Developed new features and improved existing functionalities to enhance user experience.\\n\\nPROJECTS:\\n- Vurilo Insights (Python, SQL)\\n    - Extracted data from APIs, databases, and CSV files using Python and SQL.\\n    - Pre-processed raw data with Pandas and NumPy, handling missing values and inconsistencies.\\n    - Conducted exploratory data analysis (EDA) with statistical methods and visualization techniques.\\n    - Created interactive dashboards using Matplotlib, Seaborn, and Plotly.\\n\\n- Vurilo (TypeScript, Next.js, React.js, Tailwind, Firebase)\\n    - Developed an E-Learning platform for students.\\n    - Used Next.js for server-side rendering to enhance user experience.\\n    - Integrated Firebase for secure authentication and real-time data synchronization.\\n\\n- Moneyvest (TypeScript, React.js, AWS Cognito, Ant-Design)\\n    - Built an online platform for finance, investing, and trading education.\\n    - Implemented AWS Cognito for secure user authentication.\\n    - Collaborated with an international client for API optimization and integration.\\n    - Designed data visualization graphs to improve user insights.\\n\\n- Uddum (Vue.js, Nuxt.js)\\n    - Developed an online airplane ticket booking platform.\\n    - Worked with experienced developers to optimize and resolve issues.\\n    - Implemented REST APIs and developed an intuitive UI/UX.\\n\\nAWARDS AND ACHIEVEMENT:\\n- AAA Scholarship Award (2022)\\n    - Recognized for exceptional Attitude, Attendance, and Academic performance.\\n\\nTECHNICAL SKILLS:\\nProgramming Languages: Python, Java, JavaScript/TypeScript, C#, SQL\\nTools: Git/GitHub, Jupyter Notebook, VS Code, IntelliJ, PyCharm, Docker, Tableau, AWS, PostgreSQL, MySQL\\nLibraries & Frameworks: Pandas, NumPy, Matplotlib, Scikit-Learn, React.js\\n\\nEXTRACURRICULAR ACTIVITIES:\\n- Arts and Culture Club (2018 – 2020)\\n    - Participated in creative competitions, showcasing artistic talents.\\n    - Hosted club activities, promoting cultural appreciation and creativity.\\n    - Collaborated with peers to organize and execute events.\\n\\n- Student Academic Representative (2021 & 2023)\\n    - Represented class interests and facilitated communication between students and faculty.\\n    - Organized weekly forms to document and communicate student feedback.\\n    - Participated in faculty meetings to address academic concerns.')]"
      ]
     },
     "execution_count": 88,
     "metadata": {},
     "output_type": "execute_result"
    }
   ],
   "source": [
    "all_documents"
   ]
  },
  {
   "cell_type": "markdown",
   "metadata": {},
   "source": [
    "## Document Transformers"
   ]
  },
  {
   "cell_type": "code",
   "execution_count": null,
   "metadata": {},
   "outputs": [],
   "source": [
    "text_splitter = RecursiveCharacterTextSplitter(chunk_size=800, chunk_overlap=200)\n",
    "doc = text_splitter.split_documents(all_documents)"
   ]
  },
  {
   "cell_type": "code",
   "execution_count": 90,
   "metadata": {},
   "outputs": [
    {
     "data": {
      "text/plain": [
       "[Document(metadata={'source': './data/aboutme.txt'}, page_content='My Personal Information:\\n\\nName: Bidhan Bajracharya\\nAge: 23 years (as of 2025)\\nBirthdate: September 14, 2001\\nGender: Male\\nNationality: Nepalese\\nHeight: 5\\'10\"\\nSkin tone: Brown\\nYear(s) of work experience: 1 year\\nCurrent role or job responsibility: Student (no jobs)\\nMajor or field I pursued during my education: Data science\\nHighest level of education: Masters'),\n",
       " Document(metadata={'source': './data/aboutme.txt'}, page_content='Education Background:\\n- Master’s Degree: Data Science and Artificial Intelligence (DSAI)\\n    - Institution: Asian Institute of Technology (AIT)\\n\\n- Bachelor’s Degree: BSc (Hons) in Computing\\n    - Institution: London Metropolitan University\\n\\nProfessional Experience:\\n- Software Engineer (1 year)\\n    - Industry: Education\\n- Currently not employed'),\n",
       " Document(metadata={'source': './data/aboutme.txt'}, page_content='Professional Experience:\\n- Software Engineer (1 year)\\n    - Industry: Education\\n- Currently not employed\\n\\nTechnical Skills:\\n- Programming Languages: Python, Java, JavaScript/TypeScript, C#, SQL\\n- Frameworks & Libraries: React, Node.js, Pandas, NumPy, Matplotlib, Scikit-Learn'),\n",
       " Document(metadata={'source': './data/aboutme.txt'}, page_content='Beliefs & Philosophy:\\n- Technology as a Double-Edged Sword:– If used ethically, technology can drive societal progress, but if misused, it can lead to negative consequences.\\n- Data-Driven Decision Making:– Making informed decisions based on data and logical reasoning is crucial in both personal and professional life.\\n- Empathy & Ethical Responsibility:– The impact of technology on people’s lives should always be considered, and ethical practices should be prioritized in development.'),\n",
       " Document(metadata={'source': './data/aboutme.txt'}, page_content='- Empathy & Ethical Responsibility:– The impact of technology on people’s lives should always be considered, and ethical practices should be prioritized in development.\\n- Cultural Identity in a Globalized World:– While globalization connects us, preserving cultural uniqueness is essential for diversity and innovation.\\n- Creativity & Problem-Solving:– Every challenge is an opportunity for creative solutions, and technology should be used to solve real-world problems efficiently.'),\n",
       " Document(metadata={'source': './data/aboutme.txt'}, page_content='Cultural Values:\\n- Respect for Tradition & Innovation:– I value cultural heritage and believe that modern technology should integrate and reflect traditional wisdom rather than replace it.\\n- Community & Collaboration:– A strong sense of community is essential for growth, and I believe in using technology to bring people together rather than isolate them.'),\n",
       " Document(metadata={'source': './data/aboutme.txt'}, page_content='- Community & Collaboration:– A strong sense of community is essential for growth, and I believe in using technology to bring people together rather than isolate them.\\n- Lifelong Learning & Adaptability:– Continuous learning is key to personal and professional growth, and I embrace change as an opportunity for innovation.\\n- Balance Between Nature & Technology:– Technology should be used responsibly to preserve nature and promote sustainable living.'),\n",
       " Document(metadata={'source': './data/aboutme.txt'}, page_content='Challenges faced till now in Masters:\\n- Firguring out integrating data science into my fields of interests\\n- Managing time for personal projects\\n- Figuring out which field to primarily start out as a person in data science\\n- Catching up with advance ML concepts'),\n",
       " Document(metadata={'source': './data/aboutme.txt'}, page_content=\"Goals hoping to achieve as master's student:\\n- Learn useful ML concepts and apply them in real case scenarios\\n- Get into a good company for internship\\n- Network with good people and grow and learn from them\\n- Currently, have no intention of doing research as job is the primary focus\"),\n",
       " Document(metadata={'source': './data/cv.txt'}, page_content='NAME: Bidhan Bajracharya\\n\\nEDUCATION BACKGROUND:\\n- Asian Institute Of Technology\\n    - Master of Science (M.S) - Data Science and AI | August 2024 - May 2026\\n\\n- Islington College (Affiliated to London Metropolitan University)\\n    - BSc (Hons) Computing | Feb 2021 – Dec 2023 | Final Percentage: 76.56%\\n\\n- Uniglobe SS/College\\n    - High School | Jan 2018 – Dec 2020 | CGPA: 3.78/4.0'),\n",
       " Document(metadata={'source': './data/cv.txt'}, page_content='- Uniglobe SS/College\\n    - High School | Jan 2018 – Dec 2020 | CGPA: 3.78/4.0\\n\\nPROFESSIONAL EXPERIENCE:\\nVurilo Pvt. Ltd. | Junior Software Engineer (Jun 2023 – May 2024)\\n    - Worked on Agile methodology, ensuring successful development and timely delivery of tasks.\\n    - Conducted data analysis, interpretation, and utilization to enhance project efficiency.\\n    - Implemented ChatGPT plugins, AWS services, and REST APIs into project functionalities.'),\n",
       " Document(metadata={'source': './data/cv.txt'}, page_content='Level 9 Tech | Front-end Developer Intern (Aug 2022 – Dec 2022)\\n    - Collaborated with a team of developers to build and maintain web applications.\\n    - Utilized Git and GitHub to manage project workflows.\\n    - Developed new features and improved existing functionalities to enhance user experience.'),\n",
       " Document(metadata={'source': './data/cv.txt'}, page_content='PROJECTS:\\n- Vurilo Insights (Python, SQL)\\n    - Extracted data from APIs, databases, and CSV files using Python and SQL.\\n    - Pre-processed raw data with Pandas and NumPy, handling missing values and inconsistencies.\\n    - Conducted exploratory data analysis (EDA) with statistical methods and visualization techniques.\\n    - Created interactive dashboards using Matplotlib, Seaborn, and Plotly.'),\n",
       " Document(metadata={'source': './data/cv.txt'}, page_content='- Vurilo (TypeScript, Next.js, React.js, Tailwind, Firebase)\\n    - Developed an E-Learning platform for students.\\n    - Used Next.js for server-side rendering to enhance user experience.\\n    - Integrated Firebase for secure authentication and real-time data synchronization.'),\n",
       " Document(metadata={'source': './data/cv.txt'}, page_content='- Moneyvest (TypeScript, React.js, AWS Cognito, Ant-Design)\\n    - Built an online platform for finance, investing, and trading education.\\n    - Implemented AWS Cognito for secure user authentication.\\n    - Collaborated with an international client for API optimization and integration.\\n    - Designed data visualization graphs to improve user insights.'),\n",
       " Document(metadata={'source': './data/cv.txt'}, page_content='- Uddum (Vue.js, Nuxt.js)\\n    - Developed an online airplane ticket booking platform.\\n    - Worked with experienced developers to optimize and resolve issues.\\n    - Implemented REST APIs and developed an intuitive UI/UX.\\n\\nAWARDS AND ACHIEVEMENT:\\n- AAA Scholarship Award (2022)\\n    - Recognized for exceptional Attitude, Attendance, and Academic performance.'),\n",
       " Document(metadata={'source': './data/cv.txt'}, page_content='AWARDS AND ACHIEVEMENT:\\n- AAA Scholarship Award (2022)\\n    - Recognized for exceptional Attitude, Attendance, and Academic performance.\\n\\nTECHNICAL SKILLS:\\nProgramming Languages: Python, Java, JavaScript/TypeScript, C#, SQL\\nTools: Git/GitHub, Jupyter Notebook, VS Code, IntelliJ, PyCharm, Docker, Tableau, AWS, PostgreSQL, MySQL\\nLibraries & Frameworks: Pandas, NumPy, Matplotlib, Scikit-Learn, React.js'),\n",
       " Document(metadata={'source': './data/cv.txt'}, page_content='EXTRACURRICULAR ACTIVITIES:\\n- Arts and Culture Club (2018 – 2020)\\n    - Participated in creative competitions, showcasing artistic talents.\\n    - Hosted club activities, promoting cultural appreciation and creativity.\\n    - Collaborated with peers to organize and execute events.'),\n",
       " Document(metadata={'source': './data/cv.txt'}, page_content='- Student Academic Representative (2021 & 2023)\\n    - Represented class interests and facilitated communication between students and faculty.\\n    - Organized weekly forms to document and communicate student feedback.\\n    - Participated in faculty meetings to address academic concerns.')]"
      ]
     },
     "execution_count": 90,
     "metadata": {},
     "output_type": "execute_result"
    }
   ],
   "source": [
    "doc "
   ]
  },
  {
   "cell_type": "markdown",
   "metadata": {},
   "source": [
    "## Text Embedding Models\n",
    "Source: https://huggingface.co/sentence-transformers/all-mpnet-base-v2"
   ]
  },
  {
   "cell_type": "code",
   "execution_count": 91,
   "metadata": {},
   "outputs": [],
   "source": [
    "embedding_model = HuggingFaceEmbeddings(model_name=\"sentence-transformers/all-mpnet-base-v2\")"
   ]
  },
  {
   "cell_type": "markdown",
   "metadata": {},
   "source": [
    "## Vector Stores"
   ]
  },
  {
   "cell_type": "code",
   "execution_count": 92,
   "metadata": {},
   "outputs": [],
   "source": [
    "vector_path = './vector-store'\n",
    "if not os.path.exists(vector_path):\n",
    "    os.makedirs(vector_path)\n",
    "    print('create path done')"
   ]
  },
  {
   "cell_type": "code",
   "execution_count": 93,
   "metadata": {},
   "outputs": [],
   "source": [
    "db_file_name = 'personal_info'\n",
    "\n",
    "# load the vector store if it exists\n",
    "if os.path.exists(os.path.join(vector_path, db_file_name)):\n",
    "        vectordb = FAISS.load_local(\n",
    "            folder_path=os.path.join(vector_path, db_file_name),\n",
    "            embeddings=embedding_model,\n",
    "            allow_dangerous_deserialization=True # because I'm sure the file is safe\n",
    "        )\n",
    "else:\n",
    "    vectordb = FAISS.from_documents(\n",
    "        documents = doc,\n",
    "        embedding = embedding_model\n",
    "    )\n",
    "\n",
    "    vectordb.save_local(\n",
    "        folder_path = os.path.join(vector_path, db_file_name)\n",
    "    )"
   ]
  },
  {
   "cell_type": "markdown",
   "metadata": {},
   "source": [
    "## Retrievers"
   ]
  },
  {
   "cell_type": "code",
   "execution_count": 94,
   "metadata": {},
   "outputs": [],
   "source": [
    "retriever = vectordb.as_retriever(search_kwargs={\"k\": 5})"
   ]
  },
  {
   "cell_type": "code",
   "execution_count": 95,
   "metadata": {},
   "outputs": [
    {
     "data": {
      "text/plain": [
       "[Document(id='5dbec3bd-e895-45de-89a5-3fcd9f257314', metadata={'source': './data/aboutme.txt'}, page_content='My Personal Information:\\n\\nName: Bidhan Bajracharya\\nAge: 23 years (as of 2025)\\nBirthdate: September 14, 2001\\nGender: Male\\nNationality: Nepalese\\nHeight: 5\\'10\"\\nSkin tone: Brown\\nYear(s) of work experience: 1 year\\nCurrent role or job responsibility: Student (no jobs)\\nMajor or field I pursued during my education: Data science\\nHighest level of education: Masters'),\n",
       " Document(id='8f5dee91-2543-471d-a6b6-0810f83a8244', metadata={'source': './data/cv.txt'}, page_content='Level 9 Tech | Front-end Developer Intern (Aug 2022 – Dec 2022)\\n    - Collaborated with a team of developers to build and maintain web applications.\\n    - Utilized Git and GitHub to manage project workflows.\\n    - Developed new features and improved existing functionalities to enhance user experience.'),\n",
       " Document(id='ffc13378-926e-4c92-8bfb-fe81e0b7efe9', metadata={'source': './data/cv.txt'}, page_content='- Uddum (Vue.js, Nuxt.js)\\n    - Developed an online airplane ticket booking platform.\\n    - Worked with experienced developers to optimize and resolve issues.\\n    - Implemented REST APIs and developed an intuitive UI/UX.\\n\\nAWARDS AND ACHIEVEMENT:\\n- AAA Scholarship Award (2022)\\n    - Recognized for exceptional Attitude, Attendance, and Academic performance.'),\n",
       " Document(id='1ea1b32a-dea1-492f-99b0-7f994dc36dc7', metadata={'source': './data/cv.txt'}, page_content='AWARDS AND ACHIEVEMENT:\\n- AAA Scholarship Award (2022)\\n    - Recognized for exceptional Attitude, Attendance, and Academic performance.\\n\\nTECHNICAL SKILLS:\\nProgramming Languages: Python, Java, JavaScript/TypeScript, C#, SQL\\nTools: Git/GitHub, Jupyter Notebook, VS Code, IntelliJ, PyCharm, Docker, Tableau, AWS, PostgreSQL, MySQL\\nLibraries & Frameworks: Pandas, NumPy, Matplotlib, Scikit-Learn, React.js'),\n",
       " Document(id='5291c8c2-b2c0-4fda-981a-c527599eda34', metadata={'source': './data/cv.txt'}, page_content='- Moneyvest (TypeScript, React.js, AWS Cognito, Ant-Design)\\n    - Built an online platform for finance, investing, and trading education.\\n    - Implemented AWS Cognito for secure user authentication.\\n    - Collaborated with an international client for API optimization and integration.\\n    - Designed data visualization graphs to improve user insights.')]"
      ]
     },
     "execution_count": 95,
     "metadata": {},
     "output_type": "execute_result"
    }
   ],
   "source": [
    "retriever.get_relevant_documents(\"What is your name?\")"
   ]
  },
  {
   "cell_type": "markdown",
   "metadata": {},
   "source": [
    "# Memory"
   ]
  },
  {
   "cell_type": "code",
   "execution_count": 96,
   "metadata": {},
   "outputs": [],
   "source": [
    "from langchain.memory import ChatMessageHistory"
   ]
  },
  {
   "cell_type": "code",
   "execution_count": 97,
   "metadata": {},
   "outputs": [
    {
     "data": {
      "text/plain": [
       "InMemoryChatMessageHistory(messages=[])"
      ]
     },
     "execution_count": 97,
     "metadata": {},
     "output_type": "execute_result"
    }
   ],
   "source": [
    "history = ChatMessageHistory()\n",
    "history"
   ]
  },
  {
   "cell_type": "code",
   "execution_count": 100,
   "metadata": {},
   "outputs": [],
   "source": [
    "from langchain.memory import ConversationBufferMemory"
   ]
  },
  {
   "cell_type": "code",
   "execution_count": null,
   "metadata": {},
   "outputs": [],
   "source": [
    "memory = ConversationBufferMemory(memory_key=\"chat_history\", input_key=\"question\", output_key=\"answer\")"
   ]
  },
  {
   "cell_type": "markdown",
   "metadata": {},
   "source": [
    "# Chain"
   ]
  },
  {
   "cell_type": "code",
   "execution_count": 104,
   "metadata": {},
   "outputs": [],
   "source": [
    "from langchain.chains import RetrievalQA"
   ]
  },
  {
   "cell_type": "code",
   "execution_count": 105,
   "metadata": {},
   "outputs": [],
   "source": [
    "qa_chain = RetrievalQA.from_chain_type(\n",
    "    llm = llm,\n",
    "    chain_type = \"stuff\",\n",
    "    retriever = retriever,\n",
    "    return_source_documents = True,\n",
    "    chain_type_kwargs={\"prompt\": PROMPT}\n",
    ")"
   ]
  },
  {
   "cell_type": "code",
   "execution_count": 106,
   "metadata": {},
   "outputs": [],
   "source": [
    "result = qa_chain({\"query\": \"What is my birthdate?\"})\n",
    "answer = result.get('result', '')"
   ]
  },
  {
   "cell_type": "code",
   "execution_count": 107,
   "metadata": {},
   "outputs": [],
   "source": [
    "sources = []\n",
    "source_docs = result.get('source_documents', [])\n",
    "for doc in source_docs:\n",
    "    source = {\n",
    "        \"content\": doc.page_content[:150] + \"...\",\n",
    "        \"source\": doc.metadata.get('source', 'Unknown Source')\n",
    "    }\n",
    "    sources.append(source)"
   ]
  },
  {
   "cell_type": "code",
   "execution_count": 108,
   "metadata": {},
   "outputs": [
    {
     "data": {
      "text/plain": [
       "[{'content': 'My Personal Information:\\n\\nName: Bidhan Bajracharya\\nAge: 23 years (as of 2025)\\nBirthdate: September 14, 2001\\nGender: Male\\nNationality: Nepalese\\nHeight:...',\n",
       "  'source': './data/aboutme.txt'},\n",
       " {'content': 'NAME: Bidhan Bajracharya\\n\\nEDUCATION BACKGROUND:\\n- Asian Institute Of Technology\\n    - Master of Science (M.S) - Data Science and AI | August 2024 - Ma...',\n",
       "  'source': './data/cv.txt'},\n",
       " {'content': '- Uddum (Vue.js, Nuxt.js)\\n    - Developed an online airplane ticket booking platform.\\n    - Worked with experienced developers to optimize and resolve...',\n",
       "  'source': './data/cv.txt'},\n",
       " {'content': 'Level 9 Tech | Front-end Developer Intern (Aug 2022 – Dec 2022)\\n    - Collaborated with a team of developers to build and maintain web applications.\\n ...',\n",
       "  'source': './data/cv.txt'},\n",
       " {'content': 'AWARDS AND ACHIEVEMENT:\\n- AAA Scholarship Award (2022)\\n    - Recognized for exceptional Attitude, Attendance, and Academic performance.\\n\\nTECHNICAL SKI...',\n",
       "  'source': './data/cv.txt'}]"
      ]
     },
     "execution_count": 108,
     "metadata": {},
     "output_type": "execute_result"
    }
   ],
   "source": [
    "sources"
   ]
  },
  {
   "cell_type": "code",
   "execution_count": 109,
   "metadata": {},
   "outputs": [
    {
     "data": {
      "text/plain": [
       "'Your birthdate is September 14, 2001.'"
      ]
     },
     "execution_count": 109,
     "metadata": {},
     "output_type": "execute_result"
    }
   ],
   "source": [
    "answer"
   ]
  },
  {
   "cell_type": "markdown",
   "metadata": {},
   "source": [
    "## Queries"
   ]
  },
  {
   "cell_type": "code",
   "execution_count": 110,
   "metadata": {},
   "outputs": [],
   "source": [
    "questions = [\n",
    " \"How old are you?\",\n",
    " \"What is your highest level of education?\",\n",
    " \"What major or field of study did you pursue during your education?\",\n",
    " \"How many years of work experience do you have?\",\n",
    " \"What type of work or industry have you been involved in?\",\n",
    " \"Can you describe your current role or job responsibilities?\",\n",
    " \"What are your core beliefs regarding the role of technology in shaping society?\",\n",
    " \"How do you think cultural values should influence technological advancements?\",\n",
    " \"As a master's student, what is the most challenging aspect of your studies so far?\",\n",
    " \"What specific research interests or academic goals do you hope to achieve during your time as a master's student?\"\n",
    "]"
   ]
  },
  {
   "cell_type": "code",
   "execution_count": 111,
   "metadata": {},
   "outputs": [
    {
     "name": "stdout",
     "output_type": "stream",
     "text": [
      "1) How old are you?\n",
      "Answer: You are 23 years old (as of 2025).\n",
      "\n",
      "2) What is your highest level of education?\n",
      "Answer: Your highest level of education is a Master's degree, specifically in Data Science and Artificial Intelligence (DSAI) from Asian Institute Of Technology.\n",
      "\n",
      "3) What major or field of study did you pursue during your education?\n",
      "Answer: Bidhan pursued a BSc (Hons) in Computing from Islington College (Affiliated to London Metropolitan University), and later completed his Master's degree in Data Science and AI from the Asian Institute Of Technology.\n",
      "\n",
      "4) How many years of work experience do you have?\n",
      "Answer: You have 1 year of work experience as a Software Engineer in the education industry.\n",
      "\n",
      "5) What type of work or industry have you been involved in?\n",
      "Answer: Bidhan has been involved in the following types of work and industries:\n",
      "\n",
      "1. Education (as a Software Engineer for 1 year)\n",
      "2. IT and software development (as a Junior Software Engineer at Vurilo Pvt. Ltd., which is likely an IT company)\n",
      "3. Data analysis and science (applying concepts learned through Masters education, though specific details are not provided)\n",
      "\n",
      "He has worked on various projects, including web applications, data analysis, and machine learning-related tasks.\n",
      "\n",
      "6) Can you describe your current role or job responsibilities?\n",
      "Answer: As per the provided context, Bidhan is currently a student with no formal job responsibilities mentioned. However, his role as a Student Academic Representative in previous years (2021 & 2023) involved representing class interests and facilitating communication between students and faculty.\n",
      "\n",
      "7) What are your core beliefs regarding the role of technology in shaping society?\n",
      "Answer: Bidhan's core belief is that technology can be a double-edged sword, driving societal progress when used ethically but leading to negative consequences if misused. He emphasizes the importance of using data-driven decision-making, prioritizing empathy and ethical responsibility, and promoting balance between nature and technology.\n",
      "\n",
      "8) How do you think cultural values should influence technological advancements?\n",
      "Answer: According to the provided context, Bidhan's cultural values that may influence technological advancements include:\n",
      "\n",
      "1. Respect for Tradition & Innovation: Integrating traditional wisdom with modern technology.\n",
      "2. Community & Collaboration: Using technology to bring people together rather than isolate them.\n",
      "3. Empathy & Ethical Responsibility: Considering the impact of technology on people's lives and prioritizing ethical practices.\n",
      "\n",
      "These values suggest that Bidhan believes in creating a balance between preserving cultural heritage and embracing innovation, while also prioritizing community, empathy, and ethical responsibility in technological development.\n",
      "\n",
      "9) As a master's student, what is the most challenging aspect of your studies so far?\n",
      "Answer: As a Master's student in Data Science and AI at Asian Institute Of Technology, Bidhan has faced challenges such as integrating data science into his fields of interest, managing time for personal projects, figuring out which field to primarily focus on, and catching up with advanced ML concepts.\n",
      "\n",
      "10) What specific research interests or academic goals do you hope to achieve during your time as a master's student?\n",
      "Answer: During his time as a master's student, Bidhan aims to:\n",
      "\n",
      "1. Learn useful ML concepts and apply them in real-case scenarios\n",
      "2. Get into a good company for an internship\n",
      "3. Network with good people and grow/learn from them\n",
      "4. Currently has no intention of doing research, focusing on job opportunities\n",
      "\n",
      "He doesn't specify any particular research interests or academic goals.\n",
      "\n"
     ]
    }
   ],
   "source": [
    "qa_pairs = []\n",
    "\n",
    "for idx, question in enumerate(questions, start=1):\n",
    "    response = qa_chain({\"query\": question})\n",
    "    qa_pairs.append({\"question\": question, \"answer\": response[\"result\"]})\n",
    "    print(f\"{idx}) {question}\")\n",
    "    print(f\"Answer: {response['result']}\\n\")"
   ]
  },
  {
   "cell_type": "code",
   "execution_count": 112,
   "metadata": {},
   "outputs": [],
   "source": [
    "import json\n",
    "\n",
    "with open(\"qa_pairs.json\", \"w\", encoding=\"utf-8\") as f:\n",
    "    json.dump(qa_pairs, f, ensure_ascii=False, indent=4)"
   ]
  },
  {
   "cell_type": "code",
   "execution_count": 113,
   "metadata": {},
   "outputs": [
    {
     "data": {
      "text/plain": [
       "[{'question': 'How old are you?',\n",
       "  'answer': 'You are 23 years old (as of 2025).'},\n",
       " {'question': 'What is your highest level of education?',\n",
       "  'answer': \"Your highest level of education is a Master's degree, specifically in Data Science and Artificial Intelligence (DSAI) from Asian Institute Of Technology.\"},\n",
       " {'question': 'What major or field of study did you pursue during your education?',\n",
       "  'answer': \"Bidhan pursued a BSc (Hons) in Computing from Islington College (Affiliated to London Metropolitan University), and later completed his Master's degree in Data Science and AI from the Asian Institute Of Technology.\"},\n",
       " {'question': 'How many years of work experience do you have?',\n",
       "  'answer': 'You have 1 year of work experience as a Software Engineer in the education industry.'},\n",
       " {'question': 'What type of work or industry have you been involved in?',\n",
       "  'answer': 'Bidhan has been involved in the following types of work and industries:\\n\\n1. Education (as a Software Engineer for 1 year)\\n2. IT and software development (as a Junior Software Engineer at Vurilo Pvt. Ltd., which is likely an IT company)\\n3. Data analysis and science (applying concepts learned through Masters education, though specific details are not provided)\\n\\nHe has worked on various projects, including web applications, data analysis, and machine learning-related tasks.'},\n",
       " {'question': 'Can you describe your current role or job responsibilities?',\n",
       "  'answer': 'As per the provided context, Bidhan is currently a student with no formal job responsibilities mentioned. However, his role as a Student Academic Representative in previous years (2021 & 2023) involved representing class interests and facilitating communication between students and faculty.'},\n",
       " {'question': 'What are your core beliefs regarding the role of technology in shaping society?',\n",
       "  'answer': \"Bidhan's core belief is that technology can be a double-edged sword, driving societal progress when used ethically but leading to negative consequences if misused. He emphasizes the importance of using data-driven decision-making, prioritizing empathy and ethical responsibility, and promoting balance between nature and technology.\"},\n",
       " {'question': 'How do you think cultural values should influence technological advancements?',\n",
       "  'answer': \"According to the provided context, Bidhan's cultural values that may influence technological advancements include:\\n\\n1. Respect for Tradition & Innovation: Integrating traditional wisdom with modern technology.\\n2. Community & Collaboration: Using technology to bring people together rather than isolate them.\\n3. Empathy & Ethical Responsibility: Considering the impact of technology on people's lives and prioritizing ethical practices.\\n\\nThese values suggest that Bidhan believes in creating a balance between preserving cultural heritage and embracing innovation, while also prioritizing community, empathy, and ethical responsibility in technological development.\"},\n",
       " {'question': \"As a master's student, what is the most challenging aspect of your studies so far?\",\n",
       "  'answer': \"As a Master's student in Data Science and AI at Asian Institute Of Technology, Bidhan has faced challenges such as integrating data science into his fields of interest, managing time for personal projects, figuring out which field to primarily focus on, and catching up with advanced ML concepts.\"},\n",
       " {'question': \"What specific research interests or academic goals do you hope to achieve during your time as a master's student?\",\n",
       "  'answer': \"During his time as a master's student, Bidhan aims to:\\n\\n1. Learn useful ML concepts and apply them in real-case scenarios\\n2. Get into a good company for an internship\\n3. Network with good people and grow/learn from them\\n4. Currently has no intention of doing research, focusing on job opportunities\\n\\nHe doesn't specify any particular research interests or academic goals.\"}]"
      ]
     },
     "execution_count": 113,
     "metadata": {},
     "output_type": "execute_result"
    }
   ],
   "source": [
    "# json response\n",
    "qa_pairs"
   ]
  },
  {
   "cell_type": "markdown",
   "metadata": {},
   "source": [
    "# Analysis and Problem Solving"
   ]
  },
  {
   "cell_type": "markdown",
   "metadata": {},
   "source": [
    "For this assignment we had to create a chatbot applying RAG (Retrieval-Augmented Generation) techniques in Langchain framework. The chatbot would specalize in answering question related to me.\n",
    "\n",
    "### List of the retriever and generator models used\n",
    "\n",
    "####  Retriever model\n",
    "**Embedding Model** <br>\n",
    "For embeddings I used `sentence-transformers/all-mpnet-base-v2` from HuggingFace.\n",
    "\n",
    "**Vector Store**<br>\n",
    "For vector store I used `FAISS` which stands for Facebook AI Similarity Search, from langchain.\n",
    "\n",
    "#### Generator model\n",
    "For the llm model I went ahead and chose `llama3.2` from Ollama\n",
    "\n",
    "### Analysis of issues related to the models providing unrelated information.\n",
    "\n",
    "**Embedding Model Limitations**\n",
    "\n",
    "The embedding model `(sentence-transformers/all-mpnet-base-v2)` converts text into vector representations for similarity searches. However, issues may arise if:\n",
    "- The embeddings do not accurately capture the semantic meaning of a query, leading to retrieval of irrelevant documents.\n",
    "- The model struggles with understanding domain-specific terminology or names.\n",
    "- Short or ambiguous queries produce vague embeddings, retrieving unrelated results.\n",
    "\n",
    "**For example**: User may ask, \"What awards has bidhan achieved?\" but it gets information about project achievements.\n",
    "\n",
    "Possible fixes for this issue would be:\n",
    "- Use hybrid retrieval (combining FAISS with BM25 or keyword search).\n",
    "\n",
    "**Vector Store (FAISS) Issues**\n",
    "\n",
    "FAISS is efficient for storing and retrieving embeddings, but it has its own challenges:\n",
    "\n",
    "- If the database is small or lacks diversity, FAISS may return the closest match, even if it is not contextually relevant.\n",
    "- Improper indexing or incorrect similarity metrics can result in documents that are mathematically similar but contextually irrelevant.\n",
    "- If the retriever fetches too few documents, important context may be missed.\n",
    "\n",
    "**For example**: User may ask, \"Tell me about his job experiences.\" but the documents it retrieved was of job's project details.\n",
    "\n",
    "Possible fixes for this issue would be:\n",
    "- Break documents into overlapping chunks so relevant details remain intact.\n",
    "- Instead of large paragraphs, creating smaller, context-rich sections.\n",
    "- Apply reranking methods.\n",
    "\n",
    "**LLM (LLaMA 3.2) Hallucinations**\n",
    "\n",
    "The generator model (LLaMA 3.2) may produce unrelated or incorrect information due to:\n",
    "\n",
    "- Over-reliance on context: If retrieved documents are not strongly relevant, the model may fill gaps with plausible but incorrect content.\n",
    "- Lack of source verification: Since LLaMA is a general-purpose model, it might blend retrieved information with its own prior knowledge, causing inconsistencies.\n",
    "- Bias in generation: The model may generate responses that favor more commonly seen patterns, even if they are not the best fit for the query.\n",
    "\n",
    "**For example**: User may ask, \"Tell me about his hobbies.\" but the retriever provides information relating to his technical skills,  so the llm might makeup informations.\n",
    "\n",
    "Possible fixes for this issue would be:\n",
    "- If the retriever finds no relevant documents, the chatbot should ask for clarification instead of hallucinating.\n",
    "- Reply saying \"I have no information on this.\" or something similar by implementing confidence threshold.\n",
    "- Finetune the model further."
   ]
  },
  {
   "cell_type": "code",
   "execution_count": null,
   "metadata": {},
   "outputs": [],
   "source": []
  }
 ],
 "metadata": {
  "kernelspec": {
   "display_name": "langchain",
   "language": "python",
   "name": "python3"
  },
  "language_info": {
   "codemirror_mode": {
    "name": "ipython",
    "version": 3
   },
   "file_extension": ".py",
   "mimetype": "text/x-python",
   "name": "python",
   "nbconvert_exporter": "python",
   "pygments_lexer": "ipython3",
   "version": "3.11.11"
  }
 },
 "nbformat": 4,
 "nbformat_minor": 2
}
