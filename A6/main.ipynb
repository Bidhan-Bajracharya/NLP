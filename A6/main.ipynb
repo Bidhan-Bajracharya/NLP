{
 "cells": [
  {
   "cell_type": "code",
   "execution_count": 1,
   "metadata": {},
   "outputs": [],
   "source": [
    "import os\n",
    "from langchain.prompts import PromptTemplate\n",
    "# from langchain_community.llms import Ollama\n",
    "from langchain_ollama import OllamaLLM\n",
    "from langchain.document_loaders import TextLoader\n",
    "from langchain_text_splitters import RecursiveCharacterTextSplitter\n",
    "from langchain_huggingface import HuggingFaceEmbeddings\n",
    "from langchain.vectorstores import FAISS"
   ]
  },
  {
   "cell_type": "markdown",
   "metadata": {},
   "source": [
    "# Prompt"
   ]
  },
  {
   "cell_type": "code",
   "execution_count": 2,
   "metadata": {},
   "outputs": [
    {
     "data": {
      "text/plain": [
       "PromptTemplate(input_variables=['context', 'question'], input_types={}, partial_variables={}, template=\"You are an assistant that provides useful information about Bidhan. Use the following pieces of retrieved context to answer the question. \\n    If you don't know the answer, just say that you don't know. Use three sentences maximum and keep the answer concise.\\n    {context}\\n    Question: {question}\\n    Answer:\")"
      ]
     },
     "execution_count": 2,
     "metadata": {},
     "output_type": "execute_result"
    }
   ],
   "source": [
    "prompt_template = \"\"\"\n",
    "    You are an assistant that provides useful information about Bidhan. Use the following pieces of retrieved context to answer the question. \n",
    "    If you don't know the answer, just say that you don't know. Use three sentences maximum and keep the answer concise.\n",
    "    {context}\n",
    "    Question: {question}\n",
    "    Answer:\n",
    "    \"\"\".strip()\n",
    "\n",
    "PROMPT = PromptTemplate(template= prompt_template)\n",
    "PROMPT"
   ]
  },
  {
   "cell_type": "markdown",
   "metadata": {},
   "source": [
    "# Model"
   ]
  },
  {
   "cell_type": "code",
   "execution_count": 3,
   "metadata": {},
   "outputs": [
    {
     "data": {
      "text/plain": [
       "OllamaLLM(model='llama3.2')"
      ]
     },
     "execution_count": 3,
     "metadata": {},
     "output_type": "execute_result"
    }
   ],
   "source": [
    "llm = OllamaLLM(model=\"llama3.2\")\n",
    "llm"
   ]
  },
  {
   "cell_type": "code",
   "execution_count": 4,
   "metadata": {},
   "outputs": [
    {
     "data": {
      "text/plain": [
       "'How can I assist you today?'"
      ]
     },
     "execution_count": 4,
     "metadata": {},
     "output_type": "execute_result"
    }
   ],
   "source": [
    "# testing the llm\n",
    "llm.invoke(\"Hello!\")"
   ]
  },
  {
   "cell_type": "markdown",
   "metadata": {},
   "source": [
    "# Document Loaders"
   ]
  },
  {
   "cell_type": "code",
   "execution_count": 5,
   "metadata": {},
   "outputs": [],
   "source": [
    "# loading documents\n",
    "all_documents = []\n",
    "\n",
    "files = ['./data/aboutme.txt', './data/cv.txt']\n",
    "for file in files:\n",
    "    loader = TextLoader(file)\n",
    "    documents = loader.load()\n",
    "    all_documents.extend(documents)"
   ]
  },
  {
   "cell_type": "code",
   "execution_count": 6,
   "metadata": {},
   "outputs": [
    {
     "data": {
      "text/plain": [
       "[Document(metadata={'source': './data/aboutme.txt'}, page_content='My Personal Information:\\n\\nName: Bidhan Bajracharya\\nAge: 23 years (as of 2025)\\nBirthdate: September 14, 2001\\nGender: Male\\nNationality: Nepalese\\nHeight: 5\\'10\"\\nSkin tone: Brown\\n\\nEducation Background:\\n- Master’s Degree: Data Science and Artificial Intelligence (DSAI)\\n    - Institution: Asian Institute of Technology (AIT)\\n\\n- Bachelor’s Degree: BSc (Hons) in Computing\\n    - Institution: London Metropolitan University\\n\\nProfessional Experience:\\n- Software Engineer (1 year)\\n    - Industry: Education\\n- Currently not employed\\n\\nTechnical Skills:\\n- Programming Languages: Python, Java, JavaScript/TypeScript, C#, SQL\\n- Frameworks & Libraries: React, Node.js, Pandas, NumPy, Matplotlib, Scikit-Learn\\n\\nBeliefs & Philosophy:\\n- Technology as a Double-Edged Sword:– If used ethically, technology can drive societal progress, but if misused, it can lead to negative consequences.\\n- Data-Driven Decision Making:– Making informed decisions based on data and logical reasoning is crucial in both personal and professional life.\\n- Empathy & Ethical Responsibility:– The impact of technology on people’s lives should always be considered, and ethical practices should be prioritized in development.\\n- Cultural Identity in a Globalized World:– While globalization connects us, preserving cultural uniqueness is essential for diversity and innovation.\\n- Creativity & Problem-Solving:– Every challenge is an opportunity for creative solutions, and technology should be used to solve real-world problems efficiently.\\n\\nCultural Values:\\n- Respect for Tradition & Innovation:– I value cultural heritage and believe that modern technology should integrate and reflect traditional wisdom rather than replace it.\\n- Community & Collaboration:– A strong sense of community is essential for growth, and I believe in using technology to bring people together rather than isolate them.\\n- Lifelong Learning & Adaptability:– Continuous learning is key to personal and professional growth, and I embrace change as an opportunity for innovation.\\n- Balance Between Nature & Technology:– Technology should be used responsibly to preserve nature and promote sustainable living.\\n\\nChallenges faced till now in Masters:\\n- Firguring out integrating data science into my fields of interests\\n- Managing time for personal projects\\n- Figuring out which field to primarily start out as a person in data science\\n- Catching up with advance ML concepts\\n\\nGoals hoping to achieve as master\\'s student:\\n- Learn useful ML concepts and apply them in real case scenarios\\n- Get into a good company for internship\\n- Network with good people and grow and learn from them\\n- Currently, have no intention of doing research as job is the primary focus\\n'),\n",
       " Document(metadata={'source': './data/cv.txt'}, page_content='NAME: Bidhan Bajracharya\\n\\nEDUCATION BACKGROUND:\\n- Asian Institute Of Technology\\n    - Master of Science (M.S) - Data Science and AI | August 2024 - May 2026\\n\\n- Islington College (Affiliated to London Metropolitan University)\\n    - BSc (Hons) Computing | Feb 2021 – Dec 2023 | Final Percentage: 76.56%\\n\\n- Uniglobe SS/College\\n    - High School | Jan 2018 – Dec 2020 | CGPA: 3.78/4.0\\n\\nPROFESSIONAL EXPERIENCE:\\nVurilo Pvt. Ltd. | Junior Software Engineer (Jun 2023 – May 2024)\\n    - Worked on Agile methodology, ensuring successful development and timely delivery of tasks.\\n    - Conducted data analysis, interpretation, and utilization to enhance project efficiency.\\n    - Implemented ChatGPT plugins, AWS services, and REST APIs into project functionalities.\\n\\nLevel 9 Tech | Front-end Developer Intern (Aug 2022 – Dec 2022)\\n    - Collaborated with a team of developers to build and maintain web applications.\\n    - Utilized Git and GitHub to manage project workflows.\\n    - Developed new features and improved existing functionalities to enhance user experience.\\n\\nPROJECTS:\\n- Vurilo Insights (Python, SQL)\\n    - Extracted data from APIs, databases, and CSV files using Python and SQL.\\n    - Pre-processed raw data with Pandas and NumPy, handling missing values and inconsistencies.\\n    - Conducted exploratory data analysis (EDA) with statistical methods and visualization techniques.\\n    - Created interactive dashboards using Matplotlib, Seaborn, and Plotly.\\n\\n- Vurilo (TypeScript, Next.js, React.js, Tailwind, Firebase)\\n    - Developed an E-Learning platform for students.\\n    - Used Next.js for server-side rendering to enhance user experience.\\n    - Integrated Firebase for secure authentication and real-time data synchronization.\\n\\n- Moneyvest (TypeScript, React.js, AWS Cognito, Ant-Design)\\n    - Built an online platform for finance, investing, and trading education.\\n    - Implemented AWS Cognito for secure user authentication.\\n    - Collaborated with an international client for API optimization and integration.\\n    - Designed data visualization graphs to improve user insights.\\n\\n- Uddum (Vue.js, Nuxt.js)\\n    - Developed an online airplane ticket booking platform.\\n    - Worked with experienced developers to optimize and resolve issues.\\n    - Implemented REST APIs and developed an intuitive UI/UX.\\n\\nAWARDS AND ACHIEVEMENT:\\n- AAA Scholarship Award (2022)\\n    - Recognized for exceptional Attitude, Attendance, and Academic performance.\\n\\nTECHNICAL SKILLS:\\nProgramming Languages: Python, Java, JavaScript/TypeScript, C#, SQL\\nTools: Git/GitHub, Jupyter Notebook, VS Code, IntelliJ, PyCharm, Docker, Tableau, AWS, PostgreSQL, MySQL\\nLibraries & Frameworks: Pandas, NumPy, Matplotlib, Scikit-Learn, React.js\\n\\nEXTRACURRICULAR ACTIVITIES:\\n- Arts and Culture Club (2018 – 2020)\\n    - Participated in creative competitions, showcasing artistic talents.\\n    - Hosted club activities, promoting cultural appreciation and creativity.\\n    - Collaborated with peers to organize and execute events.\\n\\n- Student Academic Representative (2021 & 2023)\\n    - Represented class interests and facilitated communication between students and faculty.\\n    - Organized weekly forms to document and communicate student feedback.\\n    - Participated in faculty meetings to address academic concerns.')]"
      ]
     },
     "execution_count": 6,
     "metadata": {},
     "output_type": "execute_result"
    }
   ],
   "source": [
    "all_documents"
   ]
  },
  {
   "cell_type": "markdown",
   "metadata": {},
   "source": [
    "## Document Transformers"
   ]
  },
  {
   "cell_type": "code",
   "execution_count": 7,
   "metadata": {},
   "outputs": [],
   "source": [
    "text_splitter = RecursiveCharacterTextSplitter(chunk_size=1000, chunk_overlap=200)\n",
    "doc = text_splitter.split_documents(all_documents)"
   ]
  },
  {
   "cell_type": "code",
   "execution_count": 8,
   "metadata": {},
   "outputs": [
    {
     "data": {
      "text/plain": [
       "[Document(metadata={'source': './data/aboutme.txt'}, page_content='My Personal Information:\\n\\nName: Bidhan Bajracharya\\nAge: 23 years (as of 2025)\\nBirthdate: September 14, 2001\\nGender: Male\\nNationality: Nepalese\\nHeight: 5\\'10\"\\nSkin tone: Brown\\n\\nEducation Background:\\n- Master’s Degree: Data Science and Artificial Intelligence (DSAI)\\n    - Institution: Asian Institute of Technology (AIT)\\n\\n- Bachelor’s Degree: BSc (Hons) in Computing\\n    - Institution: London Metropolitan University\\n\\nProfessional Experience:\\n- Software Engineer (1 year)\\n    - Industry: Education\\n- Currently not employed\\n\\nTechnical Skills:\\n- Programming Languages: Python, Java, JavaScript/TypeScript, C#, SQL\\n- Frameworks & Libraries: React, Node.js, Pandas, NumPy, Matplotlib, Scikit-Learn'),\n",
       " Document(metadata={'source': './data/aboutme.txt'}, page_content='Technical Skills:\\n- Programming Languages: Python, Java, JavaScript/TypeScript, C#, SQL\\n- Frameworks & Libraries: React, Node.js, Pandas, NumPy, Matplotlib, Scikit-Learn\\n\\nBeliefs & Philosophy:\\n- Technology as a Double-Edged Sword:– If used ethically, technology can drive societal progress, but if misused, it can lead to negative consequences.\\n- Data-Driven Decision Making:– Making informed decisions based on data and logical reasoning is crucial in both personal and professional life.\\n- Empathy & Ethical Responsibility:– The impact of technology on people’s lives should always be considered, and ethical practices should be prioritized in development.\\n- Cultural Identity in a Globalized World:– While globalization connects us, preserving cultural uniqueness is essential for diversity and innovation.\\n- Creativity & Problem-Solving:– Every challenge is an opportunity for creative solutions, and technology should be used to solve real-world problems efficiently.'),\n",
       " Document(metadata={'source': './data/aboutme.txt'}, page_content='Cultural Values:\\n- Respect for Tradition & Innovation:– I value cultural heritage and believe that modern technology should integrate and reflect traditional wisdom rather than replace it.\\n- Community & Collaboration:– A strong sense of community is essential for growth, and I believe in using technology to bring people together rather than isolate them.\\n- Lifelong Learning & Adaptability:– Continuous learning is key to personal and professional growth, and I embrace change as an opportunity for innovation.\\n- Balance Between Nature & Technology:– Technology should be used responsibly to preserve nature and promote sustainable living.\\n\\nChallenges faced till now in Masters:\\n- Firguring out integrating data science into my fields of interests\\n- Managing time for personal projects\\n- Figuring out which field to primarily start out as a person in data science\\n- Catching up with advance ML concepts'),\n",
       " Document(metadata={'source': './data/aboutme.txt'}, page_content=\"Goals hoping to achieve as master's student:\\n- Learn useful ML concepts and apply them in real case scenarios\\n- Get into a good company for internship\\n- Network with good people and grow and learn from them\\n- Currently, have no intention of doing research as job is the primary focus\"),\n",
       " Document(metadata={'source': './data/cv.txt'}, page_content='NAME: Bidhan Bajracharya\\n\\nEDUCATION BACKGROUND:\\n- Asian Institute Of Technology\\n    - Master of Science (M.S) - Data Science and AI | August 2024 - May 2026\\n\\n- Islington College (Affiliated to London Metropolitan University)\\n    - BSc (Hons) Computing | Feb 2021 – Dec 2023 | Final Percentage: 76.56%\\n\\n- Uniglobe SS/College\\n    - High School | Jan 2018 – Dec 2020 | CGPA: 3.78/4.0\\n\\nPROFESSIONAL EXPERIENCE:\\nVurilo Pvt. Ltd. | Junior Software Engineer (Jun 2023 – May 2024)\\n    - Worked on Agile methodology, ensuring successful development and timely delivery of tasks.\\n    - Conducted data analysis, interpretation, and utilization to enhance project efficiency.\\n    - Implemented ChatGPT plugins, AWS services, and REST APIs into project functionalities.'),\n",
       " Document(metadata={'source': './data/cv.txt'}, page_content='Level 9 Tech | Front-end Developer Intern (Aug 2022 – Dec 2022)\\n    - Collaborated with a team of developers to build and maintain web applications.\\n    - Utilized Git and GitHub to manage project workflows.\\n    - Developed new features and improved existing functionalities to enhance user experience.\\n\\nPROJECTS:\\n- Vurilo Insights (Python, SQL)\\n    - Extracted data from APIs, databases, and CSV files using Python and SQL.\\n    - Pre-processed raw data with Pandas and NumPy, handling missing values and inconsistencies.\\n    - Conducted exploratory data analysis (EDA) with statistical methods and visualization techniques.\\n    - Created interactive dashboards using Matplotlib, Seaborn, and Plotly.\\n\\n- Vurilo (TypeScript, Next.js, React.js, Tailwind, Firebase)\\n    - Developed an E-Learning platform for students.\\n    - Used Next.js for server-side rendering to enhance user experience.\\n    - Integrated Firebase for secure authentication and real-time data synchronization.'),\n",
       " Document(metadata={'source': './data/cv.txt'}, page_content='- Moneyvest (TypeScript, React.js, AWS Cognito, Ant-Design)\\n    - Built an online platform for finance, investing, and trading education.\\n    - Implemented AWS Cognito for secure user authentication.\\n    - Collaborated with an international client for API optimization and integration.\\n    - Designed data visualization graphs to improve user insights.\\n\\n- Uddum (Vue.js, Nuxt.js)\\n    - Developed an online airplane ticket booking platform.\\n    - Worked with experienced developers to optimize and resolve issues.\\n    - Implemented REST APIs and developed an intuitive UI/UX.\\n\\nAWARDS AND ACHIEVEMENT:\\n- AAA Scholarship Award (2022)\\n    - Recognized for exceptional Attitude, Attendance, and Academic performance.\\n\\nTECHNICAL SKILLS:\\nProgramming Languages: Python, Java, JavaScript/TypeScript, C#, SQL\\nTools: Git/GitHub, Jupyter Notebook, VS Code, IntelliJ, PyCharm, Docker, Tableau, AWS, PostgreSQL, MySQL\\nLibraries & Frameworks: Pandas, NumPy, Matplotlib, Scikit-Learn, React.js'),\n",
       " Document(metadata={'source': './data/cv.txt'}, page_content='EXTRACURRICULAR ACTIVITIES:\\n- Arts and Culture Club (2018 – 2020)\\n    - Participated in creative competitions, showcasing artistic talents.\\n    - Hosted club activities, promoting cultural appreciation and creativity.\\n    - Collaborated with peers to organize and execute events.\\n\\n- Student Academic Representative (2021 & 2023)\\n    - Represented class interests and facilitated communication between students and faculty.\\n    - Organized weekly forms to document and communicate student feedback.\\n    - Participated in faculty meetings to address academic concerns.')]"
      ]
     },
     "execution_count": 8,
     "metadata": {},
     "output_type": "execute_result"
    }
   ],
   "source": [
    "doc "
   ]
  },
  {
   "cell_type": "markdown",
   "metadata": {},
   "source": [
    "## Text Embedding Models"
   ]
  },
  {
   "cell_type": "code",
   "execution_count": 9,
   "metadata": {},
   "outputs": [
    {
     "name": "stderr",
     "output_type": "stream",
     "text": [
      "c:\\Users\\Bidhan\\anaconda3\\envs\\langchain\\Lib\\site-packages\\tqdm\\auto.py:21: TqdmWarning: IProgress not found. Please update jupyter and ipywidgets. See https://ipywidgets.readthedocs.io/en/stable/user_install.html\n",
      "  from .autonotebook import tqdm as notebook_tqdm\n"
     ]
    }
   ],
   "source": [
    "embedding_model = HuggingFaceEmbeddings(model_name=\"sentence-transformers/all-mpnet-base-v2\")"
   ]
  },
  {
   "cell_type": "markdown",
   "metadata": {},
   "source": [
    "## Vector Stores"
   ]
  },
  {
   "cell_type": "code",
   "execution_count": 10,
   "metadata": {},
   "outputs": [],
   "source": [
    "vector_path = './vector-store'\n",
    "if not os.path.exists(vector_path):\n",
    "    os.makedirs(vector_path)\n",
    "    print('create path done')"
   ]
  },
  {
   "cell_type": "code",
   "execution_count": 11,
   "metadata": {},
   "outputs": [],
   "source": [
    "db_file_name = 'personal_info'\n",
    "\n",
    "# load the vector store if it exists\n",
    "if os.path.exists(os.path.join(vector_path, db_file_name)):\n",
    "        vectordb = FAISS.load_local(\n",
    "            folder_path=os.path.join(vector_path, db_file_name),\n",
    "            embeddings=embedding_model,\n",
    "            allow_dangerous_deserialization=True # because I'm sure the file is safe\n",
    "        )\n",
    "else:\n",
    "    vectordb = FAISS.from_documents(\n",
    "        documents = doc,\n",
    "        embedding = embedding_model\n",
    "    )\n",
    "\n",
    "    vectordb.save_local(\n",
    "        folder_path = os.path.join(vector_path, db_file_name)\n",
    "    )"
   ]
  },
  {
   "cell_type": "markdown",
   "metadata": {},
   "source": [
    "## Retrievers"
   ]
  },
  {
   "cell_type": "code",
   "execution_count": 12,
   "metadata": {},
   "outputs": [],
   "source": [
    "retriever = vectordb.as_retriever(search_kwargs={\"k\": 3})"
   ]
  },
  {
   "cell_type": "code",
   "execution_count": 13,
   "metadata": {},
   "outputs": [
    {
     "name": "stderr",
     "output_type": "stream",
     "text": [
      "C:\\Users\\Bidhan\\AppData\\Local\\Temp\\ipykernel_26544\\3674800939.py:1: LangChainDeprecationWarning: The method `BaseRetriever.get_relevant_documents` was deprecated in langchain-core 0.1.46 and will be removed in 1.0. Use :meth:`~invoke` instead.\n",
      "  retriever.get_relevant_documents(\"What is your name?\")\n"
     ]
    },
    {
     "data": {
      "text/plain": [
       "[Document(id='36d2e3b5-2ff9-42bd-86c9-b2220cc83df3', metadata={'source': './data/aboutme.txt'}, page_content='My name is Bidhan Bajracharya, and I am from Nepal. I am 23 years old, born on September 14, 2001. I am male, with a height of 5\\'10\" and brown skin.\\n\\nCurrently, I am pursuing a Master’s in Data Science and Artificial Intelligence (DSAI) at the Asian Institute of Technology (AIT). Before this, I completed my Bachelor of Science (Hons) in Computing from London Metropolitan University.'),\n",
       " Document(id='defda409-233a-4a28-a33e-363ecdcbb99d', metadata={'source': './data/cv.txt'}, page_content='Level 9 Tech | Front-end Developer Intern (Aug 2022 – Dec 2022)\\n    - Collaborated with a team of developers to build and maintain web applications.\\n    - Utilized Git and GitHub to manage project workflows.\\n    - Developed new features and improved existing functionalities to enhance user experience.'),\n",
       " Document(id='92edc082-e0da-4dda-8303-4155adbe14e2', metadata={'source': './data/cv.txt'}, page_content='TECHNICAL SKILLS:\\nProgramming Languages: Python, Java, JavaScript/TypeScript, C#, SQL\\nTools: Git/GitHub, Jupyter Notebook, VS Code, IntelliJ, PyCharm, Docker, Tableau, AWS, PostgreSQL, MySQL\\nLibraries & Frameworks: Pandas, NumPy, Matplotlib, Scikit-Learn, React.js')]"
      ]
     },
     "execution_count": 13,
     "metadata": {},
     "output_type": "execute_result"
    }
   ],
   "source": [
    "retriever.get_relevant_documents(\"What is your name?\")"
   ]
  },
  {
   "cell_type": "markdown",
   "metadata": {},
   "source": [
    "# Memory"
   ]
  },
  {
   "cell_type": "code",
   "execution_count": 14,
   "metadata": {},
   "outputs": [],
   "source": [
    "from langchain.memory import ChatMessageHistory"
   ]
  },
  {
   "cell_type": "code",
   "execution_count": 15,
   "metadata": {},
   "outputs": [
    {
     "data": {
      "text/plain": [
       "InMemoryChatMessageHistory(messages=[])"
      ]
     },
     "execution_count": 15,
     "metadata": {},
     "output_type": "execute_result"
    }
   ],
   "source": [
    "history = ChatMessageHistory()\n",
    "history"
   ]
  },
  {
   "cell_type": "code",
   "execution_count": 16,
   "metadata": {},
   "outputs": [],
   "source": [
    "# history.add_user_message('hi')\n",
    "# history.add_ai_message('Hello! I\\'m a personal chatbot who knows a lot about Bidhan.Go ahead and ask me anything about him.')\n",
    "# history.add_user_message('How are you')\n",
    "# history.add_ai_message('I\\'m quite good. How about you?')"
   ]
  },
  {
   "cell_type": "code",
   "execution_count": 17,
   "metadata": {},
   "outputs": [
    {
     "data": {
      "text/plain": [
       "InMemoryChatMessageHistory(messages=[])"
      ]
     },
     "execution_count": 17,
     "metadata": {},
     "output_type": "execute_result"
    }
   ],
   "source": [
    "history"
   ]
  },
  {
   "cell_type": "code",
   "execution_count": 18,
   "metadata": {},
   "outputs": [],
   "source": [
    "from langchain.memory import ConversationBufferMemory"
   ]
  },
  {
   "cell_type": "code",
   "execution_count": 19,
   "metadata": {},
   "outputs": [],
   "source": [
    "# memory = ConversationBufferMemory(return_messages = True)\n",
    "# memory.save_context({'input':'hi'}, {'output':'What\\'s up?'})\n",
    "# memory.save_context({\"input\":'How are you?'},{'output': 'I\\'m quite good. How about you?'})\n",
    "# memory.load_memory_variables({})"
   ]
  },
  {
   "cell_type": "code",
   "execution_count": 20,
   "metadata": {},
   "outputs": [
    {
     "name": "stderr",
     "output_type": "stream",
     "text": [
      "C:\\Users\\Bidhan\\AppData\\Local\\Temp\\ipykernel_26544\\4142404075.py:1: LangChainDeprecationWarning: Please see the migration guide at: https://python.langchain.com/docs/versions/migrating_memory/\n",
      "  memory = ConversationBufferMemory(memory_key=\"chat_history\", input_key=\"question\", output_key=\"answer\")\n"
     ]
    }
   ],
   "source": [
    "memory = ConversationBufferMemory(memory_key=\"chat_history\", input_key=\"question\", output_key=\"answer\")\n",
    "# memory = ConversationBufferMemory(input_key=\"question\", output_key=\"answer\")"
   ]
  },
  {
   "cell_type": "code",
   "execution_count": 21,
   "metadata": {},
   "outputs": [],
   "source": [
    "# memory.save_context({'question':'hi'}, {'answer':'What\\'s up?'})\n",
    "# memory.save_context({\"question\":'From now on every reply, you can use the context provided. And answer as bidhan himself.'},{'answer': 'Okay I will now answer as Bidhan.'})"
   ]
  },
  {
   "cell_type": "markdown",
   "metadata": {},
   "source": [
    "# Chain"
   ]
  },
  {
   "cell_type": "code",
   "execution_count": 22,
   "metadata": {},
   "outputs": [],
   "source": [
    "from langchain.chains import RetrievalQA"
   ]
  },
  {
   "cell_type": "code",
   "execution_count": 23,
   "metadata": {},
   "outputs": [],
   "source": [
    "qa_chain = RetrievalQA.from_chain_type(\n",
    "    llm = llm,\n",
    "    chain_type = \"stuff\",\n",
    "    retriever = retriever,\n",
    "    return_source_documents = True,\n",
    "    chain_type_kwargs={\"prompt\": PROMPT}\n",
    ")"
   ]
  },
  {
   "cell_type": "code",
   "execution_count": 24,
   "metadata": {},
   "outputs": [
    {
     "name": "stderr",
     "output_type": "stream",
     "text": [
      "C:\\Users\\Bidhan\\AppData\\Local\\Temp\\ipykernel_26544\\1298083337.py:1: LangChainDeprecationWarning: The method `Chain.__call__` was deprecated in langchain 0.1.0 and will be removed in 1.0. Use :meth:`~invoke` instead.\n",
      "  result = qa_chain({\"query\": \"What is my birthdate?\"})\n"
     ]
    }
   ],
   "source": [
    "result = qa_chain({\"query\": \"What is my birthdate?\"})\n",
    "answer = result.get('result', '')"
   ]
  },
  {
   "cell_type": "code",
   "execution_count": 25,
   "metadata": {},
   "outputs": [],
   "source": [
    "sources = []\n",
    "source_docs = result.get('source_documents', [])\n",
    "for doc in source_docs:\n",
    "    source = {\n",
    "        \"content\": doc.page_content[:150] + \"...\",\n",
    "        \"source\": doc.metadata.get('source', 'Unknown')\n",
    "    }\n",
    "    sources.append(source)"
   ]
  },
  {
   "cell_type": "code",
   "execution_count": 26,
   "metadata": {},
   "outputs": [
    {
     "data": {
      "text/plain": [
       "[{'content': 'My name is Bidhan Bajracharya, and I am from Nepal. I am 23 years old, born on September 14, 2001. I am male, with a height of 5\\'10\" and brown skin.\\n\\n...',\n",
       "  'source': './data/aboutme.txt'},\n",
       " {'content': 'NAME: Bidhan Bajracharya\\n\\nEDUCATION:\\nAsian Institute Of Technology\\nMaster of Science (M.S) - Data Science and AI | August 2024 - May 2026\\n\\nIslington C...',\n",
       "  'source': './data/cv.txt'},\n",
       " {'content': '- Uddum (Vue.js, Nuxt.js)\\n    - Developed an online airplane ticket booking platform.\\n    - Worked with experienced developers to optimize and resolve...',\n",
       "  'source': './data/cv.txt'}]"
      ]
     },
     "execution_count": 26,
     "metadata": {},
     "output_type": "execute_result"
    }
   ],
   "source": [
    "sources"
   ]
  },
  {
   "cell_type": "code",
   "execution_count": 27,
   "metadata": {},
   "outputs": [
    {
     "data": {
      "text/plain": [
       "'Your birthdate is September 14, 2001. You are currently 23 years old.'"
      ]
     },
     "execution_count": 27,
     "metadata": {},
     "output_type": "execute_result"
    }
   ],
   "source": [
    "answer"
   ]
  },
  {
   "cell_type": "code",
   "execution_count": 28,
   "metadata": {},
   "outputs": [],
   "source": [
    "questions = [\n",
    " \"How old are you?\",\n",
    " \"What is your highest level of education?\",\n",
    " \"What major or field of study did you pursue during your education?\",\n",
    " \"How many years of work experience do you have?\",\n",
    " \"What type of work or industry have you been involved in?\",\n",
    " \"Can you describe your current role or job responsibilities?\",\n",
    " \"What are your core beliefs regarding the role of technology in shaping society?\",\n",
    " \"How do you think cultural values should influence technological advancements?\",\n",
    " \"As a master's student, what is the most challenging aspect of your studies so far?\",\n",
    " \"What specific research interests or academic goals do you hope to achieve during your time as a master's student?\"\n",
    "]"
   ]
  },
  {
   "cell_type": "code",
   "execution_count": 29,
   "metadata": {},
   "outputs": [
    {
     "name": "stdout",
     "output_type": "stream",
     "text": [
      "1) How old are you?\n",
      "Answer: You mentioned that you were born on September 14, 2001. Therefore, based on the current year being not specified but typically 2023 or later, it can be assumed that as of 2023, you would be around 22 years old, considering a birth year in the 2000s. However, this exact calculation might vary depending on the current year and your birthdate, which is not provided.\n",
      "\n",
      "2) What is your highest level of education?\n",
      "Answer: Bidhan's highest level of education is a Master of Science (M.S) degree in Data Science and AI from the Asian Institute Of Technology, earned between August 2024 and May 2026.\n",
      "\n",
      "3) What major or field of study did you pursue during your education?\n",
      "Answer: I don't know. The context provided doesn't mention the student's major or field of study.\n",
      "\n",
      "4) How many years of work experience do you have?\n",
      "Answer: You don't know the answer, but according to your provided context, you mentioned having one year of experience as a Front-end Developer Intern from August 2022 to December 2022.\n",
      "\n",
      "5) What type of work or industry have you been involved in?\n",
      "Answer: I was primarily involved in the education industry, working as a Front-end Developer Intern. My role included building and maintaining web applications for educational purposes. I also gained experience in managing project workflows using tools like Git and GitHub.\n",
      "\n",
      "6) Can you describe your current role or job responsibilities?\n",
      "Answer: I don't have information about your current role or job responsibilities. However, based on the context provided, I can tell that as a software engineer with significant experience in the education industry, you may be looking for employment opportunities or considering freelance work. If you'd like to discuss potential career paths or job openings, I'm here to assist you.\n",
      "\n",
      "7) What are your core beliefs regarding the role of technology in shaping society?\n",
      "Answer: I believe that technology should be designed with societal values in mind, reflecting our cultural heritage and promoting responsible innovation. Technology should empower people, rather than controlling them, and its development should prioritize ethics and inclusivity. Ultimately, I think technology has the potential to drive positive change, but it's crucial to use it wisely and consider its impact on society as a whole.\n",
      "\n",
      "8) How do you think cultural values should influence technological advancements?\n",
      "Answer: I think cultural values should influence technological advancements by incorporating diverse perspectives, traditions, and norms into the design and development process. This can help create more inclusive and user-friendly technologies that cater to different needs and contexts. By reflecting culture in technology, we can foster a more harmonious coexistence between human experience and innovation.\n",
      "\n",
      "9) As a master's student, what is the most challenging aspect of your studies so far?\n",
      "Answer: I don't know. The question asks for a personal experience as a master's student, but the provided context doesn't mention any specific challenges Bidhan faced during his Master's program at AIT. It only mentions his education background and achievements.\n",
      "\n",
      "10) What specific research interests or academic goals do you hope to achieve during your time as a master's student?\n",
      "Answer: I don't know the specific research interests or academic goals mentioned by Bidhan Bajracharya. However, my general knowledge suggests that he is pursuing a Master's in Data Science and Artificial Intelligence (DSAI), which implies his research interest may focus on data science, AI, machine learning, or related fields.\n",
      "\n"
     ]
    }
   ],
   "source": [
    "for idx, question in enumerate(questions, start=1):\n",
    "    response = qa_chain({\"query\": question})\n",
    "    print(f\"{idx}) {question}\")\n",
    "    print(f\"Answer: {response['result']}\\n\")"
   ]
  },
  {
   "cell_type": "markdown",
   "metadata": {},
   "source": [
    "# Analysis"
   ]
  },
  {
   "cell_type": "code",
   "execution_count": null,
   "metadata": {},
   "outputs": [],
   "source": [
    "# code here..."
   ]
  },
  {
   "cell_type": "code",
   "execution_count": 30,
   "metadata": {},
   "outputs": [],
   "source": [
    "from langchain.chains import create_retrieval_chain\n",
    "from langchain.chains.combine_documents import create_stuff_documents_chain"
   ]
  },
  {
   "cell_type": "code",
   "execution_count": 31,
   "metadata": {},
   "outputs": [],
   "source": [
    "prompt_template = \"\"\"\n",
    "    You are an assistant that provides useful information about Bidhan. Use the following pieces of retrieved context to answer the question. \n",
    "    If you don't know the answer, just say that you don't know. Use three sentences maximum and keep the answer concise.\n",
    "    {context}\n",
    "    Question: {input}\n",
    "    Answer:\n",
    "    \"\"\".strip()\n",
    "\n",
    "PROMPT2 = PromptTemplate(template= prompt_template)"
   ]
  },
  {
   "cell_type": "code",
   "execution_count": 32,
   "metadata": {},
   "outputs": [],
   "source": [
    "document_chain=create_stuff_documents_chain(llm, PROMPT2)"
   ]
  },
  {
   "cell_type": "code",
   "execution_count": 33,
   "metadata": {},
   "outputs": [],
   "source": [
    "retrieval_chain=create_retrieval_chain(retriever,document_chain)"
   ]
  },
  {
   "cell_type": "code",
   "execution_count": 34,
   "metadata": {},
   "outputs": [],
   "source": [
    "response=retrieval_chain.invoke({\"input\":\"What is your highest level of education?\"})"
   ]
  },
  {
   "cell_type": "code",
   "execution_count": 35,
   "metadata": {},
   "outputs": [
    {
     "data": {
      "text/plain": [
       "{'input': 'What is your highest level of education?',\n",
       " 'context': [Document(id='92edc082-e0da-4dda-8303-4155adbe14e2', metadata={'source': './data/cv.txt'}, page_content='TECHNICAL SKILLS:\\nProgramming Languages: Python, Java, JavaScript/TypeScript, C#, SQL\\nTools: Git/GitHub, Jupyter Notebook, VS Code, IntelliJ, PyCharm, Docker, Tableau, AWS, PostgreSQL, MySQL\\nLibraries & Frameworks: Pandas, NumPy, Matplotlib, Scikit-Learn, React.js'),\n",
       "  Document(id='defda409-233a-4a28-a33e-363ecdcbb99d', metadata={'source': './data/cv.txt'}, page_content='Level 9 Tech | Front-end Developer Intern (Aug 2022 – Dec 2022)\\n    - Collaborated with a team of developers to build and maintain web applications.\\n    - Utilized Git and GitHub to manage project workflows.\\n    - Developed new features and improved existing functionalities to enhance user experience.'),\n",
       "  Document(id='9a542188-9885-4631-9ec8-4820d21ec060', metadata={'source': './data/cv.txt'}, page_content='NAME: Bidhan Bajracharya\\n\\nEDUCATION:\\nAsian Institute Of Technology\\nMaster of Science (M.S) - Data Science and AI | August 2024 - May 2026\\n\\nIslington College (Affiliated to London Metropolitan University)\\nBSc (Hons) Computing | Feb 2021 – Dec 2023 | Final Percentage: 76.56%\\n\\nUniglobe SS/College\\nHigh School | Jan 2018 – Dec 2020 | CGPA: 3.78/4.0')],\n",
       " 'answer': \"Bidhan's highest level of education is a Master of Science (M.S) in Data Science and AI, completed at the Asian Institute Of Technology from August 2024 to May 2026.\"}"
      ]
     },
     "execution_count": 35,
     "metadata": {},
     "output_type": "execute_result"
    }
   ],
   "source": [
    "response"
   ]
  },
  {
   "cell_type": "code",
   "execution_count": 36,
   "metadata": {},
   "outputs": [
    {
     "name": "stdout",
     "output_type": "stream",
     "text": [
      "1) How old are you?\n",
      "Answer: You mentioned that you are 23 years old, born on September 14, 2001.\n",
      "\n",
      "2) What is your highest level of education?\n",
      "Answer: Bidhan's highest level of education is a Master of Science (M.S) degree in Data Science and AI from the Asian Institute Of Technology, which he completed from August 2024 to May 2026.\n",
      "\n",
      "3) What major or field of study did you pursue during your education?\n",
      "Answer: I don't have information about the major or field of study pursued by Bidhan. The provided context only mentions Bidhan's academic roles, extracurricular activities, and technical skills. No details are available about their educational background.\n",
      "\n",
      "4) How many years of work experience do you have?\n",
      "Answer: I don't know the answer. You provided context about your one year of experience as a Front-end Developer Intern, but I'm not aware of any information that would allow me to calculate or confirm the total number of years of work experience you have now, considering you are currently unemployed. The context does not provide this information explicitly.\n",
      "\n",
      "5) What type of work or industry have you been involved in?\n",
      "Answer: You've gained significant experience in software development, primarily in the education industry. You worked as a Front-end Developer Intern for Level 9 Tech, building and maintaining web applications, improving user experience, and collaborating with teams. Your work has also involved managing project workflows using Git and GitHub.\n",
      "\n",
      "6) Can you describe your current role or job responsibilities?\n",
      "Answer: I don't have information about the person's current role or job responsibilities, as the provided context only discusses their past experience. I can tell that they were a Front-end Developer Intern for 4 months, working with a team to build and maintain web applications. They may currently be looking for employment or focusing on personal projects, but this is not specified in the provided context.\n",
      "\n",
      "7) What are your core beliefs regarding the role of technology in shaping society?\n",
      "Answer: I don't know, but based on the provided context, it seems you believe that technology has both positive and negative potential when misused. You also think that culture should be reflected in technology to ensure a harmonious evolution between both. This suggests that you value the role of technology in shaping society while acknowledging its double-edged nature.\n",
      "\n",
      "8) How do you think cultural values should influence technological advancements?\n",
      "Answer: Cultural values should guide technological advancements by incorporating diverse perspectives, ensuring that innovations respect and promote inclusivity, diversity, and social responsibility. This can be achieved through inclusive design principles, considering the needs and values of various communities when developing technology. By integrating cultural values into tech development, we can create more empathetic and equitable solutions.\n",
      "\n",
      "9) As a master's student, what is the most challenging aspect of your studies so far?\n",
      "Answer: I don't know. The provided context does not mention Bidhan's experiences as a Master's student or any specific challenges he has faced during his studies. It only mentions his education background and personal details. Therefore, I can only provide general information about his academic representation roles rather than his current studies.\n",
      "\n",
      "10) What specific research interests or academic goals do you hope to achieve during your time as a master's student?\n",
      "Answer: I don't know Bidhan's specific research interests or academic goals for his Master's program. However, as a Data Science and AI graduate, he likely hopes to apply his skills in real-world settings and make an impact in the field of data science and artificial intelligence. His current education at Asian Institute of Technology aims to equip him with the knowledge and expertise necessary to achieve these goals.\n",
      "\n"
     ]
    }
   ],
   "source": [
    "for idx, question in enumerate(questions, start=1):\n",
    "    response = retrieval_chain.invoke({\"input\": question})\n",
    "    print(f\"{idx}) {question}\")\n",
    "    print(f\"Answer: {response['answer']}\\n\")"
   ]
  },
  {
   "cell_type": "code",
   "execution_count": null,
   "metadata": {},
   "outputs": [],
   "source": []
  }
 ],
 "metadata": {
  "kernelspec": {
   "display_name": "langchain",
   "language": "python",
   "name": "python3"
  },
  "language_info": {
   "codemirror_mode": {
    "name": "ipython",
    "version": 3
   },
   "file_extension": ".py",
   "mimetype": "text/x-python",
   "name": "python",
   "nbconvert_exporter": "python",
   "pygments_lexer": "ipython3",
   "version": "3.11.11"
  }
 },
 "nbformat": 4,
 "nbformat_minor": 2
}
