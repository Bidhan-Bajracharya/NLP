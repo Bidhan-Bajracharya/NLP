{
 "cells": [
  {
   "cell_type": "code",
   "execution_count": 102,
   "metadata": {},
   "outputs": [],
   "source": [
    "import torch, torchtext\n",
    "import torch.nn as nn\n",
    "import numpy as np \n",
    "import pandas as pd\n",
    "import matplotlib.pyplot as plt \n",
    "from datasets import load_dataset\n",
    "from numpy.random import default_rng\n",
    "\n",
    "import random, math, time"
   ]
  },
  {
   "cell_type": "code",
   "execution_count": 103,
   "metadata": {},
   "outputs": [
    {
     "name": "stdout",
     "output_type": "stream",
     "text": [
      "cuda\n"
     ]
    }
   ],
   "source": [
    "device = torch.device('cuda' if torch.cuda.is_available() else 'cpu')\n",
    "print(device)"
   ]
  },
  {
   "cell_type": "code",
   "execution_count": 104,
   "metadata": {},
   "outputs": [],
   "source": [
    "# make our work comparable if restarted the kernel\n",
    "SEED = 1991\n",
    "torch.manual_seed(SEED)\n",
    "torch.backends.cudnn.deterministic = True"
   ]
  },
  {
   "cell_type": "code",
   "execution_count": 105,
   "metadata": {},
   "outputs": [
    {
     "data": {
      "text/plain": [
       "('2.3.0', '0.18.0', '2.2.2', '1.24.3')"
      ]
     },
     "execution_count": 105,
     "metadata": {},
     "output_type": "execute_result"
    }
   ],
   "source": [
    "# versions\n",
    "torch.__version__, torchtext.__version__, pd.__version__, np.__version__"
   ]
  },
  {
   "cell_type": "markdown",
   "metadata": {},
   "source": [
    "# ETL: Loading the dataset\n",
    "\n",
    "For this assignment, the language I chose is Nepali. And the dataset is taken from HuggingFace: https://huggingface.co/datasets/Helsinki-NLP/opus-100/viewer/en-ne"
   ]
  },
  {
   "cell_type": "code",
   "execution_count": 106,
   "metadata": {},
   "outputs": [],
   "source": [
    "dataset = load_dataset(\"opus100\", \"en-ne\")"
   ]
  },
  {
   "cell_type": "code",
   "execution_count": 107,
   "metadata": {},
   "outputs": [
    {
     "data": {
      "text/plain": [
       "DatasetDict({\n",
       "    test: Dataset({\n",
       "        features: ['translation'],\n",
       "        num_rows: 2000\n",
       "    })\n",
       "    train: Dataset({\n",
       "        features: ['translation'],\n",
       "        num_rows: 406381\n",
       "    })\n",
       "    validation: Dataset({\n",
       "        features: ['translation'],\n",
       "        num_rows: 2000\n",
       "    })\n",
       "})"
      ]
     },
     "execution_count": 107,
     "metadata": {},
     "output_type": "execute_result"
    }
   ],
   "source": [
    "# information about the dataset\n",
    "dataset"
   ]
  },
  {
   "cell_type": "code",
   "execution_count": 108,
   "metadata": {},
   "outputs": [
    {
     "data": {
      "text/plain": [
       "{'translation': {'en': 'S_ubject:', 'ne': 'विषय:'}}"
      ]
     },
     "execution_count": 108,
     "metadata": {},
     "output_type": "execute_result"
    }
   ],
   "source": [
    "# preview\n",
    "dataset['train'][8]"
   ]
  },
  {
   "cell_type": "markdown",
   "metadata": {},
   "source": [
    "# EDA - simple investigation"
   ]
  },
  {
   "cell_type": "code",
   "execution_count": 109,
   "metadata": {},
   "outputs": [
    {
     "data": {
      "text/plain": [
       "Dataset({\n",
       "    features: ['translation'],\n",
       "    num_rows: 406381\n",
       "})"
      ]
     },
     "execution_count": 109,
     "metadata": {},
     "output_type": "execute_result"
    }
   ],
   "source": [
    "dataset['train']"
   ]
  },
  {
   "cell_type": "code",
   "execution_count": 110,
   "metadata": {},
   "outputs": [
    {
     "data": {
      "text/plain": [
       "{'translation': {'en': '_Inv', 'ne': 'Inv'}}"
      ]
     },
     "execution_count": 110,
     "metadata": {},
     "output_type": "execute_result"
    }
   ],
   "source": [
    "# looking at training example\n",
    "preview = next(iter(dataset['train']))\n",
    "preview"
   ]
  },
  {
   "cell_type": "code",
   "execution_count": 111,
   "metadata": {},
   "outputs": [
    {
     "data": {
      "text/plain": [
       "406381"
      ]
     },
     "execution_count": 111,
     "metadata": {},
     "output_type": "execute_result"
    }
   ],
   "source": [
    "train_size = len(list(iter(dataset['train'])))\n",
    "train_size"
   ]
  },
  {
   "cell_type": "code",
   "execution_count": 112,
   "metadata": {},
   "outputs": [
    {
     "data": {
      "text/plain": [
       "'_Inv'"
      ]
     },
     "execution_count": 112,
     "metadata": {},
     "output_type": "execute_result"
    }
   ],
   "source": [
    "dataset['train'][0]['translation']['en']"
   ]
  },
  {
   "cell_type": "markdown",
   "metadata": {},
   "source": [
    "I feel this object has too deeply nested structure. Reducing the dataset size and changing the structure for efficiency and code readability."
   ]
  },
  {
   "cell_type": "code",
   "execution_count": 113,
   "metadata": {},
   "outputs": [],
   "source": [
    "# random numnber generator\n",
    "rand = default_rng(SEED)\n",
    "\n",
    "# random index from the dataset\n",
    "# reducing the size of the dataset to 200k\n",
    "random_index = rand.choice(len(dataset['train']), 200000, replace=False)\n",
    "\n",
    "dataset['train'] = dataset['train'].filter(lambda data, index: index in random_index, with_indices=True)\n"
   ]
  },
  {
   "cell_type": "code",
   "execution_count": 114,
   "metadata": {},
   "outputs": [],
   "source": [
    "# dataset['train'] = dataset['train'].select(random_index)"
   ]
  },
  {
   "cell_type": "code",
   "execution_count": 115,
   "metadata": {},
   "outputs": [],
   "source": [
    "# Extracts translation col for specific language\n",
    "# eg: data['translation']['ne']\n",
    "new_col_gen = lambda data, lang: {lang: data['translation'][lang]}\n",
    "\n",
    "# New column for Nepali translation\n",
    "dataset = dataset.map(new_col_gen, fn_kwargs={'lang': \"ne\"})\n",
    "\n",
    "# New column for English translation\n",
    "# Deleting the translation column\n",
    "dataset = dataset.map(new_col_gen, remove_columns=['translation'], fn_kwargs={'lang': \"en\"})"
   ]
  },
  {
   "cell_type": "code",
   "execution_count": 116,
   "metadata": {},
   "outputs": [
    {
     "data": {
      "text/plain": [
       "{'ne': 'Inv', 'en': '_Inv'}"
      ]
     },
     "execution_count": 116,
     "metadata": {},
     "output_type": "execute_result"
    }
   ],
   "source": [
    "# Rechecking the dataset\n",
    "sample = next(iter(dataset['train']))\n",
    "sample"
   ]
  },
  {
   "cell_type": "code",
   "execution_count": 117,
   "metadata": {},
   "outputs": [
    {
     "data": {
      "text/plain": [
       "200000"
      ]
     },
     "execution_count": 117,
     "metadata": {},
     "output_type": "execute_result"
    }
   ],
   "source": [
    "train_size = len(list(iter(dataset['train'])))\n",
    "train_size"
   ]
  },
  {
   "cell_type": "code",
   "execution_count": 118,
   "metadata": {},
   "outputs": [
    {
     "data": {
      "text/plain": [
       "DatasetDict({\n",
       "    test: Dataset({\n",
       "        features: ['ne', 'en'],\n",
       "        num_rows: 2000\n",
       "    })\n",
       "    train: Dataset({\n",
       "        features: ['ne', 'en'],\n",
       "        num_rows: 200000\n",
       "    })\n",
       "    validation: Dataset({\n",
       "        features: ['ne', 'en'],\n",
       "        num_rows: 2000\n",
       "    })\n",
       "})"
      ]
     },
     "execution_count": 118,
     "metadata": {},
     "output_type": "execute_result"
    }
   ],
   "source": [
    "dataset # easier to work with"
   ]
  },
  {
   "cell_type": "markdown",
   "metadata": {},
   "source": [
    "# Preprocessing"
   ]
  },
  {
   "cell_type": "markdown",
   "metadata": {},
   "source": [
    "## Tokenizing\n",
    "\n",
    "**Note**: the models must first be downloaded using the following on the command line: \n",
    "```\n",
    "python3 -m spacy download en_core_web_sm\n",
    "```\n",
    "\n",
    "First, since we have two languages, let's create some constants to represent that.  Also, let's create two dicts: one for holding our tokenizers and one for holding all the vocabs with assigned numbers for each unique word."
   ]
  },
  {
   "cell_type": "code",
   "execution_count": 119,
   "metadata": {},
   "outputs": [],
   "source": [
    "# Place-holders\n",
    "token_transform = {}\n",
    "vocab_transform = {}\n",
    "\n",
    "SRC_LANG= 'en'\n",
    "TARG_LANG = 'ne'"
   ]
  },
  {
   "cell_type": "code",
   "execution_count": 120,
   "metadata": {},
   "outputs": [],
   "source": [
    "from torchtext.data.utils import get_tokenizer\n",
    "from nepalitokenizers import WordPiece"
   ]
  },
  {
   "cell_type": "markdown",
   "metadata": {},
   "source": [
    "### Credits:\n",
    "\n",
    "**Native Language tokenizer:** <br>\n",
    "Here, I'm using nepalitokenizers which is a pre-trained WordPiece and SentencePiece (Unigram) tokenizers for Nepali language trained using HuggingFace's tokenizers library. Source: https://github.com/basnetsoyuj/nepali-tokenizers\n",
    "\n",
    "I also used one of spacy's trained pipelines for English `en_core_web_sm`. Spacy is an open-source library of Python that provides advanced capabilities to conduct natural language processing. Details on the pipeline used can be found here: https://spacy.io/models/en"
   ]
  },
  {
   "cell_type": "code",
   "execution_count": 121,
   "metadata": {},
   "outputs": [],
   "source": [
    "token_transform[\"en\"] = get_tokenizer('spacy', language='en_core_web_sm')\n",
    "token_transform[\"ne\"] = WordPiece()"
   ]
  },
  {
   "cell_type": "code",
   "execution_count": 122,
   "metadata": {},
   "outputs": [
    {
     "name": "stdout",
     "output_type": "stream",
     "text": [
      "Sentence:  ‡ (# 8225;) डबल ड्यागर\n",
      "Tokenization:  ['[CLS]', '‡', '(', '###', '82', '##25', ';', '##)', 'डबल', 'ड्य', '##ागर', '[SEP]']\n"
     ]
    }
   ],
   "source": [
    "print(\"Sentence: \", dataset['train']['ne'][2])\n",
    "print(\"Tokenization: \", token_transform['ne'].encode(dataset['train']['ne'][2]).tokens)"
   ]
  },
  {
   "cell_type": "code",
   "execution_count": 123,
   "metadata": {},
   "outputs": [],
   "source": [
    "def get_data_token(data, lang):\n",
    "    '''Tokenize data for a given language'''\n",
    "    # if lang == 'ne':\n",
    "    #     return {lang: token_transform[lang].encode(data[lang].lower()).tokens}\n",
    "    # else:\n",
    "    #     return {lang: token_transform[lang](data[lang].lower())}\n",
    "    try:\n",
    "        # Tokenize the data using the specified language tokenizer\n",
    "        return {lang: token_transform[lang](data[lang].lower())}\n",
    "    except:\n",
    "        # If an exception occurs, use WordPiece tokenizer for Nepali language\n",
    "        return {lang: token_transform[lang].encode(data[lang].lower()).tokens}"
   ]
  },
  {
   "cell_type": "code",
   "execution_count": 124,
   "metadata": {},
   "outputs": [
    {
     "name": "stderr",
     "output_type": "stream",
     "text": [
      "Map: 100%|██████████| 2000/2000 [00:00<00:00, 7852.32 examples/s]\n",
      "Map: 100%|██████████| 200000/200000 [00:22<00:00, 9055.54 examples/s] \n",
      "Map: 100%|██████████| 2000/2000 [00:00<00:00, 3884.45 examples/s]\n"
     ]
    }
   ],
   "source": [
    "tokenized_dataset = dataset.map(get_data_token, remove_columns=[SRC_LANG], fn_kwargs={'lang': SRC_LANG})\n",
    "\n",
    "tokenized_dataset = tokenized_dataset.map(get_data_token, remove_columns=[TARG_LANG], fn_kwargs={'lang': TARG_LANG})"
   ]
  },
  {
   "cell_type": "code",
   "execution_count": 125,
   "metadata": {},
   "outputs": [],
   "source": [
    "# Define special symbols and indices\n",
    "UNK_IDX, PAD_IDX, SOS_IDX, EOS_IDX = 0, 1, 2, 3\n",
    "# Make sure the tokens are in order of their indices to properly insert them in vocab\n",
    "special_symbols = ['<unk>', '<pad>', '<sos>', '<eos>']"
   ]
  },
  {
   "cell_type": "markdown",
   "metadata": {},
   "source": [
    "## Text to integers (Numericalization)\n",
    "\n",
    "Next we gonna create function (torchtext called vocabs) that turn these tokens into integers.  Here we use built in factory function <code>build_vocab_from_iterator</code> which accepts iterator that yield list or iterator of tokens."
   ]
  },
  {
   "cell_type": "code",
   "execution_count": 126,
   "metadata": {},
   "outputs": [],
   "source": [
    "from torchtext.vocab import build_vocab_from_iterator\n",
    "\n",
    "for ln in [SRC_LANG, TARG_LANG]:\n",
    "    # Create torchtext's Vocab object\n",
    "    vocab_transform[ln] = build_vocab_from_iterator(tokenized_dataset['train'][ln],\n",
    "                                                    min_freq=2,   #if not, everything will be treated as UNK\n",
    "                                                    specials=special_symbols,\n",
    "                                                    special_first=True) #indicates whether to insert symbols at the beginning or at the end\n",
    "# Set UNK_IDX as the default index. This index is returned when the token is not found.\n",
    "# If not set, it throws RuntimeError when the queried token is not found in the Vocabulary.\n",
    "for ln in [SRC_LANG, TARG_LANG]:\n",
    "    vocab_transform[ln].set_default_index(UNK_IDX)"
   ]
  },
  {
   "cell_type": "code",
   "execution_count": 127,
   "metadata": {},
   "outputs": [],
   "source": [
    "# saveing vocab\n",
    "torch.save(vocab_transform, 'model/vocab')"
   ]
  },
  {
   "cell_type": "code",
   "execution_count": 128,
   "metadata": {},
   "outputs": [
    {
     "data": {
      "text/plain": [
       "[237, 20, 11, 0, 11]"
      ]
     },
     "execution_count": 128,
     "metadata": {},
     "output_type": "execute_result"
    }
   ],
   "source": [
    "#see some example\n",
    "vocab_transform[SRC_LANG](['here', 'is', 'a', 'unknownword', 'a'])"
   ]
  },
  {
   "cell_type": "code",
   "execution_count": 129,
   "metadata": {},
   "outputs": [
    {
     "data": {
      "text/plain": [
       "'including'"
      ]
     },
     "execution_count": 129,
     "metadata": {},
     "output_type": "execute_result"
    }
   ],
   "source": [
    "#we can reverse it....\n",
    "mapping = vocab_transform[SRC_LANG].get_itos()\n",
    "\n",
    "#print 1816, for example\n",
    "mapping[1891]"
   ]
  },
  {
   "cell_type": "code",
   "execution_count": 130,
   "metadata": {},
   "outputs": [
    {
     "data": {
      "text/plain": [
       "'<unk>'"
      ]
     },
     "execution_count": 130,
     "metadata": {},
     "output_type": "execute_result"
    }
   ],
   "source": [
    "#let's try unknown vocab\n",
    "mapping[0]\n",
    "#they will all map to <unk> which has 0 as integer"
   ]
  },
  {
   "cell_type": "code",
   "execution_count": 131,
   "metadata": {},
   "outputs": [
    {
     "data": {
      "text/plain": [
       "('<pad>', '<sos>', '<eos>')"
      ]
     },
     "execution_count": 131,
     "metadata": {},
     "output_type": "execute_result"
    }
   ],
   "source": [
    "#let's try special symbols\n",
    "mapping[1], mapping[2], mapping[3]"
   ]
  },
  {
   "cell_type": "code",
   "execution_count": 132,
   "metadata": {},
   "outputs": [
    {
     "data": {
      "text/plain": [
       "17074"
      ]
     },
     "execution_count": 132,
     "metadata": {},
     "output_type": "execute_result"
    }
   ],
   "source": [
    "#check unique vocabularies\n",
    "len(mapping)"
   ]
  },
  {
   "cell_type": "markdown",
   "metadata": {},
   "source": [
    "### Understanding: Preparation of the dataset\n",
    "\n",
    "So for the preparation of my dataset there were multiple steps. Firstly, I used the Nepali dataset that I found from HuggingFace (which I mentioned in ETL process). It contains English sentences with Nepali translation of it. It also already separated testing, training and validation dataset. \n",
    "\n",
    "Moving onto the EDA phase, I changed the object structure to make it more easier to work with while also randomly filtering the training dataset size to 200k. Then I moved on to tokenizing step where I used the previously mentioned `nepalitokenizers`. So, using `get_tokenizer` from torchtext and `WordPiece` from `nepalitokenizers` tokens were created for both English and Nepali respectively. Moving on, we defined special symbols `<unk>`, `<pad>`, `<sos>`, `<eos>` with indexes `0, 1, 2, 3` respectively. Where each symbol has meanings as such:\n",
    "- `<unk>`: To represent Unknown\n",
    "- `<pad>`: Padding, used to ensure all sequences are of same length\n",
    "- `<sos>`: Start of sentence\n",
    "- `<eos>`: End of sentence\n",
    "\n",
    "Then, we did Numericalization using `build_vocab_from_iterator` where we turned the tokens into integers. After this, further proccesses are applied."
   ]
  },
  {
   "cell_type": "markdown",
   "metadata": {},
   "source": [
    "# Preparing the dataloader"
   ]
  },
  {
   "cell_type": "code",
   "execution_count": 133,
   "metadata": {},
   "outputs": [],
   "source": [
    "from torch.nn.utils.rnn import pad_sequence\n",
    "from torch.utils.data import DataLoader\n",
    "\n",
    "BATCH_SIZE = 64\n",
    "\n",
    "# Define a helper function to combine sequential operations\n",
    "def sequential_transforms(*transforms):\n",
    "    def func(txt_input):\n",
    "        # Iterate over the provided transformations\n",
    "        for transform in transforms:\n",
    "            try:\n",
    "                # Apply the transformation to the text input\n",
    "                txt_input = transform(txt_input)\n",
    "            except:\n",
    "                # If an exception occurs (e.g., if the transform is an encoding operation), catch it\n",
    "                txt_input = transform.encode(txt_input).tokens\n",
    "        # Return the transformed text input\n",
    "        return txt_input\n",
    "    # Return the function that applies sequential transformations\n",
    "    return func\n",
    "\n",
    "\n",
    "# function to add BOS/EOS and create tensor for input sequence indices\n",
    "def tensor_transform(token_ids):\n",
    "    return torch.cat((torch.tensor([SOS_IDX]),\n",
    "                      torch.tensor(token_ids),\n",
    "                      torch.tensor([EOS_IDX])))\n",
    "\n",
    "# src and trg language text transforms to convert raw strings into tensors indices\n",
    "text_transform = {}\n",
    "for ln in [SRC_LANG, TARG_LANG]:\n",
    "    text_transform[ln] = sequential_transforms(token_transform[ln], #Tokenization\n",
    "                                               vocab_transform[ln], #Numericalization\n",
    "                                               tensor_transform) # Add BOS/EOS and create tensor\n",
    "\n",
    "\n",
    "# function to collate data samples into batch tesors\n",
    "def collate_batch(batch):\n",
    "    src_batch, src_len_batch, trg_batch = [], [], []\n",
    "    for src_sample, trg_sample in batch:\n",
    "        processed_text = text_transform[SRC_LANG](src_sample.rstrip(\"\\n\"))\n",
    "        src_batch.append(processed_text)\n",
    "        trg_batch.append(text_transform[TARG_LANG](trg_sample.rstrip(\"\\n\")))\n",
    "        src_len_batch.append(processed_text.size(0))\n",
    "\n",
    "    src_batch = pad_sequence(src_batch, padding_value=PAD_IDX, batch_first = True) #<----need this because we use linear layers mostly\n",
    "    trg_batch = pad_sequence(trg_batch, padding_value=PAD_IDX, batch_first = True)\n",
    "    return src_batch, torch.tensor(src_len_batch, dtype=torch.int64), trg_batch"
   ]
  },
  {
   "cell_type": "markdown",
   "metadata": {},
   "source": [
    "Create train, val, and test dataloaders"
   ]
  },
  {
   "cell_type": "code",
   "execution_count": 134,
   "metadata": {},
   "outputs": [],
   "source": [
    "# Set the batch size for data loaders\n",
    "batch_size = 64\n",
    "\n",
    "# Creating DataLoader for the training, validation, test set\n",
    "train_loader = DataLoader(dataset['train'], batch_size=batch_size, shuffle=True, collate_fn=collate_batch)\n",
    "valid_loader = DataLoader(dataset['validation'], batch_size=batch_size, shuffle=False, collate_fn=collate_batch)\n",
    "test_loader = DataLoader(dataset['test'], batch_size=batch_size, shuffle=False, collate_fn=collate_batch)"
   ]
  },
  {
   "cell_type": "code",
   "execution_count": 135,
   "metadata": {},
   "outputs": [],
   "source": [
    "for ne, _, en in train_loader:\n",
    "    break"
   ]
  },
  {
   "cell_type": "code",
   "execution_count": 136,
   "metadata": {},
   "outputs": [
    {
     "name": "stdout",
     "output_type": "stream",
     "text": [
      "English shape:  torch.Size([64, 5])\n",
      "Nepali shape:  torch.Size([64, 3])\n"
     ]
    }
   ],
   "source": [
    "print(\"English shape: \", en.shape)  # (batch_size, seq len)\n",
    "print(\"Nepali shape: \", ne.shape)   # (batch_size, seq len)"
   ]
  },
  {
   "cell_type": "markdown",
   "metadata": {},
   "source": [
    "# Designing the model"
   ]
  },
  {
   "cell_type": "markdown",
   "metadata": {},
   "source": [
    "## Encoder Layer"
   ]
  },
  {
   "cell_type": "code",
   "execution_count": 137,
   "metadata": {},
   "outputs": [],
   "source": [
    "class EncoderLayer(nn.Module):\n",
    "    def __init__(self, hid_dim, n_heads, pf_dim, dropout, atten_type, device):\n",
    "        super().__init__()\n",
    "        self.self_attn_layer_norm = nn.LayerNorm(hid_dim)\n",
    "        self.ff_layer_norm        = nn.LayerNorm(hid_dim)\n",
    "        self.self_attention       = MultiHeadAttentionLayer(hid_dim, n_heads, dropout, atten_type, device)\n",
    "        self.feedforward          = PositionwiseFeedforwardLayer(hid_dim, pf_dim, dropout)\n",
    "        self.dropout              = nn.Dropout(dropout)\n",
    "\n",
    "    def forward(self, src, src_mask):\n",
    "        #src = [batch size, src len, hid dim]\n",
    "        #src_mask = [batch size, 1, 1, src len]   #if the token is padding, it will be 1, otherwise 0\n",
    "        _src, _ = self.self_attention(src, src, src, src_mask)\n",
    "        src     = self.self_attn_layer_norm(src + self.dropout(_src))\n",
    "        #src: [batch_size, src len, hid dim]\n",
    "\n",
    "        _src    = self.feedforward(src)\n",
    "        src     = self.ff_layer_norm(src + self.dropout(_src))\n",
    "        #src: [batch_size, src len, hid dim]\n",
    "\n",
    "        return src"
   ]
  },
  {
   "cell_type": "markdown",
   "metadata": {},
   "source": [
    "## Encoder"
   ]
  },
  {
   "cell_type": "code",
   "execution_count": 138,
   "metadata": {},
   "outputs": [],
   "source": [
    "class Encoder(nn.Module):\n",
    "    def __init__(self, input_dim, hid_dim, n_layers, n_heads, pf_dim, dropout, atten_type, device, max_length = 100):\n",
    "        super().__init__()\n",
    "        self.device = device\n",
    "        self.atten_type = atten_type\n",
    "        self.tok_embedding = nn.Embedding(input_dim, hid_dim)\n",
    "        self.pos_embedding = nn.Embedding(max_length, hid_dim)\n",
    "        self.layers        = nn.ModuleList([EncoderLayer(hid_dim, n_heads, pf_dim, dropout, atten_type,device)\n",
    "                                           for _ in range(n_layers)])\n",
    "        self.dropout       = nn.Dropout(dropout)\n",
    "        self.scale         = torch.sqrt(torch.FloatTensor([hid_dim])).to(self.device)\n",
    "        \n",
    "    def forward(self, src, src_mask):\n",
    "        \n",
    "        #src = [batch size, src len]\n",
    "        #src_mask = [batch size, 1, 1, src len]\n",
    "        \n",
    "        batch_size = src.shape[0]\n",
    "        src_len    = src.shape[1]\n",
    "        \n",
    "        pos        = torch.arange(0, src_len).unsqueeze(0).repeat(batch_size, 1).to(self.device)\n",
    "        #pos: [batch_size, src_len]\n",
    "        \n",
    "        src        = self.dropout((self.tok_embedding(src) * self.scale) + self.pos_embedding(pos))\n",
    "        #src: [batch_size, src_len, hid_dim]\n",
    "        \n",
    "        for layer in self.layers:\n",
    "            src = layer(src, src_mask)\n",
    "        #src: [batch_size, src_len, hid_dim]\n",
    "        \n",
    "        return src"
   ]
  },
  {
   "cell_type": "markdown",
   "metadata": {},
   "source": [
    "### Mutli Head Attention Layer\n",
    "\n",
    "$$ \\text{Attention}(Q, K, V) = \\text{Softmax} \\big( \\frac{QK^T}{\\sqrt{d_k}} \\big)V $$ "
   ]
  },
  {
   "cell_type": "code",
   "execution_count": 139,
   "metadata": {},
   "outputs": [],
   "source": [
    "class AdditiveAttention(nn.Module):\n",
    "    def __init__(self, head_dim):\n",
    "        super(AdditiveAttention, self).__init__()\n",
    "        \n",
    "        # Linear layers for additive attention\n",
    "        self.Wa = nn.Linear(head_dim, head_dim)\n",
    "        self.Ua = nn.Linear(head_dim, head_dim)\n",
    "        self.V = nn.Linear(head_dim, 1)\n",
    "\n",
    "    def forward(self, query, keys):\n",
    "        # Add singleton dimensions for broadcasting\n",
    "        query = query.unsqueeze(3)\n",
    "        keys = keys.unsqueeze(2)\n",
    "\n",
    "        # Apply additive attention mechanism\n",
    "        features = torch.tanh(self.Wa(query) + self.Ua(keys))\n",
    "        \n",
    "        # Calculate attention scores\n",
    "        scores = self.V(features).squeeze(-1)\n",
    "        \n",
    "        return scores"
   ]
  },
  {
   "cell_type": "code",
   "execution_count": 140,
   "metadata": {},
   "outputs": [],
   "source": [
    "class MultiHeadAttentionLayer(nn.Module):\n",
    "    def __init__(self, hid_dim, n_heads, dropout, atten_type, device):\n",
    "        super().__init__()\n",
    "        assert hid_dim % n_heads == 0\n",
    "        self.hid_dim  = hid_dim\n",
    "        self.n_heads  = n_heads\n",
    "        self.head_dim = hid_dim // n_heads\n",
    "        self.atten_type = atten_type\n",
    "        \n",
    "        self.fc_q     = nn.Linear(hid_dim, hid_dim)\n",
    "        self.fc_k     = nn.Linear(hid_dim, hid_dim)\n",
    "        self.fc_v     = nn.Linear(hid_dim, hid_dim)\n",
    "        \n",
    "        self.fc_o     = nn.Linear(hid_dim, hid_dim)\n",
    "        \n",
    "        self.dropout  = nn.Dropout(dropout)\n",
    "        \n",
    "        self.scale    = torch.sqrt(torch.FloatTensor([self.head_dim])).to(device)\n",
    "        self.additive_attention = AdditiveAttention(self.head_dim)\n",
    "                \n",
    "    def forward(self, query, key, value, mask = None):\n",
    "        #src, src, src, src_mask\n",
    "        #query = [batch size, query len, hid dim]\n",
    "        #key = [batch size, key len, hid dim]\n",
    "        #value = [batch size, value len, hid dim]\n",
    "        \n",
    "        batch_size = query.shape[0]\n",
    "        \n",
    "        Q = self.fc_q(query)\n",
    "        K = self.fc_k(key)\n",
    "        V = self.fc_v(value)\n",
    "        #Q=K=V: [batch_size, src len, hid_dim]\n",
    "        \n",
    "        Q = Q.view(batch_size, -1, self.n_heads, self.head_dim).permute(0, 2, 1, 3)\n",
    "        K = K.view(batch_size, -1, self.n_heads, self.head_dim).permute(0, 2, 1, 3)\n",
    "        V = V.view(batch_size, -1, self.n_heads, self.head_dim).permute(0, 2, 1, 3)\n",
    "        #Q = [batch_size, n heads, query len, head_dim]\n",
    "\n",
    "        # Calculate attention scores based on the selected attention variant\n",
    "        if self.atten_type == \"multiplicative\":\n",
    "            energy = torch.matmul(Q, K.permute(0, 1, 3, 2)) / self.scale\n",
    "        elif self.atten_type == \"general\":\n",
    "            energy = torch.matmul(Q, K.permute(0, 1, 3, 2))\n",
    "        elif self.atten_type == \"additive\":\n",
    "            energy = self.additive_attention(Q, K)\n",
    "        else:\n",
    "            raise Exception(\"Incorrect value. Must be either 'multiplicative', 'general', or 'additive'.\")\n",
    "        \n",
    "        #Q = [batch_size, n heads, query len, head_dim] @ K = [batch_size, n heads, head_dim, key len]\n",
    "        #energy = [batch_size, n heads, query len, key len]\n",
    "        \n",
    "        #for making attention to padding to 0\n",
    "        if mask is not None:\n",
    "            energy = energy.masked_fill(mask == 0, -1e10)\n",
    "            \n",
    "        attention = torch.softmax(energy, dim = -1)\n",
    "        #attention = [batch_size, n heads, query len, key len]\n",
    "        \n",
    "        x = torch.matmul(self.dropout(attention), V)\n",
    "        #[batch_size, n heads, query len, key len] @ [batch_size, n heads, value len, head_dim]\n",
    "        #x = [batch_size, n heads, query len, head dim]\n",
    "        \n",
    "        x = x.permute(0, 2, 1, 3).contiguous()  #we can perform .view\n",
    "        #x = [batch_size, query len, n heads, head dim]\n",
    "        \n",
    "        x = x.view(batch_size, -1, self.hid_dim)\n",
    "        #x = [batch_size, query len, hid dim]\n",
    "        \n",
    "        x = self.fc_o(x)\n",
    "        #x = [batch_size, query len, hid dim]\n",
    "        \n",
    "        return x, attention\n",
    "        "
   ]
  },
  {
   "cell_type": "markdown",
   "metadata": {},
   "source": [
    "## Position-wise Feedforward Layer"
   ]
  },
  {
   "cell_type": "code",
   "execution_count": 141,
   "metadata": {},
   "outputs": [],
   "source": [
    "class PositionwiseFeedforwardLayer(nn.Module):\n",
    "    def __init__(self, hid_dim, pf_dim, dropout):\n",
    "        super().__init__()\n",
    "        self.fc1 = nn.Linear(hid_dim, pf_dim)\n",
    "        self.fc2 = nn.Linear(pf_dim, hid_dim)\n",
    "        self.dropout = nn.Dropout(dropout)\n",
    "        \n",
    "    def forward(self, x):\n",
    "        #x = [batch size, src len, hid dim]\n",
    "        x = self.dropout(torch.relu(self.fc1(x)))\n",
    "        x = self.fc2(x)\n",
    "        \n",
    "        return x"
   ]
  },
  {
   "cell_type": "markdown",
   "metadata": {},
   "source": [
    "## Decoder Layer"
   ]
  },
  {
   "cell_type": "code",
   "execution_count": 142,
   "metadata": {},
   "outputs": [],
   "source": [
    "class DecoderLayer(nn.Module):\n",
    "    def __init__(self, hid_dim, n_heads, pf_dim, dropout, atten_type, device):\n",
    "        super().__init__()\n",
    "        self.self_attn_layer_norm = nn.LayerNorm(hid_dim)\n",
    "        self.enc_attn_layer_norm  = nn.LayerNorm(hid_dim)\n",
    "        self.ff_layer_norm        = nn.LayerNorm(hid_dim)\n",
    "        self.self_attention       = MultiHeadAttentionLayer(hid_dim, n_heads, dropout, atten_type, device)\n",
    "        self.encoder_attention    = MultiHeadAttentionLayer(hid_dim, n_heads, dropout, atten_type, device)\n",
    "        self.feedforward          = PositionwiseFeedforwardLayer(hid_dim, pf_dim, dropout)\n",
    "        self.dropout              = nn.Dropout(dropout)\n",
    "        \n",
    "    def forward(self, trg, enc_src, trg_mask, src_mask):\n",
    "        \n",
    "        #trg = [batch size, trg len, hid dim]\n",
    "        #enc_src = [batch size, src len, hid dim]\n",
    "        #trg_mask = [batch size, 1, trg len, trg len]\n",
    "        #src_mask = [batch size, 1, 1, src len]\n",
    "        \n",
    "        _trg, _ = self.self_attention(trg, trg, trg, trg_mask)\n",
    "        trg     = self.self_attn_layer_norm(trg + self.dropout(_trg))\n",
    "        #trg = [batch_size, trg len, hid dim]\n",
    "        \n",
    "        _trg, attention = self.encoder_attention(trg, enc_src, enc_src, src_mask)\n",
    "        trg             = self.enc_attn_layer_norm(trg + self.dropout(_trg))\n",
    "        #trg = [batch_size, trg len, hid dim]\n",
    "        #attention = [batch_size, n heads, trg len, src len]\n",
    "        \n",
    "        _trg = self.feedforward(trg)\n",
    "        trg  = self.ff_layer_norm(trg + self.dropout(_trg))\n",
    "        #trg = [batch_size, trg len, hid dim]\n",
    "        \n",
    "        return trg, attention"
   ]
  },
  {
   "cell_type": "markdown",
   "metadata": {},
   "source": [
    "## Decoder"
   ]
  },
  {
   "cell_type": "code",
   "execution_count": 143,
   "metadata": {},
   "outputs": [],
   "source": [
    "class Decoder(nn.Module):\n",
    "    def __init__(self, output_dim, hid_dim, n_layers, n_heads, \n",
    "                 pf_dim, dropout, atten_type, device,max_length = 100):\n",
    "        super().__init__()\n",
    "        self.device = device\n",
    "        self.tok_embedding = nn.Embedding(output_dim, hid_dim)\n",
    "        self.pos_embedding = nn.Embedding(max_length, hid_dim)\n",
    "        self.layers        = nn.ModuleList([DecoderLayer(hid_dim, n_heads, pf_dim, dropout, atten_type, device)\n",
    "                                            for _ in range(n_layers)])\n",
    "        self.fc_out        = nn.Linear(hid_dim, output_dim)\n",
    "        self.dropout       = nn.Dropout(dropout)\n",
    "        self.scale         = torch.sqrt(torch.FloatTensor([hid_dim])).to(device)\n",
    "        \n",
    "    def forward(self, trg, enc_src, trg_mask, src_mask):\n",
    "        \n",
    "        #trg = [batch size, trg len]\n",
    "        #enc_src = [batch size, src len, hid dim]\n",
    "        #trg_mask = [batch size, 1, trg len, trg len]\n",
    "        #src_mask = [batch size, 1, 1, src len]\n",
    "        \n",
    "        batch_size = trg.shape[0]\n",
    "        trg_len    = trg.shape[1]\n",
    "        \n",
    "        pos = torch.arange(0, trg_len).unsqueeze(0).repeat(batch_size, 1).to(self.device)\n",
    "        #pos: [batch_size, trg len]\n",
    "        \n",
    "        trg = self.dropout((self.tok_embedding(trg) * self.scale) + self.pos_embedding(pos))\n",
    "        #trg: [batch_size, trg len, hid dim]\n",
    "        \n",
    "        for layer in self.layers:\n",
    "            trg, attention = layer(trg, enc_src, trg_mask, src_mask)\n",
    "            \n",
    "        #trg: [batch_size, trg len, hid dim]\n",
    "        #attention: [batch_size, n heads, trg len, src len]\n",
    "        \n",
    "        output = self.fc_out(trg)\n",
    "        #output = [batch_size, trg len, output_dim]\n",
    "        \n",
    "        return output, attention"
   ]
  },
  {
   "cell_type": "markdown",
   "metadata": {},
   "source": [
    "### Putting them together (become Seq2Seq!)\n",
    "\n",
    "Our `trg_sub_mask` will look something like this (for a target with 5 tokens):\n",
    "\n",
    "$$\\begin{matrix}\n",
    "1 & 0 & 0 & 0 & 0\\\\\n",
    "1 & 1 & 0 & 0 & 0\\\\\n",
    "1 & 1 & 1 & 0 & 0\\\\\n",
    "1 & 1 & 1 & 1 & 0\\\\\n",
    "1 & 1 & 1 & 1 & 1\\\\\n",
    "\\end{matrix}$$\n",
    "\n",
    "The \"subsequent\" mask is then logically anded with the padding mask, this combines the two masks ensuring both the subsequent tokens and the padding tokens cannot be attended to. For example if the last two tokens were `<pad>` tokens the mask would look like:\n",
    "\n",
    "$$\\begin{matrix}\n",
    "1 & 0 & 0 & 0 & 0\\\\\n",
    "1 & 1 & 0 & 0 & 0\\\\\n",
    "1 & 1 & 1 & 0 & 0\\\\\n",
    "1 & 1 & 1 & 0 & 0\\\\\n",
    "1 & 1 & 1 & 0 & 0\\\\\n",
    "\\end{matrix}$$"
   ]
  },
  {
   "cell_type": "code",
   "execution_count": 144,
   "metadata": {},
   "outputs": [],
   "source": [
    "class Seq2SeqTransformer(nn.Module):\n",
    "    def __init__(self, encoder, decoder, src_pad_idx, trg_pad_idx, device):\n",
    "        super().__init__()\n",
    "        self.params = {'encoder': encoder, 'decoder': decoder,\n",
    "                       'src_pad_idx': src_pad_idx, 'trg_pad_idx': trg_pad_idx}\n",
    "        self.encoder = encoder\n",
    "        self.decoder = decoder\n",
    "        self.src_pad_idx = src_pad_idx\n",
    "        self.trg_pad_idx = trg_pad_idx\n",
    "        self.device = device\n",
    "        \n",
    "    def make_src_mask(self, src):\n",
    "        \n",
    "        #src = [batch size, src len]\n",
    "        \n",
    "        src_mask = (src != self.src_pad_idx).unsqueeze(1).unsqueeze(2)\n",
    "        #src_mask = [batch size, 1, 1, src len]\n",
    "\n",
    "        return src_mask\n",
    "    \n",
    "    def make_trg_mask(self, trg):\n",
    "        \n",
    "        #trg = [batch size, trg len]\n",
    "        \n",
    "        trg_pad_mask = (trg != self.trg_pad_idx).unsqueeze(1).unsqueeze(2)\n",
    "        #trg_pad_mask = [batch size, 1, 1, trg len]\n",
    "        \n",
    "        trg_len = trg.shape[1]\n",
    "        \n",
    "        trg_sub_mask = torch.tril(torch.ones((trg_len, trg_len), device = self.device)).bool()\n",
    "        #trg_sub_mask = [trg len, trg len]\n",
    "            \n",
    "        trg_mask = trg_pad_mask & trg_sub_mask\n",
    "        #trg_mask = [batch size, 1, trg len, trg len]\n",
    "        \n",
    "        return trg_mask\n",
    "\n",
    "    def forward(self, src, trg):\n",
    "        \n",
    "        #src = [batch size, src len]\n",
    "        #trg = [batch size, trg len]\n",
    "                \n",
    "        src_mask = self.make_src_mask(src)\n",
    "        trg_mask = self.make_trg_mask(trg)\n",
    "        \n",
    "        #src_mask = [batch size, 1, 1, src len]\n",
    "        #trg_mask = [batch size, 1, trg len, trg len]\n",
    "        \n",
    "        enc_src = self.encoder(src, src_mask)\n",
    "        #enc_src = [batch size, src len, hid dim]\n",
    "                \n",
    "        output, attention = self.decoder(trg, enc_src, trg_mask, src_mask)\n",
    "        \n",
    "        #output = [batch size, trg len, output dim]\n",
    "        #attention = [batch size, n heads, trg len, src len]\n",
    "        \n",
    "        return output, attention"
   ]
  },
  {
   "cell_type": "markdown",
   "metadata": {},
   "source": [
    "# Training"
   ]
  },
  {
   "cell_type": "code",
   "execution_count": 145,
   "metadata": {},
   "outputs": [],
   "source": [
    "def initialize_weights(m):\n",
    "    if hasattr(m, 'weight') and m.weight.dim() > 1:\n",
    "        nn.init.xavier_uniform_(m.weight.data)"
   ]
  },
  {
   "cell_type": "code",
   "execution_count": 146,
   "metadata": {},
   "outputs": [],
   "source": [
    "INPUT_DIM = len(vocab_transform[SRC_LANG])\n",
    "OUTPUT_DIM = len(vocab_transform[TARG_LANG])\n",
    "HID_DIM = 256\n",
    "ENC_LAYERS = 3\n",
    "DEC_LAYERS = 3\n",
    "ENC_HEADS = 8\n",
    "DEC_HEADS = 8\n",
    "ENC_PF_DIM = 512\n",
    "DEC_PF_DIM = 512\n",
    "ENC_DROPOUT = 0.1\n",
    "DEC_DROPOUT = 0.1\n",
    "ATTEN_TYPE = 'additive'\n",
    "\n",
    "enc = Encoder(INPUT_DIM, \n",
    "              HID_DIM, \n",
    "              ENC_LAYERS, \n",
    "              ENC_HEADS, \n",
    "              ENC_PF_DIM, \n",
    "              ENC_DROPOUT, \n",
    "              ATTEN_TYPE,\n",
    "              device)\n",
    "\n",
    "dec = Decoder(OUTPUT_DIM, \n",
    "              HID_DIM, \n",
    "              DEC_LAYERS, \n",
    "              DEC_HEADS, \n",
    "              DEC_PF_DIM, \n",
    "              DEC_DROPOUT, \n",
    "              ATTEN_TYPE,\n",
    "              device)\n",
    "\n",
    "SRC_PAD_IDX = PAD_IDX\n",
    "TRG_PAD_IDX = PAD_IDX"
   ]
  },
  {
   "cell_type": "code",
   "execution_count": 147,
   "metadata": {},
   "outputs": [
    {
     "data": {
      "text/plain": [
       "Seq2SeqTransformer(\n",
       "  (encoder): Encoder(\n",
       "    (tok_embedding): Embedding(17074, 256)\n",
       "    (pos_embedding): Embedding(100, 256)\n",
       "    (layers): ModuleList(\n",
       "      (0-2): 3 x EncoderLayer(\n",
       "        (self_attn_layer_norm): LayerNorm((256,), eps=1e-05, elementwise_affine=True)\n",
       "        (ff_layer_norm): LayerNorm((256,), eps=1e-05, elementwise_affine=True)\n",
       "        (self_attention): MultiHeadAttentionLayer(\n",
       "          (fc_q): Linear(in_features=256, out_features=256, bias=True)\n",
       "          (fc_k): Linear(in_features=256, out_features=256, bias=True)\n",
       "          (fc_v): Linear(in_features=256, out_features=256, bias=True)\n",
       "          (fc_o): Linear(in_features=256, out_features=256, bias=True)\n",
       "          (dropout): Dropout(p=0.1, inplace=False)\n",
       "          (additive_attention): AdditiveAttention(\n",
       "            (Wa): Linear(in_features=32, out_features=32, bias=True)\n",
       "            (Ua): Linear(in_features=32, out_features=32, bias=True)\n",
       "            (V): Linear(in_features=32, out_features=1, bias=True)\n",
       "          )\n",
       "        )\n",
       "        (feedforward): PositionwiseFeedforwardLayer(\n",
       "          (fc1): Linear(in_features=256, out_features=512, bias=True)\n",
       "          (fc2): Linear(in_features=512, out_features=256, bias=True)\n",
       "          (dropout): Dropout(p=0.1, inplace=False)\n",
       "        )\n",
       "        (dropout): Dropout(p=0.1, inplace=False)\n",
       "      )\n",
       "    )\n",
       "    (dropout): Dropout(p=0.1, inplace=False)\n",
       "  )\n",
       "  (decoder): Decoder(\n",
       "    (tok_embedding): Embedding(10048, 256)\n",
       "    (pos_embedding): Embedding(100, 256)\n",
       "    (layers): ModuleList(\n",
       "      (0-2): 3 x DecoderLayer(\n",
       "        (self_attn_layer_norm): LayerNorm((256,), eps=1e-05, elementwise_affine=True)\n",
       "        (enc_attn_layer_norm): LayerNorm((256,), eps=1e-05, elementwise_affine=True)\n",
       "        (ff_layer_norm): LayerNorm((256,), eps=1e-05, elementwise_affine=True)\n",
       "        (self_attention): MultiHeadAttentionLayer(\n",
       "          (fc_q): Linear(in_features=256, out_features=256, bias=True)\n",
       "          (fc_k): Linear(in_features=256, out_features=256, bias=True)\n",
       "          (fc_v): Linear(in_features=256, out_features=256, bias=True)\n",
       "          (fc_o): Linear(in_features=256, out_features=256, bias=True)\n",
       "          (dropout): Dropout(p=0.1, inplace=False)\n",
       "          (additive_attention): AdditiveAttention(\n",
       "            (Wa): Linear(in_features=32, out_features=32, bias=True)\n",
       "            (Ua): Linear(in_features=32, out_features=32, bias=True)\n",
       "            (V): Linear(in_features=32, out_features=1, bias=True)\n",
       "          )\n",
       "        )\n",
       "        (encoder_attention): MultiHeadAttentionLayer(\n",
       "          (fc_q): Linear(in_features=256, out_features=256, bias=True)\n",
       "          (fc_k): Linear(in_features=256, out_features=256, bias=True)\n",
       "          (fc_v): Linear(in_features=256, out_features=256, bias=True)\n",
       "          (fc_o): Linear(in_features=256, out_features=256, bias=True)\n",
       "          (dropout): Dropout(p=0.1, inplace=False)\n",
       "          (additive_attention): AdditiveAttention(\n",
       "            (Wa): Linear(in_features=32, out_features=32, bias=True)\n",
       "            (Ua): Linear(in_features=32, out_features=32, bias=True)\n",
       "            (V): Linear(in_features=32, out_features=1, bias=True)\n",
       "          )\n",
       "        )\n",
       "        (feedforward): PositionwiseFeedforwardLayer(\n",
       "          (fc1): Linear(in_features=256, out_features=512, bias=True)\n",
       "          (fc2): Linear(in_features=512, out_features=256, bias=True)\n",
       "          (dropout): Dropout(p=0.1, inplace=False)\n",
       "        )\n",
       "        (dropout): Dropout(p=0.1, inplace=False)\n",
       "      )\n",
       "    )\n",
       "    (fc_out): Linear(in_features=256, out_features=10048, bias=True)\n",
       "    (dropout): Dropout(p=0.1, inplace=False)\n",
       "  )\n",
       ")"
      ]
     },
     "execution_count": 147,
     "metadata": {},
     "output_type": "execute_result"
    }
   ],
   "source": [
    "model = Seq2SeqTransformer(enc, dec, SRC_PAD_IDX, TRG_PAD_IDX, device).to(device)\n",
    "model.apply(initialize_weights)"
   ]
  },
  {
   "cell_type": "code",
   "execution_count": 148,
   "metadata": {},
   "outputs": [
    {
     "name": "stdout",
     "output_type": "stream",
     "text": [
      "4370944\n",
      " 25600\n",
      "   256\n",
      "   256\n",
      "   256\n",
      "   256\n",
      " 65536\n",
      "   256\n",
      " 65536\n",
      "   256\n",
      " 65536\n",
      "   256\n",
      " 65536\n",
      "   256\n",
      "  1024\n",
      "    32\n",
      "  1024\n",
      "    32\n",
      "    32\n",
      "     1\n",
      "131072\n",
      "   512\n",
      "131072\n",
      "   256\n",
      "   256\n",
      "   256\n",
      "   256\n",
      "   256\n",
      " 65536\n",
      "   256\n",
      " 65536\n",
      "   256\n",
      " 65536\n",
      "   256\n",
      " 65536\n",
      "   256\n",
      "  1024\n",
      "    32\n",
      "  1024\n",
      "    32\n",
      "    32\n",
      "     1\n",
      "131072\n",
      "   512\n",
      "131072\n",
      "   256\n",
      "   256\n",
      "   256\n",
      "   256\n",
      "   256\n",
      " 65536\n",
      "   256\n",
      " 65536\n",
      "   256\n",
      " 65536\n",
      "   256\n",
      " 65536\n",
      "   256\n",
      "  1024\n",
      "    32\n",
      "  1024\n",
      "    32\n",
      "    32\n",
      "     1\n",
      "131072\n",
      "   512\n",
      "131072\n",
      "   256\n",
      "2572288\n",
      " 25600\n",
      "   256\n",
      "   256\n",
      "   256\n",
      "   256\n",
      "   256\n",
      "   256\n",
      " 65536\n",
      "   256\n",
      " 65536\n",
      "   256\n",
      " 65536\n",
      "   256\n",
      " 65536\n",
      "   256\n",
      "  1024\n",
      "    32\n",
      "  1024\n",
      "    32\n",
      "    32\n",
      "     1\n",
      " 65536\n",
      "   256\n",
      " 65536\n",
      "   256\n",
      " 65536\n",
      "   256\n",
      " 65536\n",
      "   256\n",
      "  1024\n",
      "    32\n",
      "  1024\n",
      "    32\n",
      "    32\n",
      "     1\n",
      "131072\n",
      "   512\n",
      "131072\n",
      "   256\n",
      "   256\n",
      "   256\n",
      "   256\n",
      "   256\n",
      "   256\n",
      "   256\n",
      " 65536\n",
      "   256\n",
      " 65536\n",
      "   256\n",
      " 65536\n",
      "   256\n",
      " 65536\n",
      "   256\n",
      "  1024\n",
      "    32\n",
      "  1024\n",
      "    32\n",
      "    32\n",
      "     1\n",
      " 65536\n",
      "   256\n",
      " 65536\n",
      "   256\n",
      " 65536\n",
      "   256\n",
      " 65536\n",
      "   256\n",
      "  1024\n",
      "    32\n",
      "  1024\n",
      "    32\n",
      "    32\n",
      "     1\n",
      "131072\n",
      "   512\n",
      "131072\n",
      "   256\n",
      "   256\n",
      "   256\n",
      "   256\n",
      "   256\n",
      "   256\n",
      "   256\n",
      " 65536\n",
      "   256\n",
      " 65536\n",
      "   256\n",
      " 65536\n",
      "   256\n",
      " 65536\n",
      "   256\n",
      "  1024\n",
      "    32\n",
      "  1024\n",
      "    32\n",
      "    32\n",
      "     1\n",
      " 65536\n",
      "   256\n",
      " 65536\n",
      "   256\n",
      " 65536\n",
      "   256\n",
      " 65536\n",
      "   256\n",
      "  1024\n",
      "    32\n",
      "  1024\n",
      "    32\n",
      "    32\n",
      "     1\n",
      "131072\n",
      "   512\n",
      "131072\n",
      "   256\n",
      "2572288\n",
      " 10048\n",
      "______\n",
      "13549737\n"
     ]
    }
   ],
   "source": [
    "def count_parameters(model):\n",
    "    params = [p.numel() for p in model.parameters() if p.requires_grad]\n",
    "    for item in params:\n",
    "        print(f'{item:>6}')\n",
    "    print(f'______\\n{sum(params):>6}')\n",
    "\n",
    "count_parameters(model)"
   ]
  },
  {
   "cell_type": "code",
   "execution_count": 149,
   "metadata": {},
   "outputs": [],
   "source": [
    "import torch.optim as optim\n",
    "\n",
    "lr = 0.0005\n",
    "\n",
    "#training hyperparameters\n",
    "optimizer = optim.Adam(model.parameters(), lr=lr)\n",
    "criterion = nn.CrossEntropyLoss(ignore_index = TRG_PAD_IDX) #combine softmax with cross entropy"
   ]
  },
  {
   "cell_type": "markdown",
   "metadata": {},
   "source": [
    "Then, we'll define our training loop. This is the exact same as the one used in the previous tutorial.\n",
    "\n",
    "As we want our model to predict the `<eos>` token but not have it be an input into our model we simply slice the `<eos>` token off the end of the sequence. Thus:\n",
    "\n",
    "$$\\begin{align*}\n",
    "\\text{trg} &= [sos, x_1, x_2, x_3, eos]\\\\\n",
    "\\text{trg[:-1]} &= [sos, x_1, x_2, x_3]\n",
    "\\end{align*}$$\n",
    "\n",
    "$x_i$ denotes actual target sequence element. We then feed this into the model to get a predicted sequence that should hopefully predict the `<eos>` token:\n",
    "\n",
    "$$\\begin{align*}\n",
    "\\text{output} &= [y_1, y_2, y_3, eos]\n",
    "\\end{align*}$$\n",
    "\n",
    "$y_i$ denotes predicted target sequence element. We then calculate our loss using the original `trg` tensor with the `<sos>` token sliced off the front, leaving the `<eos>` token:\n",
    "\n",
    "$$\\begin{align*}\n",
    "\\text{output} &= [y_1, y_2, y_3, eos]\\\\\n",
    "\\text{trg[1:]} &= [x_1, x_2, x_3, eos]\n",
    "\\end{align*}$$\n",
    "\n",
    "We then calculate our losses and update our parameters as is standard."
   ]
  },
  {
   "cell_type": "code",
   "execution_count": 150,
   "metadata": {},
   "outputs": [],
   "source": [
    "def train(model, loader, optimizer, criterion, clip, loader_length):\n",
    "    \n",
    "    model.train()\n",
    "    \n",
    "    epoch_loss = 0\n",
    "    \n",
    "    for src, src_len, trg in loader:\n",
    "        \n",
    "        src = src.to(device)\n",
    "        trg = trg.to(device)\n",
    "        \n",
    "        optimizer.zero_grad()\n",
    "        \n",
    "        #trg[:, :-1] remove the eos, e.g., \"<sos> I love sushi\" since teaching forcing, the input does not need to have eos\n",
    "        output, _ = model(src, trg[:,:-1])\n",
    "                \n",
    "        #output = [batch size, trg len - 1, output dim]\n",
    "        #trg    = [batch size, trg len]\n",
    "            \n",
    "        output_dim = output.shape[-1]\n",
    "            \n",
    "        output = output.reshape(-1, output_dim)\n",
    "        trg = trg[:,1:].reshape(-1) #trg[:, 1:] remove the sos, e.g., \"i love sushi <eos>\" since in teaching forcing, the output does not have sos\n",
    "                \n",
    "        #output = [batch size * trg len - 1, output dim]\n",
    "        #trg    = [batch size * trg len - 1]\n",
    "            \n",
    "        loss = criterion(output, trg)\n",
    "        \n",
    "        loss.backward()\n",
    "        \n",
    "        torch.nn.utils.clip_grad_norm_(model.parameters(), clip)\n",
    "        \n",
    "        optimizer.step()\n",
    "        \n",
    "        epoch_loss += loss.item()\n",
    "        \n",
    "    return epoch_loss / loader_length"
   ]
  },
  {
   "cell_type": "markdown",
   "metadata": {},
   "source": [
    "Our evaluation loop is similar to our training loop, however as we aren't updating any parameters we don't need to pass an optimizer or a clip value."
   ]
  },
  {
   "cell_type": "code",
   "execution_count": 151,
   "metadata": {},
   "outputs": [],
   "source": [
    "def evaluate(model, loader, criterion, loader_length):\n",
    "    \n",
    "    model.eval()\n",
    "    \n",
    "    epoch_loss = 0\n",
    "    \n",
    "    with torch.no_grad():\n",
    "    \n",
    "        for src, src_len, trg in loader:\n",
    "        \n",
    "            src = src.to(device)\n",
    "            trg = trg.to(device)\n",
    "\n",
    "            output, _ = model(src, trg[:,:-1])\n",
    "            \n",
    "            #output = [batch size, trg len - 1, output dim]\n",
    "            #trg = [batch size, trg len]\n",
    "            \n",
    "            output_dim = output.shape[-1]\n",
    "            \n",
    "            output = output.contiguous().view(-1, output_dim)\n",
    "            trg = trg[:,1:].contiguous().view(-1)\n",
    "            \n",
    "            #output = [batch size * trg len - 1, output dim]\n",
    "            #trg = [batch size * trg len - 1]\n",
    "            \n",
    "            loss = criterion(output, trg)\n",
    "\n",
    "            epoch_loss += loss.item()\n",
    "        \n",
    "    return epoch_loss / loader_length"
   ]
  },
  {
   "cell_type": "markdown",
   "metadata": {},
   "source": [
    "### Putting everything together\n",
    "\n",
    "Finally, we train our actual model. This model is almost 3x faster than the convolutional sequence-to-sequence model and also achieves a lower validation perplexity!\n",
    "\n",
    "**Note**: similar to CNN, this model always has a teacher forcing ratio of 1, i.e. it will always use the ground truth next token from the target sequence (this is simply because CNN do everything in parallel so we cannot have the next token). This means we cannot compare perplexity values against the previous models when they are using a teacher forcing ratio that is not 1. To understand this, try run previous tutorials with teaching forcing ratio of 1, you will get very low perplexity.  **   "
   ]
  },
  {
   "cell_type": "code",
   "execution_count": 152,
   "metadata": {},
   "outputs": [],
   "source": [
    "def epoch_time(start_time, end_time):\n",
    "    elapsed_time = end_time - start_time\n",
    "    elapsed_mins = int(elapsed_time / 60)\n",
    "    elapsed_secs = int(elapsed_time - (elapsed_mins * 60))\n",
    "    return elapsed_mins, elapsed_secs"
   ]
  },
  {
   "cell_type": "code",
   "execution_count": 153,
   "metadata": {},
   "outputs": [],
   "source": [
    "import gc"
   ]
  },
  {
   "cell_type": "code",
   "execution_count": 154,
   "metadata": {},
   "outputs": [],
   "source": [
    "input_dim   = len(vocab_transform[SRC_LANG])\n",
    "output_dim  = len(vocab_transform[TARG_LANG])\n",
    "\n",
    "# # lower learning rate to increase coplexity\n",
    "# eg: lr of 0.0001 reached train/val loss: 0 within 2 epochs\n",
    "lr = 0.0000001 \n",
    "HID_DIM = 256\n",
    "ENC_LAYERS = 3\n",
    "DEC_LAYERS = 3\n",
    "ENC_HEADS = 8\n",
    "DEC_HEADS = 8\n",
    "ENC_PF_DIM = 512\n",
    "DEC_PF_DIM = 512\n",
    "ENC_DROPOUT = 0.1\n",
    "DEC_DROPOUT = 0.1\n",
    "\n",
    "SRC_PAD_IDX = PAD_IDX\n",
    "TRG_PAD_IDX = PAD_IDX\n",
    "\n",
    "epochs  = 5\n",
    "clip    = 1"
   ]
  },
  {
   "cell_type": "code",
   "execution_count": 155,
   "metadata": {},
   "outputs": [],
   "source": [
    "# attention value mappings\n",
    "atten_map = {'multiplicative': 'Multiplicative Attention', 'general': 'General Attention', 'additive': 'Additive Attention'}"
   ]
  },
  {
   "cell_type": "code",
   "execution_count": 156,
   "metadata": {},
   "outputs": [
    {
     "name": "stdout",
     "output_type": "stream",
     "text": [
      "\n",
      "========= General Attention =========\n",
      "Epoch: 01 | Time: 1m 32s\n",
      "\tTrain Loss: 8.859 | Train PPL: 7040.503\n",
      "\t Val. Loss: 8.048 |  Val. PPL: 3126.246\n",
      "Epoch: 02 | Time: 1m 22s\n",
      "\tTrain Loss: 8.161 | Train PPL: 3500.263\n",
      "\t Val. Loss: 7.563 |  Val. PPL: 1924.765\n",
      "Epoch: 03 | Time: 1m 21s\n",
      "\tTrain Loss: 7.728 | Train PPL: 2271.970\n",
      "\t Val. Loss: 7.218 |  Val. PPL: 1364.299\n",
      "Epoch: 04 | Time: 1m 20s\n",
      "\tTrain Loss: 7.403 | Train PPL: 1640.472\n",
      "\t Val. Loss: 6.901 |  Val. PPL: 992.832\n",
      "Epoch: 05 | Time: 1m 22s\n",
      "\tTrain Loss: 7.111 | Train PPL: 1225.625\n",
      "\t Val. Loss: 6.568 |  Val. PPL: 712.002\n",
      "\n",
      "========= Multiplicative Attention =========\n",
      "Epoch: 01 | Time: 1m 27s\n",
      "\tTrain Loss: 8.544 | Train PPL: 5133.311\n",
      "\t Val. Loss: 7.854 |  Val. PPL: 2574.977\n",
      "Epoch: 02 | Time: 1m 24s\n",
      "\tTrain Loss: 7.881 | Train PPL: 2646.598\n",
      "\t Val. Loss: 7.381 |  Val. PPL: 1605.183\n",
      "Epoch: 03 | Time: 1m 40s\n",
      "\tTrain Loss: 7.499 | Train PPL: 1806.692\n",
      "\t Val. Loss: 6.996 |  Val. PPL: 1092.033\n",
      "Epoch: 04 | Time: 2m 14s\n",
      "\tTrain Loss: 7.168 | Train PPL: 1297.099\n",
      "\t Val. Loss: 6.588 |  Val. PPL: 726.178\n",
      "Epoch: 05 | Time: 1m 22s\n",
      "\tTrain Loss: 6.839 | Train PPL: 933.637\n",
      "\t Val. Loss: 6.216 |  Val. PPL: 500.941\n",
      "\n",
      "========= Additive Attention =========\n",
      "Epoch: 01 | Time: 1m 45s\n",
      "\tTrain Loss: 8.558 | Train PPL: 5207.061\n",
      "\t Val. Loss: 7.875 |  Val. PPL: 2631.066\n",
      "Epoch: 02 | Time: 2m 49s\n",
      "\tTrain Loss: 7.883 | Train PPL: 2652.797\n",
      "\t Val. Loss: 7.373 |  Val. PPL: 1592.176\n",
      "Epoch: 03 | Time: 2m 56s\n",
      "\tTrain Loss: 7.496 | Train PPL: 1800.405\n",
      "\t Val. Loss: 7.023 |  Val. PPL: 1122.595\n",
      "Epoch: 04 | Time: 1m 43s\n",
      "\tTrain Loss: 7.182 | Train PPL: 1315.065\n",
      "\t Val. Loss: 6.638 |  Val. PPL: 763.947\n",
      "Epoch: 05 | Time: 1m 57s\n",
      "\tTrain Loss: 6.860 | Train PPL: 953.436\n",
      "\t Val. Loss: 6.254 |  Val. PPL: 520.322\n"
     ]
    }
   ],
   "source": [
    "# Attention variants that we defined\n",
    "for atten_type in ['general', 'multiplicative', 'additive']:\n",
    "\n",
    "    train_loader = DataLoader(dataset['train'], batch_size=batch_size, shuffle=True, collate_fn=collate_batch)\n",
    "    valid_loader = DataLoader(dataset['validation'],   batch_size=batch_size, shuffle=False, collate_fn=collate_batch)\n",
    "    test_loader  = DataLoader(dataset['test'],  batch_size=batch_size, shuffle=False, collate_fn=collate_batch)\n",
    "\n",
    "    train_loader_length = len(list(iter(train_loader)))\n",
    "    val_loader_length   = len(list(iter(valid_loader)))\n",
    "    test_loader_length  = len(list(iter(test_loader)))\n",
    "\n",
    "    enc = Encoder(input_dim,\n",
    "                  HID_DIM,\n",
    "                  ENC_LAYERS,\n",
    "                  ENC_HEADS,\n",
    "                  ENC_PF_DIM,\n",
    "                  ENC_DROPOUT,\n",
    "                  atten_type,\n",
    "                  device)\n",
    "\n",
    "    dec = Decoder(output_dim,\n",
    "                  HID_DIM,\n",
    "                  DEC_LAYERS,\n",
    "                  DEC_HEADS,\n",
    "                  DEC_PF_DIM,\n",
    "                  DEC_DROPOUT,\n",
    "                  atten_type,\n",
    "                  device)\n",
    "\n",
    "    model = Seq2SeqTransformer(enc, dec, SRC_PAD_IDX, TRG_PAD_IDX, device).to(device)\n",
    "    model.apply(initialize_weights)\n",
    "\n",
    "    #training hyperparameters\n",
    "    optimizer = optim.Adam(model.parameters(), lr=lr)\n",
    "    criterion = nn.CrossEntropyLoss(ignore_index = TRG_PAD_IDX) #combine softmax with cross entropy\n",
    "\n",
    "    save_path = f'model/{atten_type}_{model.__class__.__name__}.pt'\n",
    "\n",
    "    best_valid_loss = float('inf')\n",
    "    train_losses = []\n",
    "    valid_losses = []\n",
    "\n",
    "    print(f'\\n========= {atten_map[atten_type]} =========')\n",
    "\n",
    "    for epoch in range(epochs):\n",
    "\n",
    "        start_time = time.time()\n",
    "\n",
    "        train_loss = train(model, train_loader, optimizer, criterion, clip, train_loader_length)\n",
    "        valid_loss = evaluate(model, valid_loader, criterion, val_loader_length)\n",
    "\n",
    "        #for plotting\n",
    "        train_losses.append(train_loss)\n",
    "        valid_losses.append(valid_loss)\n",
    "\n",
    "        end_time = time.time()\n",
    "\n",
    "        epoch_mins, epoch_secs = epoch_time(start_time, end_time)\n",
    "\n",
    "\n",
    "        if valid_loss <= best_valid_loss:\n",
    "            best_valid_loss = valid_loss\n",
    "            torch.save([model.params, model.state_dict()], save_path)\n",
    "\n",
    "        print(f'Epoch: {epoch+1:02} | Time: {epoch_mins}m {epoch_secs}s')\n",
    "        print(f'\\tTrain Loss: {train_loss:.3f} | Train PPL: {math.exp(train_loss):7.3f}')\n",
    "        print(f'\\t Val. Loss: {valid_loss:.3f} |  Val. PPL: {math.exp(valid_loss):7.3f}')\n",
    "\n",
    "        #lower perplexity is better\n",
    "\n",
    "    # clearing cache\n",
    "    del enc\n",
    "    del dec\n",
    "    del model\n",
    "    torch.cuda.empty_cache()\n",
    "    gc.collect()"
   ]
  },
  {
   "cell_type": "markdown",
   "metadata": {},
   "source": [
    "### Observations:\n",
    "\n",
    "| Attentions | Training Loss | Traning PPL | Validation Loss | Validation PPL |\n",
    "|----------|----------|----------|----------|----------|\n",
    "| General Attention    | 0.011     | 0.0385     | -0.03     | 0.5     |\n",
    "| Multiplicative Attention    | 0.011     | 0.0385     | -0.03     | 0.5     |\n",
    "| Additive Attention    | 0.011     | 0.0385     | -0.03     | 0.5     |"
   ]
  },
  {
   "cell_type": "markdown",
   "metadata": {},
   "source": [
    "# Evaluation and Verification"
   ]
  },
  {
   "cell_type": "code",
   "execution_count": 157,
   "metadata": {},
   "outputs": [],
   "source": [
    "train_loader = DataLoader(dataset['train'], batch_size=batch_size, shuffle=True, collate_fn=collate_batch)\n",
    "\n",
    "valid_loader = DataLoader(dataset['validation'], batch_size=batch_size, shuffle=False, collate_fn=collate_batch)\n",
    "\n",
    "test_loader = DataLoader(dataset['test'], batch_size=batch_size, shuffle=False, collate_fn=collate_batch)\n",
    "\n",
    "train_loader_length = len(list(iter(train_loader)))\n",
    "val_loader_length = len(list(iter(valid_loader)))\n",
    "test_loader_length = len(list(iter(test_loader)))"
   ]
  },
  {
   "cell_type": "code",
   "execution_count": 158,
   "metadata": {},
   "outputs": [],
   "source": [
    "input_dim   = len(vocab_transform[SRC_LANG])\n",
    "output_dim  = len(vocab_transform[TARG_LANG])\n",
    "\n",
    "\n",
    "batch_size = 32\n",
    "lr = 0.0000001\n",
    "HID_DIM = 256\n",
    "ENC_LAYERS = 3\n",
    "DEC_LAYERS = 3\n",
    "ENC_HEADS = 8\n",
    "DEC_HEADS = 8\n",
    "ENC_PF_DIM = 512\n",
    "DEC_PF_DIM = 512\n",
    "ENC_DROPOUT = 0.1\n",
    "DEC_DROPOUT = 0.1\n",
    "\n",
    "SRC_PAD_IDX = PAD_IDX\n",
    "\n",
    "train_loader = DataLoader(dataset['train'], batch_size=batch_size, shuffle=True, collate_fn=collate_batch)\n",
    "valid_loader = DataLoader(dataset['validation'],   batch_size=batch_size, shuffle=False, collate_fn=collate_batch)\n",
    "test_loader  = DataLoader(dataset['test'],  batch_size=batch_size, shuffle=False, collate_fn=collate_batch)\n",
    "\n",
    "train_loader_length = len(list(iter(train_loader)))\n",
    "val_loader_length   = len(list(iter(valid_loader)))\n",
    "test_loader_length  = len(list(iter(test_loader)))\n",
    "\n",
    "\n",
    "epochs  = 5\n",
    "clip    = 1"
   ]
  },
  {
   "cell_type": "markdown",
   "metadata": {},
   "source": [
    "## General Model"
   ]
  },
  {
   "cell_type": "code",
   "execution_count": 159,
   "metadata": {},
   "outputs": [
    {
     "name": "stdout",
     "output_type": "stream",
     "text": [
      "\n",
      "========== General Attention ==========\n",
      "Epoch: 01 | Time: 2m 41s\n",
      "\tTrain Loss: 8.369 | Train PPL: 4309.500\n",
      "\tVal. Loss: 7.478 | Val. PPL: 1768.881\n",
      "Epoch: 02 | Time: 2m 48s\n",
      "\tTrain Loss: 7.474 | Train PPL: 1761.779\n",
      "\tVal. Loss: 6.883 | Val. PPL: 975.716\n",
      "Epoch: 03 | Time: 3m 26s\n",
      "\tTrain Loss: 6.938 | Train PPL: 1030.492\n",
      "\tVal. Loss: 6.297 | Val. PPL: 542.905\n",
      "Epoch: 04 | Time: 2m 53s\n",
      "\tTrain Loss: 6.413 | Train PPL: 609.567\n",
      "\tVal. Loss: 5.704 | Val. PPL: 299.990\n",
      "Epoch: 05 | Time: 3m 15s\n",
      "\tTrain Loss: 5.894 | Train PPL: 362.748\n",
      "\tVal. Loss: 5.215 | Val. PPL: 183.977\n",
      "Final Training Loss: 5.894\n",
      "Final Validation Loss: 5.215\n",
      "Final Training PPL: 362.748\n",
      "Final Validation PPL: 183.977\n",
      "Average Time per epoch: 181.1766146659851\n",
      "Overall time taken: 0.02898825834655762\n"
     ]
    }
   ],
   "source": [
    "atten_type = \"general\"\n",
    "epoch_time_tot = 0\n",
    "\n",
    "enc = Encoder(input_dim, HID_DIM, ENC_LAYERS, ENC_HEADS, ENC_PF_DIM, ENC_DROPOUT, atten_type, device)\n",
    "\n",
    "dec = Decoder(output_dim, HID_DIM, DEC_LAYERS, DEC_HEADS, DEC_PF_DIM, DEC_DROPOUT, atten_type, device)\n",
    "\n",
    "model = Seq2SeqTransformer(enc, dec, SRC_PAD_IDX, TRG_PAD_IDX, device).to(device)\n",
    "model.apply(initialize_weights)\n",
    "\n",
    "#training hyperparameters\n",
    "optimizer = optim.Adam(model.parameters(), lr=lr)\n",
    "criterion = nn.CrossEntropyLoss(ignore_index = TRG_PAD_IDX) #combine softmax with cross entropy\n",
    "\n",
    "train_losses = []\n",
    "valid_losses = []\n",
    "best_valid_loss = float('inf')\n",
    "\n",
    "\n",
    "model = Seq2SeqTransformer(enc, dec, SRC_PAD_IDX, TRG_PAD_IDX, device).to(device)\n",
    "model.apply(initialize_weights)\n",
    "\n",
    "best_valid_loss = float('inf')\n",
    "train_loss_general = []\n",
    "valid_loss_general = []\n",
    "print(f'\\n========== {atten_map[atten_type]} ==========')\n",
    "\n",
    "\n",
    "for epoch in range(epochs):\n",
    "    start_time = time.time()\n",
    "\n",
    "    train_loss = train(model, train_loader, optimizer, criterion, clip, train_loader_length)\n",
    "    valid_loss = evaluate(model, valid_loader, criterion, val_loader_length)\n",
    "\n",
    "    # for plotting\n",
    "    train_loss_general.append(train_loss)\n",
    "    valid_loss_general.append(valid_loss)\n",
    "\n",
    "    end_time = time.time()\n",
    "\n",
    "    epoch_mins, epoch_secs = epoch_time(start_time, end_time)\n",
    "    epoch_time_tot += end_time - start_time\n",
    "\n",
    "    if valid_loss < best_valid_loss:\n",
    "        best_valid_loss = valid_loss\n",
    "\n",
    "    print(f'Epoch: {epoch+1:02} | Time: {epoch_mins}m {epoch_secs}s')\n",
    "    print(f'\\tTrain Loss: {train_loss:.3f} | Train PPL: {math.exp(train_loss):7.3f}')\n",
    "    print(f'\\tVal. Loss: {valid_loss:.3f} | Val. PPL: {math.exp(valid_loss):7.3f}')\n",
    "\n",
    "# Recording every loss for evaluation\n",
    "final_valid_loss = valid_loss_general[-1]\n",
    "final_train_loss = train_loss_general[-1]\n",
    "final_valid_ppl = math.exp(final_valid_loss)\n",
    "final_train_ppl = math.exp(final_train_loss)\n",
    "\n",
    "# Calculate time taken for the traning\n",
    "average_time_per_epoch = epoch_time_tot / epochs\n",
    "overall_average_time = epoch_time_tot / (epochs * len(train_loader))\n",
    "\n",
    "\n",
    "print(f\"Final Training Loss: {final_train_loss:.3f}\")\n",
    "print(f\"Final Validation Loss: {final_valid_loss:.3f}\")\n",
    "print(f\"Final Training PPL: {final_train_ppl:.3f}\")\n",
    "print(f\"Final Validation PPL: {final_valid_ppl:.3f}\")\n",
    "print(f\"Average Time per epoch: {average_time_per_epoch}\")\n",
    "print(f\"Overall time taken: {overall_average_time}\")"
   ]
  },
  {
   "cell_type": "code",
   "execution_count": 160,
   "metadata": {},
   "outputs": [
    {
     "data": {
      "image/png": "[encoded data removed]",
      "text/plain": [
       "<Figure size 1000x500 with 1 Axes>"
      ]
     },
     "metadata": {},
     "output_type": "display_data"
    }
   ],
   "source": [
    "fig = plt.figure(figsize=(10, 5))\n",
    "ax = fig.add_subplot(1, 1, 1)\n",
    "\n",
    "ax.plot(train_loss_general, label='Training Loss', color='blue')\n",
    "ax.plot(valid_loss_general, label='Validation Loss', color='orange')\n",
    "\n",
    "plt.title('General Attention: Training and Validation Loss')\n",
    "plt.xlabel('Epochs')\n",
    "plt.ylabel('Loss')\n",
    "plt.legend()\n",
    "\n",
    "plt.show()"
   ]
  },
  {
   "cell_type": "code",
   "execution_count": 161,
   "metadata": {},
   "outputs": [
    {
     "name": "stdout",
     "output_type": "stream",
     "text": [
      "| Test Loss: 6.568 | Test PPL: 712.002 |\n"
     ]
    }
   ],
   "source": [
    "params, state = torch.load('model/general_Seq2SeqTransformer.pt')\n",
    "\n",
    "model = Seq2SeqTransformer(**params, device=device).to(device)\n",
    "\n",
    "model.load_state_dict(state)\n",
    "\n",
    "test_loss = evaluate(model, test_loader, criterion, test_loader_length)\n",
    "\n",
    "print(f'| Test Loss: {test_loss:.3f} | Test PPL: {math.exp(test_loss):7.3f} |')"
   ]
  },
  {
   "cell_type": "markdown",
   "metadata": {},
   "source": [
    "## Multiplicative Model"
   ]
  },
  {
   "cell_type": "code",
   "execution_count": 162,
   "metadata": {},
   "outputs": [
    {
     "name": "stdout",
     "output_type": "stream",
     "text": [
      "\n",
      "========== Multiplicative Attention ==========\n",
      "Epoch: 01 | Time: 2m 47s\n",
      "\tTrain Loss: 8.354 | Train PPL: 4248.944\n",
      "\tVal. Loss: 7.436 | Val. PPL: 1695.883\n",
      "Epoch: 02 | Time: 3m 14s\n",
      "\tTrain Loss: 7.389 | Train PPL: 1618.441\n",
      "\tVal. Loss: 6.659 | Val. PPL: 779.722\n",
      "Epoch: 03 | Time: 2m 45s\n",
      "\tTrain Loss: 6.748 | Train PPL: 852.196\n",
      "\tVal. Loss: 5.973 | Val. PPL: 392.655\n",
      "Epoch: 04 | Time: 2m 35s\n",
      "\tTrain Loss: 6.176 | Train PPL: 481.190\n",
      "\tVal. Loss: 5.452 | Val. PPL: 233.126\n",
      "Epoch: 05 | Time: 4m 4s\n",
      "\tTrain Loss: 5.690 | Train PPL: 295.752\n",
      "\tVal. Loss: 5.029 | Val. PPL: 152.710\n"
     ]
    }
   ],
   "source": [
    "atten_type = \"multiplicative\"\n",
    "epoch_time_tot = 0\n",
    "\n",
    "enc = Encoder(input_dim, HID_DIM, ENC_LAYERS, ENC_HEADS, ENC_PF_DIM, ENC_DROPOUT, atten_type, device)\n",
    "\n",
    "dec = Decoder(output_dim, HID_DIM, DEC_LAYERS, DEC_HEADS, DEC_PF_DIM, DEC_DROPOUT, atten_type, device)\n",
    "\n",
    "model = Seq2SeqTransformer(enc, dec, SRC_PAD_IDX, TRG_PAD_IDX, device).to(device)\n",
    "model.apply(initialize_weights)\n",
    "\n",
    "#training hyperparameters\n",
    "optimizer = optim.Adam(model.parameters(), lr=lr)\n",
    "criterion = nn.CrossEntropyLoss(ignore_index = TRG_PAD_IDX) #combine softmax with cross entropy\n",
    "\n",
    "train_losses = []\n",
    "valid_losses = []\n",
    "best_valid_loss = float('inf')\n",
    "\n",
    "model = Seq2SeqTransformer(enc, dec, SRC_PAD_IDX, TRG_PAD_IDX, device).to(device)\n",
    "model.apply(initialize_weights)\n",
    "\n",
    "best_valid_loss = float('inf')\n",
    "train_loss_multi = []\n",
    "valid_loss_multi = []\n",
    "print(f'\\n========== {atten_map[atten_type]} ==========')\n",
    "\n",
    "\n",
    "for epoch in range(epochs):\n",
    "    start_time = time.time()\n",
    "\n",
    "    train_loss = train(model, train_loader, optimizer, criterion, clip, train_loader_length)\n",
    "    valid_loss = evaluate(model, valid_loader, criterion, val_loader_length)\n",
    "\n",
    "    # for plotting\n",
    "    train_loss_multi.append(train_loss)\n",
    "    valid_loss_multi.append(valid_loss)\n",
    "\n",
    "    end_time = time.time()\n",
    "\n",
    "    epoch_mins, epoch_secs = epoch_time(start_time, end_time)\n",
    "    epoch_time_tot += end_time - start_time\n",
    "\n",
    "    if valid_loss < best_valid_loss:\n",
    "        best_valid_loss = valid_loss\n",
    "\n",
    "    print(f'Epoch: {epoch+1:02} | Time: {epoch_mins}m {epoch_secs}s')\n",
    "    print(f'\\tTrain Loss: {train_loss:.3f} | Train PPL: {math.exp(train_loss):7.3f}')\n",
    "    print(f'\\tVal. Loss: {valid_loss:.3f} | Val. PPL: {math.exp(valid_loss):7.3f}')\n",
    "\n",
    "# Record all final losses_general\n",
    "final_train_loss = train_loss_multi[-1]\n",
    "final_valid_loss = valid_loss_multi[-1]\n",
    "final_train_ppl = math.exp(final_train_loss)\n",
    "final_valid_ppl = math.exp(final_valid_loss)"
   ]
  },
  {
   "cell_type": "code",
   "execution_count": 163,
   "metadata": {},
   "outputs": [
    {
     "name": "stdout",
     "output_type": "stream",
     "text": [
      "Final Training Loss: 5.690\n",
      "Final Validation Loss: 5.029\n",
      "Final Training PPL: 295.752\n",
      "Final Validation PPL: 152.710\n",
      "Average Time per epoch: 185.5515887260437\n",
      "Overall time taken: 0.029688254196166993\n"
     ]
    }
   ],
   "source": [
    "average_time_per_epoch = epoch_time_tot / epochs\n",
    "overall_average_time = epoch_time_tot / (epochs * len(train_loader))\n",
    "\n",
    "print(f\"Final Training Loss: {final_train_loss:.3f}\")\n",
    "print(f\"Final Validation Loss: {final_valid_loss:.3f}\")\n",
    "print(f\"Final Training PPL: {final_train_ppl:.3f}\")\n",
    "print(f\"Final Validation PPL: {final_valid_ppl:.3f}\")\n",
    "print(f\"Average Time per epoch: {average_time_per_epoch}\")\n",
    "print(f\"Overall time taken: {overall_average_time}\")"
   ]
  },
  {
   "cell_type": "code",
   "execution_count": 164,
   "metadata": {},
   "outputs": [
    {
     "data": {
      "image/png": "[encoded data removed]",
      "text/plain": [
       "<Figure size 1000x500 with 1 Axes>"
      ]
     },
     "metadata": {},
     "output_type": "display_data"
    }
   ],
   "source": [
    "fig = plt.figure(figsize=(10, 5))\n",
    "ax = fig.add_subplot(1, 1, 1)\n",
    "\n",
    "ax.plot(train_loss_multi, label='Training Loss', color='blue')\n",
    "ax.plot(valid_loss_multi, label='Validation Loss', color='orange')\n",
    "\n",
    "plt.title('Multiplicative Attention: Training and Validation Loss')\n",
    "plt.xlabel('Epochs')\n",
    "plt.ylabel('Loss')\n",
    "plt.legend()\n",
    "\n",
    "plt.show()"
   ]
  },
  {
   "cell_type": "code",
   "execution_count": 165,
   "metadata": {},
   "outputs": [
    {
     "name": "stdout",
     "output_type": "stream",
     "text": [
      "| Test Loss: 6.216 | Test PPL: 500.941 |\n"
     ]
    }
   ],
   "source": [
    "params, state = torch.load('model/multiplicative_Seq2SeqTransformer.pt')\n",
    "\n",
    "model = Seq2SeqTransformer(**params, device=device).to(device)\n",
    "\n",
    "model.load_state_dict(state)\n",
    "\n",
    "test_loss = evaluate(model, test_loader, criterion, test_loader_length)\n",
    "\n",
    "print(f'| Test Loss: {test_loss:.3f} | Test PPL: {math.exp(test_loss):7.3f} |')"
   ]
  },
  {
   "cell_type": "markdown",
   "metadata": {},
   "source": [
    "## Additive Model"
   ]
  },
  {
   "cell_type": "code",
   "execution_count": 166,
   "metadata": {},
   "outputs": [
    {
     "name": "stdout",
     "output_type": "stream",
     "text": [
      "\n",
      "========== Additive Attention ==========\n",
      "Epoch: 01 | Time: 3m 3s\n",
      "\tTrain Loss: 8.202 | Train PPL: 3647.405\n",
      "\tVal. Loss: 7.321 | Val. PPL: 1511.581\n",
      "Epoch: 02 | Time: 3m 3s\n",
      "\tTrain Loss: 7.291 | Train PPL: 1466.736\n",
      "\tVal. Loss: 6.582 | Val. PPL: 721.847\n",
      "Epoch: 03 | Time: 2m 56s\n",
      "\tTrain Loss: 6.664 | Train PPL: 783.926\n",
      "\tVal. Loss: 5.893 | Val. PPL: 362.467\n",
      "Epoch: 04 | Time: 3m 43s\n",
      "\tTrain Loss: 6.099 | Train PPL: 445.566\n",
      "\tVal. Loss: 5.383 | Val. PPL: 217.596\n",
      "Epoch: 05 | Time: 4m 5s\n",
      "\tTrain Loss: 5.618 | Train PPL: 275.290\n",
      "\tVal. Loss: 4.976 | Val. PPL: 144.923\n"
     ]
    }
   ],
   "source": [
    "atten_type = \"additive\"\n",
    "epoch_time_tot = 0\n",
    "\n",
    "enc = Encoder(input_dim, HID_DIM, ENC_LAYERS, ENC_HEADS, ENC_PF_DIM, ENC_DROPOUT, atten_type, device)\n",
    "\n",
    "dec = Decoder(output_dim, HID_DIM, DEC_LAYERS, DEC_HEADS, DEC_PF_DIM, DEC_DROPOUT, atten_type, device)\n",
    "\n",
    "model = Seq2SeqTransformer(enc, dec, SRC_PAD_IDX, TRG_PAD_IDX, device).to(device)\n",
    "model.apply(initialize_weights)\n",
    "\n",
    "#training hyperparameters\n",
    "optimizer = optim.Adam(model.parameters(), lr=lr)\n",
    "criterion = nn.CrossEntropyLoss(ignore_index = TRG_PAD_IDX) #combine softmax with cross entropy\n",
    "\n",
    "train_losses = []\n",
    "valid_losses = []\n",
    "best_valid_loss = float('inf')\n",
    "\n",
    "model = Seq2SeqTransformer(enc, dec, SRC_PAD_IDX, TRG_PAD_IDX, device).to(device)\n",
    "model.apply(initialize_weights)\n",
    "\n",
    "best_valid_loss = float('inf')\n",
    "train_loss_additive = []\n",
    "valid_loss_additive = []\n",
    "print(f'\\n========== {atten_map[atten_type]} ==========')\n",
    "\n",
    "\n",
    "for epoch in range(epochs):\n",
    "    start_time = time.time()\n",
    "\n",
    "    train_loss = train(model, train_loader, optimizer, criterion, clip, train_loader_length)\n",
    "    valid_loss = evaluate(model, valid_loader, criterion, val_loader_length)\n",
    "\n",
    "    # for plotting\n",
    "    train_loss_additive.append(train_loss)\n",
    "    valid_loss_additive.append(valid_loss)\n",
    "\n",
    "    end_time = time.time()\n",
    "\n",
    "    epoch_mins, epoch_secs = epoch_time(start_time, end_time)\n",
    "    epoch_time_tot += end_time - start_time\n",
    "\n",
    "    if valid_loss < best_valid_loss:\n",
    "        best_valid_loss = valid_loss\n",
    "\n",
    "    print(f'Epoch: {epoch+1:02} | Time: {epoch_mins}m {epoch_secs}s')\n",
    "    print(f'\\tTrain Loss: {train_loss:.3f} | Train PPL: {math.exp(train_loss):7.3f}')\n",
    "    print(f'\\tVal. Loss: {valid_loss:.3f} | Val. PPL: {math.exp(valid_loss):7.3f}')\n",
    "\n",
    "# Record all final losses_general\n",
    "final_train_loss = train_loss_additive[-1]\n",
    "final_valid_loss = valid_loss_additive[-1]\n",
    "final_train_ppl = math.exp(final_train_loss)\n",
    "final_valid_ppl = math.exp(final_valid_loss)"
   ]
  },
  {
   "cell_type": "code",
   "execution_count": 167,
   "metadata": {},
   "outputs": [
    {
     "name": "stdout",
     "output_type": "stream",
     "text": [
      "Final Training Loss: 5.618\n",
      "Final Validation Loss: 4.976\n",
      "Final Training PPL: 275.290\n",
      "Final Validation PPL: 144.923\n",
      "Average Time per epoch: 202.3310390472412\n",
      "Overall time taken: 0.032372966247558595\n"
     ]
    }
   ],
   "source": [
    "average_time_per_epoch = epoch_time_tot / epochs\n",
    "overall_average_time = epoch_time_tot / (epochs * len(train_loader))\n",
    "\n",
    "print(f\"Final Training Loss: {final_train_loss:.3f}\")\n",
    "print(f\"Final Validation Loss: {final_valid_loss:.3f}\")\n",
    "print(f\"Final Training PPL: {final_train_ppl:.3f}\")\n",
    "print(f\"Final Validation PPL: {final_valid_ppl:.3f}\")\n",
    "print(f\"Average Time per epoch: {average_time_per_epoch}\")\n",
    "print(f\"Overall time taken: {overall_average_time}\")"
   ]
  },
  {
   "cell_type": "code",
   "execution_count": 168,
   "metadata": {},
   "outputs": [
    {
     "data": {
      "image/png": "[encoded data removed]",
      "text/plain": [
       "<Figure size 1000x500 with 1 Axes>"
      ]
     },
     "metadata": {},
     "output_type": "display_data"
    }
   ],
   "source": [
    "fig = plt.figure(figsize=(10, 5))\n",
    "ax = fig.add_subplot(1, 1, 1)\n",
    "\n",
    "ax.plot(train_loss_additive, label='Training Loss', color='blue')\n",
    "ax.plot(valid_loss_additive, label='Validation Loss', color='orange')\n",
    "\n",
    "plt.title('Additive Attention: Training and Validation Loss')\n",
    "plt.xlabel('Epochs')\n",
    "plt.ylabel('Loss')\n",
    "plt.legend()\n",
    "\n",
    "plt.show()"
   ]
  },
  {
   "cell_type": "code",
   "execution_count": null,
   "metadata": {},
   "outputs": [
    {
     "name": "stdout",
     "output_type": "stream",
     "text": [
      "Test Loss: 0.390\n",
      "Test PPL:   1.477\n"
     ]
    }
   ],
   "source": [
    "params, state = torch.load('model/additive_Seq2SeqTransformer.pt')\n",
    "\n",
    "model = Seq2SeqTransformer(**params, device=device).to(device)\n",
    "\n",
    "model.load_state_dict(state)\n",
    "\n",
    "test_loss = evaluate(model, test_loader, criterion, test_loader_length)\n",
    "\n",
    "print(f\"Test Loss: {test_loss:.3f}\")\n",
    "print(f\"Test PPL: {math.exp(test_loss):7.3f}\")"
   ]
  },
  {
   "cell_type": "markdown",
   "metadata": {},
   "source": [
    "# Testing"
   ]
  },
  {
   "cell_type": "code",
   "execution_count": 169,
   "metadata": {},
   "outputs": [],
   "source": [
    "import os"
   ]
  },
  {
   "cell_type": "code",
   "execution_count": 170,
   "metadata": {},
   "outputs": [
    {
     "data": {
      "text/plain": [
       "{'ne': 'पुन: नामाकरण गर्नुहोस्', 'en': 'Rename'}"
      ]
     },
     "execution_count": 170,
     "metadata": {},
     "output_type": "execute_result"
    }
   ],
   "source": [
    "dataset['test'][14]"
   ]
  },
  {
   "cell_type": "code",
   "execution_count": 171,
   "metadata": {},
   "outputs": [
    {
     "name": "stdout",
     "output_type": "stream",
     "text": [
      "tensor([2, 0, 3], device='cuda:0')\n"
     ]
    }
   ],
   "source": [
    "src_txt = text_transform[SRC_LANG](dataset['test'][14]['en']).to(device)\n",
    "\n",
    "print(src_txt)"
   ]
  },
  {
   "cell_type": "code",
   "execution_count": 172,
   "metadata": {},
   "outputs": [
    {
     "data": {
      "text/plain": [
       "tensor([   2,    4,  165,    8, 1335,    7,    5,    3], device='cuda:0')"
      ]
     },
     "execution_count": 172,
     "metadata": {},
     "output_type": "execute_result"
    }
   ],
   "source": [
    "targ_txt = text_transform[TARG_LANG](dataset['test'][14]['ne']).to(device)\n",
    "targ_txt"
   ]
  },
  {
   "cell_type": "code",
   "execution_count": 173,
   "metadata": {},
   "outputs": [
    {
     "data": {
      "text/plain": [
       "(torch.Size([1, 3]), torch.Size([1, 8]))"
      ]
     },
     "execution_count": 173,
     "metadata": {},
     "output_type": "execute_result"
    }
   ],
   "source": [
    "src_txt = src_txt.reshape(1, -1)  #because batch_size is 1\n",
    "targ_txt = targ_txt.reshape(1, -1)\n",
    "\n",
    "src_txt.shape, targ_txt.shape"
   ]
  },
  {
   "cell_type": "code",
   "execution_count": 174,
   "metadata": {},
   "outputs": [
    {
     "data": {
      "text/plain": [
       "tensor([1])"
      ]
     },
     "execution_count": 174,
     "metadata": {},
     "output_type": "execute_result"
    }
   ],
   "source": [
    "text_length = torch.tensor([src_txt.size(0)]).to(dtype=torch.int64)\n",
    "text_length"
   ]
  },
  {
   "cell_type": "markdown",
   "metadata": {},
   "source": [
    "## Testing General model"
   ]
  },
  {
   "cell_type": "code",
   "execution_count": 175,
   "metadata": {},
   "outputs": [
    {
     "name": "stdout",
     "output_type": "stream",
     "text": [
      "Time taken for inference: 0.03021240234375 seconds\n",
      "Model size: 52.69 MB\n"
     ]
    }
   ],
   "source": [
    "load_path = 'model/general_Seq2SeqTransformer.pt'\n",
    "\n",
    "params, state = torch.load(load_path)\n",
    "model = Seq2SeqTransformer(**params, device=device).to(device)\n",
    "model.load_state_dict(state)\n",
    "\n",
    "model.eval()\n",
    "\n",
    "start_time = time.time()\n",
    "with torch.no_grad():\n",
    "    output, attentions_general = model(src_txt, targ_txt) #turn off teacher forcing\n",
    "\n",
    "end_time = time.time()\n",
    "\n",
    "\n",
    "elapsed_time = end_time - start_time\n",
    "\n",
    "print(f\"Time taken for inference: {elapsed_time} seconds\")\n",
    "\n",
    "model_size = os.path.getsize(load_path) / (1024 * 1024)  # Size (MB)\n",
    "\n",
    "print(f\"Model size: {model_size:.2f} MB\")"
   ]
  },
  {
   "cell_type": "markdown",
   "metadata": {},
   "source": [
    "Since batch size is 1, we just take off that dimension"
   ]
  },
  {
   "cell_type": "code",
   "execution_count": 176,
   "metadata": {},
   "outputs": [
    {
     "data": {
      "text/plain": [
       "torch.Size([1, 8, 10048])"
      ]
     },
     "execution_count": 176,
     "metadata": {},
     "output_type": "execute_result"
    }
   ],
   "source": [
    "output.shape #batch_size, trg_len, trg_output_dim"
   ]
  },
  {
   "cell_type": "code",
   "execution_count": 177,
   "metadata": {},
   "outputs": [
    {
     "data": {
      "text/plain": [
       "torch.Size([8, 10048])"
      ]
     },
     "execution_count": 177,
     "metadata": {},
     "output_type": "execute_result"
    }
   ],
   "source": [
    "output = output.squeeze(0)\n",
    "output.shape"
   ]
  },
  {
   "cell_type": "markdown",
   "metadata": {},
   "source": [
    "We shall remove the first token since it's zeroes anyway"
   ]
  },
  {
   "cell_type": "code",
   "execution_count": 178,
   "metadata": {},
   "outputs": [
    {
     "data": {
      "text/plain": [
       "torch.Size([7, 10048])"
      ]
     },
     "execution_count": 178,
     "metadata": {},
     "output_type": "execute_result"
    }
   ],
   "source": [
    "output = output[1:]\n",
    "output.shape #trg_len, trg_output_dim"
   ]
  },
  {
   "cell_type": "markdown",
   "metadata": {},
   "source": [
    "Then we just take the top token with highest probabilities"
   ]
  },
  {
   "cell_type": "code",
   "execution_count": 179,
   "metadata": {},
   "outputs": [
    {
     "data": {
      "text/plain": [
       "tensor([[-0.1313,  0.1178, -0.2182,  ...,  0.1597,  0.0201, -0.5830],\n",
       "        [-0.1686,  0.1050, -0.2980,  ...,  0.1893,  0.0384, -0.5439],\n",
       "        [-0.2685,  0.0812, -0.2805,  ...,  0.1755,  0.0734, -0.5033],\n",
       "        ...,\n",
       "        [-0.1480,  0.1104, -0.1755,  ...,  0.0960,  0.0885, -0.5215],\n",
       "        [-0.1280,  0.0921, -0.2544,  ...,  0.1594,  0.1591, -0.5549],\n",
       "        [-0.0832,  0.2360, -0.2502,  ...,  0.1271,  0.1282, -0.5702]],\n",
       "       device='cuda:0')"
      ]
     },
     "execution_count": 179,
     "metadata": {},
     "output_type": "execute_result"
    }
   ],
   "source": [
    "output"
   ]
  },
  {
   "cell_type": "code",
   "execution_count": 180,
   "metadata": {},
   "outputs": [],
   "source": [
    "output_max = output.argmax(1) #returns max indices"
   ]
  },
  {
   "cell_type": "code",
   "execution_count": 181,
   "metadata": {},
   "outputs": [
    {
     "data": {
      "text/plain": [
       "tensor([7509, 7509,    3, 7509, 7089, 6678, 9180], device='cuda:0')"
      ]
     },
     "execution_count": 181,
     "metadata": {},
     "output_type": "execute_result"
    }
   ],
   "source": [
    "output_max"
   ]
  },
  {
   "cell_type": "markdown",
   "metadata": {},
   "source": [
    "Get the mapping of the target language"
   ]
  },
  {
   "cell_type": "code",
   "execution_count": 182,
   "metadata": {},
   "outputs": [
    {
     "name": "stdout",
     "output_type": "stream",
     "text": [
      "##सक्यो\n",
      "##सक्यो\n",
      "<eos>\n",
      "##सक्यो\n",
      "##ket\n",
      "छर\n",
      "सिक्दै\n"
     ]
    }
   ],
   "source": [
    "mapping = vocab_transform[TARG_LANG].get_itos()\n",
    "\n",
    "output_general = []\n",
    "for token in output_max:\n",
    "    token_str = mapping[token.item()]\n",
    "    # Check if the token is a language token\n",
    "    print(token_str)\n",
    "    if token_str not in ['[CLS]', '[SEP]', '[EOS]','<eos>']:\n",
    "        output_general.append(token_str)"
   ]
  },
  {
   "cell_type": "code",
   "execution_count": 183,
   "metadata": {},
   "outputs": [
    {
     "data": {
      "text/plain": [
       "['<unk>',\n",
       " '<pad>',\n",
       " '<sos>',\n",
       " '<eos>',\n",
       " '[CLS]',\n",
       " '[SEP]',\n",
       " '।',\n",
       " 'गर्नुहोस्',\n",
       " ':',\n",
       " '##होस्']"
      ]
     },
     "execution_count": 183,
     "metadata": {},
     "output_type": "execute_result"
    }
   ],
   "source": [
    "mapping[:10]"
   ]
  },
  {
   "cell_type": "code",
   "execution_count": 184,
   "metadata": {},
   "outputs": [
    {
     "data": {
      "text/plain": [
       "10048"
      ]
     },
     "execution_count": 184,
     "metadata": {},
     "output_type": "execute_result"
    }
   ],
   "source": [
    "len(mapping)"
   ]
  },
  {
   "cell_type": "code",
   "execution_count": 185,
   "metadata": {},
   "outputs": [],
   "source": [
    "# in which index does 'en' exist in mapping\n",
    "\n",
    "# mapping.index('en')"
   ]
  },
  {
   "cell_type": "code",
   "execution_count": 186,
   "metadata": {},
   "outputs": [
    {
     "name": "stdout",
     "output_type": "stream",
     "text": [
      "['##सक्यो', '##सक्यो', '##सक्यो', '##ket', 'छर', 'सिक्दै']\n"
     ]
    }
   ],
   "source": [
    "print(output_general)"
   ]
  },
  {
   "cell_type": "markdown",
   "metadata": {},
   "source": [
    "## Testing Multiplicative model"
   ]
  },
  {
   "cell_type": "code",
   "execution_count": 187,
   "metadata": {},
   "outputs": [
    {
     "name": "stdout",
     "output_type": "stream",
     "text": [
      "Time taken for inference: 0.01608419418334961 seconds\n",
      "Model size: 52.69 MB\n"
     ]
    }
   ],
   "source": [
    "load_path = 'model/multiplicative_Seq2SeqTransformer.pt'\n",
    "\n",
    "params, state = torch.load(load_path)\n",
    "model = Seq2SeqTransformer(**params, device=device).to(device)\n",
    "model.load_state_dict(state)\n",
    "\n",
    "model.eval()\n",
    "\n",
    "start_time = time.time()\n",
    "with torch.no_grad():\n",
    "    output, attentions_multiplicative = model(src_txt, targ_txt) #turn off teacher forcing\n",
    "\n",
    "end_time = time.time()\n",
    "\n",
    "elapsed_time = end_time - start_time\n",
    "\n",
    "print(f\"Time taken for inference: {elapsed_time} seconds\")\n",
    "\n",
    "model_size = os.path.getsize(load_path) / (1024 * 1024)  # Size (MB)\n",
    "\n",
    "print(f\"Model size: {model_size:.2f} MB\")"
   ]
  },
  {
   "cell_type": "code",
   "execution_count": 188,
   "metadata": {},
   "outputs": [
    {
     "data": {
      "text/plain": [
       "torch.Size([7, 10048])"
      ]
     },
     "execution_count": 188,
     "metadata": {},
     "output_type": "execute_result"
    }
   ],
   "source": [
    "output.shape #batch_size, trg_len, trg_output_dim\n",
    "output = output.squeeze(0)\n",
    "output = output[1:]\n",
    "output.shape #trg_len, trg_output_dim"
   ]
  },
  {
   "cell_type": "code",
   "execution_count": 189,
   "metadata": {},
   "outputs": [],
   "source": [
    "output_max = output.argmax(1) #returns max indices"
   ]
  },
  {
   "cell_type": "code",
   "execution_count": 190,
   "metadata": {},
   "outputs": [],
   "source": [
    "mapping = vocab_transform[TARG_LANG].get_itos()"
   ]
  },
  {
   "cell_type": "code",
   "execution_count": 191,
   "metadata": {},
   "outputs": [
    {
     "name": "stdout",
     "output_type": "stream",
     "text": [
      "[CLS]\n",
      "सदस्यता\n",
      "[CLS]\n",
      "लिन्छ\n",
      "रातो\n",
      "सदस्यता\n",
      "रातो\n"
     ]
    }
   ],
   "source": [
    "output_multi = []\n",
    "for token in output_max:\n",
    "    token_str = mapping[token.item()]\n",
    "    # Check if the token is a language token\n",
    "    print(token_str)\n",
    "    if token_str not in ['[CLS]', '[SEP]', '[EOS]','<eos>']:\n",
    "        output_multi.append(token_str)"
   ]
  },
  {
   "cell_type": "code",
   "execution_count": 192,
   "metadata": {},
   "outputs": [
    {
     "name": "stdout",
     "output_type": "stream",
     "text": [
      "['सदस्यता', 'लिन्छ', 'रातो', 'सदस्यता', 'रातो']\n"
     ]
    }
   ],
   "source": [
    "print(output_multi)"
   ]
  },
  {
   "cell_type": "markdown",
   "metadata": {},
   "source": [
    "## Testing Additive model"
   ]
  },
  {
   "cell_type": "code",
   "execution_count": 193,
   "metadata": {},
   "outputs": [
    {
     "name": "stdout",
     "output_type": "stream",
     "text": [
      "Time taken for inference: 0.02596592903137207 seconds\n",
      "Model size: 52.69 MB\n"
     ]
    }
   ],
   "source": [
    "load_path = 'model/additive_Seq2SeqTransformer.pt'\n",
    "\n",
    "params, state = torch.load(load_path)\n",
    "model = Seq2SeqTransformer(**params, device=device).to(device)\n",
    "model.load_state_dict(state)\n",
    "\n",
    "model.eval()\n",
    "\n",
    "start_time = time.time()\n",
    "with torch.no_grad():\n",
    "    output, attentions_additive = model(src_txt, targ_txt) #turn off teacher forcing\n",
    "\n",
    "end_time = time.time()\n",
    "\n",
    "elapsed_time = end_time - start_time\n",
    "\n",
    "print(f\"Time taken for inference: {elapsed_time} seconds\")\n",
    "\n",
    "model_size = os.path.getsize(load_path) / (1024 * 1024)  # Size (MB)\n",
    "\n",
    "print(f\"Model size: {model_size:.2f} MB\")"
   ]
  },
  {
   "cell_type": "code",
   "execution_count": 194,
   "metadata": {},
   "outputs": [
    {
     "data": {
      "text/plain": [
       "torch.Size([7, 10048])"
      ]
     },
     "execution_count": 194,
     "metadata": {},
     "output_type": "execute_result"
    }
   ],
   "source": [
    "output.shape #batch_size, trg_len, trg_output_dim\n",
    "output = output.squeeze(0)\n",
    "output = output[1:]\n",
    "output.shape #trg_len, trg_output_dim"
   ]
  },
  {
   "cell_type": "code",
   "execution_count": 195,
   "metadata": {},
   "outputs": [],
   "source": [
    "output_max = output.argmax(1) #returns max indices"
   ]
  },
  {
   "cell_type": "code",
   "execution_count": 196,
   "metadata": {},
   "outputs": [],
   "source": [
    "mapping = vocab_transform[TARG_LANG].get_itos()"
   ]
  },
  {
   "cell_type": "code",
   "execution_count": 197,
   "metadata": {},
   "outputs": [
    {
     "name": "stdout",
     "output_type": "stream",
     "text": [
      "##न्दि\n",
      "##न्दि\n",
      "##न्दि\n",
      "##न्दि\n",
      "सम्बन्ध\n",
      "सम्बन्ध\n",
      "##न्दि\n"
     ]
    }
   ],
   "source": [
    "output_addi = []\n",
    "for token in output_max:\n",
    "    token_str = mapping[token.item()]\n",
    "    # Check if the token is a language token\n",
    "    print(token_str)\n",
    "    if token_str not in ['[CLS]', '[SEP]', '[EOS]','<eos>']:\n",
    "        output_addi.append(token_str)"
   ]
  },
  {
   "cell_type": "code",
   "execution_count": 198,
   "metadata": {},
   "outputs": [
    {
     "name": "stdout",
     "output_type": "stream",
     "text": [
      "['##न्दि', '##न्दि', '##न्दि', '##न्दि', 'सम्बन्ध', 'सम्बन्ध', '##न्दि']\n"
     ]
    }
   ],
   "source": [
    "print(output_addi)"
   ]
  },
  {
   "cell_type": "markdown",
   "metadata": {},
   "source": [
    "## Performance Analysis of Attention"
   ]
  },
  {
   "cell_type": "markdown",
   "metadata": {},
   "source": [
    "| Attentions | Testing Loss | Testing PPL | Model Size | Inference Time |Avg. Time per epoch |Overall Time |\n",
    "|----------|----------|----------|----------|----------|----------|----------|\n",
    "| General Attention    | 0.011     | 0.0385     | -0.03     | 0.5     |0.5     |0.5     |\n",
    "| Multiplicative Attention    | 0.011     | 0.0385     | -0.03     | 0.5     |0.5     |0.5     |\n",
    "| Additive Attention    | 0.011     | 0.0385     | -0.03     | 0.5     |0.5     |0.5     |"
   ]
  },
  {
   "cell_type": "markdown",
   "metadata": {},
   "source": [
    "# Attention\n",
    "\n",
    "Let's display the attentions to understand how the source text links with the generated text"
   ]
  },
  {
   "cell_type": "code",
   "execution_count": 199,
   "metadata": {},
   "outputs": [
    {
     "data": {
      "text/plain": [
       "(torch.Size([1, 8, 8, 3]), torch.Size([1, 8, 8, 3]), torch.Size([1, 8, 8, 3]))"
      ]
     },
     "execution_count": 199,
     "metadata": {},
     "output_type": "execute_result"
    }
   ],
   "source": [
    "attentions_general.shape, attentions_multiplicative.shape, attentions_additive.shape"
   ]
  },
  {
   "cell_type": "markdown",
   "metadata": {},
   "source": [
    "Since there are 8 heads, we can look at just 1 head for sake of simplicity."
   ]
  },
  {
   "cell_type": "code",
   "execution_count": 200,
   "metadata": {},
   "outputs": [
    {
     "name": "stdout",
     "output_type": "stream",
     "text": [
      "torch.Size([1, 8, 8, 3]) torch.Size([8, 3]) torch.Size([8, 3])\n"
     ]
    }
   ],
   "source": [
    "attention_general = attentions_general[0, 0, :, :]\n",
    "attention_multiplicative = attentions_general[0, 0, :, :]\n",
    "attention_additive = attentions_additive[0, 0, :, :]\n",
    "\n",
    "print(attentions_general.shape, attention_multiplicative.shape, attention_additive.shape)"
   ]
  },
  {
   "cell_type": "code",
   "execution_count": 201,
   "metadata": {},
   "outputs": [
    {
     "data": {
      "text/plain": [
       "['<sos>', 'Treize', '<eos>']"
      ]
     },
     "execution_count": 201,
     "metadata": {},
     "output_type": "execute_result"
    }
   ],
   "source": [
    "src_tokens = ['<sos>'] + token_transform[SRC_LANG](dataset['test'][1]['en']) + ['<eos>']\n",
    "src_tokens"
   ]
  },
  {
   "cell_type": "code",
   "execution_count": 202,
   "metadata": {},
   "outputs": [
    {
     "data": {
      "text/plain": [
       "['<sos>',\n",
       " '##न्दि',\n",
       " '##न्दि',\n",
       " '##न्दि',\n",
       " '##न्दि',\n",
       " 'सम्बन्ध',\n",
       " 'सम्बन्ध',\n",
       " '##न्दि']"
      ]
     },
     "execution_count": 202,
     "metadata": {},
     "output_type": "execute_result"
    }
   ],
   "source": [
    "targ_tokens = ['<sos>'] + [mapping[token.item()] for token in output_max]\n",
    "targ_tokens"
   ]
  },
  {
   "cell_type": "markdown",
   "metadata": {},
   "source": [
    "## Attention Maps"
   ]
  },
  {
   "cell_type": "code",
   "execution_count": 203,
   "metadata": {},
   "outputs": [],
   "source": [
    "import matplotlib.ticker as ticker"
   ]
  },
  {
   "cell_type": "code",
   "execution_count": 204,
   "metadata": {},
   "outputs": [],
   "source": [
    "def display_attention(sentence, translation, attention):\n",
    "    \n",
    "    fig = plt.figure(figsize=(10,10))\n",
    "    ax = fig.add_subplot(111)\n",
    "    \n",
    "    attention = attention.squeeze(1).cpu().detach().numpy()\n",
    "    \n",
    "    cax = ax.matshow(attention, cmap='bone')\n",
    "   \n",
    "    ax.tick_params(labelsize=10)\n",
    "    \n",
    "    y_ticks =  [''] + translation\n",
    "    x_ticks =  [''] + sentence \n",
    "     \n",
    "    ax.set_xticklabels(x_ticks, rotation=45)\n",
    "    ax.set_yticklabels(y_ticks)\n",
    "\n",
    "    ax.xaxis.set_major_locator(ticker.MultipleLocator(1))\n",
    "    ax.yaxis.set_major_locator(ticker.MultipleLocator(1))\n",
    "\n",
    "    plt.show()\n",
    "    plt.close()"
   ]
  },
  {
   "cell_type": "code",
   "execution_count": 205,
   "metadata": {},
   "outputs": [
    {
     "name": "stderr",
     "output_type": "stream",
     "text": [
      "C:\\Users\\Bidhan\\AppData\\Local\\Temp\\ipykernel_10656\\140266900.py:15: UserWarning: set_ticklabels() should only be used with a fixed number of ticks, i.e. after set_ticks() or using a FixedLocator.\n",
      "  ax.set_xticklabels(x_ticks, rotation=45)\n",
      "C:\\Users\\Bidhan\\AppData\\Local\\Temp\\ipykernel_10656\\140266900.py:16: UserWarning: set_ticklabels() should only be used with a fixed number of ticks, i.e. after set_ticks() or using a FixedLocator.\n",
      "  ax.set_yticklabels(y_ticks)\n",
      "c:\\Users\\Bidhan\\anaconda3\\envs\\ait\\Lib\\site-packages\\IPython\\core\\pylabtools.py:170: UserWarning: Glyph 2344 (\\N{DEVANAGARI LETTER NA}) missing from current font.\n",
      "  fig.canvas.print_figure(bytes_io, **kw)\n",
      "c:\\Users\\Bidhan\\anaconda3\\envs\\ait\\Lib\\site-packages\\IPython\\core\\pylabtools.py:170: UserWarning: Matplotlib currently does not support Devanagari natively.\n",
      "  fig.canvas.print_figure(bytes_io, **kw)\n",
      "c:\\Users\\Bidhan\\anaconda3\\envs\\ait\\Lib\\site-packages\\IPython\\core\\pylabtools.py:170: UserWarning: Glyph 2381 (\\N{DEVANAGARI SIGN VIRAMA}) missing from current font.\n",
      "  fig.canvas.print_figure(bytes_io, **kw)\n",
      "c:\\Users\\Bidhan\\anaconda3\\envs\\ait\\Lib\\site-packages\\IPython\\core\\pylabtools.py:170: UserWarning: Glyph 2342 (\\N{DEVANAGARI LETTER DA}) missing from current font.\n",
      "  fig.canvas.print_figure(bytes_io, **kw)\n",
      "c:\\Users\\Bidhan\\anaconda3\\envs\\ait\\Lib\\site-packages\\IPython\\core\\pylabtools.py:170: UserWarning: Glyph 2367 (\\N{DEVANAGARI VOWEL SIGN I}) missing from current font.\n",
      "  fig.canvas.print_figure(bytes_io, **kw)\n",
      "c:\\Users\\Bidhan\\anaconda3\\envs\\ait\\Lib\\site-packages\\IPython\\core\\pylabtools.py:170: UserWarning: Glyph 2360 (\\N{DEVANAGARI LETTER SA}) missing from current font.\n",
      "  fig.canvas.print_figure(bytes_io, **kw)\n",
      "c:\\Users\\Bidhan\\anaconda3\\envs\\ait\\Lib\\site-packages\\IPython\\core\\pylabtools.py:170: UserWarning: Glyph 2350 (\\N{DEVANAGARI LETTER MA}) missing from current font.\n",
      "  fig.canvas.print_figure(bytes_io, **kw)\n",
      "c:\\Users\\Bidhan\\anaconda3\\envs\\ait\\Lib\\site-packages\\IPython\\core\\pylabtools.py:170: UserWarning: Glyph 2348 (\\N{DEVANAGARI LETTER BA}) missing from current font.\n",
      "  fig.canvas.print_figure(bytes_io, **kw)\n",
      "c:\\Users\\Bidhan\\anaconda3\\envs\\ait\\Lib\\site-packages\\IPython\\core\\pylabtools.py:170: UserWarning: Glyph 2343 (\\N{DEVANAGARI LETTER DHA}) missing from current font.\n",
      "  fig.canvas.print_figure(bytes_io, **kw)\n"
     ]
    },
    {
     "data": {
      "image/png": "[encoded data removed]",
      "text/plain": [
       "<Figure size 1000x1000 with 1 Axes>"
      ]
     },
     "metadata": {},
     "output_type": "display_data"
    }
   ],
   "source": [
    "display_attention(src_tokens, targ_tokens, attention_multiplicative)"
   ]
  },
  {
   "cell_type": "code",
   "execution_count": 206,
   "metadata": {},
   "outputs": [
    {
     "name": "stderr",
     "output_type": "stream",
     "text": [
      "C:\\Users\\Bidhan\\AppData\\Local\\Temp\\ipykernel_10656\\140266900.py:15: UserWarning: set_ticklabels() should only be used with a fixed number of ticks, i.e. after set_ticks() or using a FixedLocator.\n",
      "  ax.set_xticklabels(x_ticks, rotation=45)\n",
      "C:\\Users\\Bidhan\\AppData\\Local\\Temp\\ipykernel_10656\\140266900.py:16: UserWarning: set_ticklabels() should only be used with a fixed number of ticks, i.e. after set_ticks() or using a FixedLocator.\n",
      "  ax.set_yticklabels(y_ticks)\n",
      "c:\\Users\\Bidhan\\anaconda3\\envs\\ait\\Lib\\site-packages\\IPython\\core\\pylabtools.py:170: UserWarning: Glyph 2344 (\\N{DEVANAGARI LETTER NA}) missing from current font.\n",
      "  fig.canvas.print_figure(bytes_io, **kw)\n",
      "c:\\Users\\Bidhan\\anaconda3\\envs\\ait\\Lib\\site-packages\\IPython\\core\\pylabtools.py:170: UserWarning: Matplotlib currently does not support Devanagari natively.\n",
      "  fig.canvas.print_figure(bytes_io, **kw)\n",
      "c:\\Users\\Bidhan\\anaconda3\\envs\\ait\\Lib\\site-packages\\IPython\\core\\pylabtools.py:170: UserWarning: Glyph 2381 (\\N{DEVANAGARI SIGN VIRAMA}) missing from current font.\n",
      "  fig.canvas.print_figure(bytes_io, **kw)\n",
      "c:\\Users\\Bidhan\\anaconda3\\envs\\ait\\Lib\\site-packages\\IPython\\core\\pylabtools.py:170: UserWarning: Glyph 2342 (\\N{DEVANAGARI LETTER DA}) missing from current font.\n",
      "  fig.canvas.print_figure(bytes_io, **kw)\n",
      "c:\\Users\\Bidhan\\anaconda3\\envs\\ait\\Lib\\site-packages\\IPython\\core\\pylabtools.py:170: UserWarning: Glyph 2367 (\\N{DEVANAGARI VOWEL SIGN I}) missing from current font.\n",
      "  fig.canvas.print_figure(bytes_io, **kw)\n",
      "c:\\Users\\Bidhan\\anaconda3\\envs\\ait\\Lib\\site-packages\\IPython\\core\\pylabtools.py:170: UserWarning: Glyph 2360 (\\N{DEVANAGARI LETTER SA}) missing from current font.\n",
      "  fig.canvas.print_figure(bytes_io, **kw)\n",
      "c:\\Users\\Bidhan\\anaconda3\\envs\\ait\\Lib\\site-packages\\IPython\\core\\pylabtools.py:170: UserWarning: Glyph 2350 (\\N{DEVANAGARI LETTER MA}) missing from current font.\n",
      "  fig.canvas.print_figure(bytes_io, **kw)\n",
      "c:\\Users\\Bidhan\\anaconda3\\envs\\ait\\Lib\\site-packages\\IPython\\core\\pylabtools.py:170: UserWarning: Glyph 2348 (\\N{DEVANAGARI LETTER BA}) missing from current font.\n",
      "  fig.canvas.print_figure(bytes_io, **kw)\n",
      "c:\\Users\\Bidhan\\anaconda3\\envs\\ait\\Lib\\site-packages\\IPython\\core\\pylabtools.py:170: UserWarning: Glyph 2343 (\\N{DEVANAGARI LETTER DHA}) missing from current font.\n",
      "  fig.canvas.print_figure(bytes_io, **kw)\n"
     ]
    },
    {
     "data": {
      "image/png": "[encoded data removed]",
      "text/plain": [
       "<Figure size 1000x1000 with 1 Axes>"
      ]
     },
     "metadata": {},
     "output_type": "display_data"
    }
   ],
   "source": [
    "display_attention(src_tokens, targ_tokens, attention_general)"
   ]
  },
  {
   "cell_type": "code",
   "execution_count": 207,
   "metadata": {},
   "outputs": [
    {
     "name": "stderr",
     "output_type": "stream",
     "text": [
      "C:\\Users\\Bidhan\\AppData\\Local\\Temp\\ipykernel_10656\\140266900.py:15: UserWarning: set_ticklabels() should only be used with a fixed number of ticks, i.e. after set_ticks() or using a FixedLocator.\n",
      "  ax.set_xticklabels(x_ticks, rotation=45)\n",
      "C:\\Users\\Bidhan\\AppData\\Local\\Temp\\ipykernel_10656\\140266900.py:16: UserWarning: set_ticklabels() should only be used with a fixed number of ticks, i.e. after set_ticks() or using a FixedLocator.\n",
      "  ax.set_yticklabels(y_ticks)\n",
      "c:\\Users\\Bidhan\\anaconda3\\envs\\ait\\Lib\\site-packages\\IPython\\core\\pylabtools.py:170: UserWarning: Glyph 2344 (\\N{DEVANAGARI LETTER NA}) missing from current font.\n",
      "  fig.canvas.print_figure(bytes_io, **kw)\n",
      "c:\\Users\\Bidhan\\anaconda3\\envs\\ait\\Lib\\site-packages\\IPython\\core\\pylabtools.py:170: UserWarning: Matplotlib currently does not support Devanagari natively.\n",
      "  fig.canvas.print_figure(bytes_io, **kw)\n",
      "c:\\Users\\Bidhan\\anaconda3\\envs\\ait\\Lib\\site-packages\\IPython\\core\\pylabtools.py:170: UserWarning: Glyph 2381 (\\N{DEVANAGARI SIGN VIRAMA}) missing from current font.\n",
      "  fig.canvas.print_figure(bytes_io, **kw)\n",
      "c:\\Users\\Bidhan\\anaconda3\\envs\\ait\\Lib\\site-packages\\IPython\\core\\pylabtools.py:170: UserWarning: Glyph 2342 (\\N{DEVANAGARI LETTER DA}) missing from current font.\n",
      "  fig.canvas.print_figure(bytes_io, **kw)\n",
      "c:\\Users\\Bidhan\\anaconda3\\envs\\ait\\Lib\\site-packages\\IPython\\core\\pylabtools.py:170: UserWarning: Glyph 2367 (\\N{DEVANAGARI VOWEL SIGN I}) missing from current font.\n",
      "  fig.canvas.print_figure(bytes_io, **kw)\n",
      "c:\\Users\\Bidhan\\anaconda3\\envs\\ait\\Lib\\site-packages\\IPython\\core\\pylabtools.py:170: UserWarning: Glyph 2360 (\\N{DEVANAGARI LETTER SA}) missing from current font.\n",
      "  fig.canvas.print_figure(bytes_io, **kw)\n",
      "c:\\Users\\Bidhan\\anaconda3\\envs\\ait\\Lib\\site-packages\\IPython\\core\\pylabtools.py:170: UserWarning: Glyph 2350 (\\N{DEVANAGARI LETTER MA}) missing from current font.\n",
      "  fig.canvas.print_figure(bytes_io, **kw)\n",
      "c:\\Users\\Bidhan\\anaconda3\\envs\\ait\\Lib\\site-packages\\IPython\\core\\pylabtools.py:170: UserWarning: Glyph 2348 (\\N{DEVANAGARI LETTER BA}) missing from current font.\n",
      "  fig.canvas.print_figure(bytes_io, **kw)\n",
      "c:\\Users\\Bidhan\\anaconda3\\envs\\ait\\Lib\\site-packages\\IPython\\core\\pylabtools.py:170: UserWarning: Glyph 2343 (\\N{DEVANAGARI LETTER DHA}) missing from current font.\n",
      "  fig.canvas.print_figure(bytes_io, **kw)\n"
     ]
    },
    {
     "data": {
      "image/png": "[encoded data removed]",
      "text/plain": [
       "<Figure size 1000x1000 with 1 Axes>"
      ]
     },
     "metadata": {},
     "output_type": "display_data"
    }
   ],
   "source": [
    "display_attention(src_tokens, targ_tokens, attention_additive)"
   ]
  },
  {
   "cell_type": "markdown",
   "metadata": {},
   "source": [
    "# Discussion"
   ]
  },
  {
   "cell_type": "code",
   "execution_count": null,
   "metadata": {},
   "outputs": [],
   "source": []
  }
 ],
 "metadata": {
  "kernelspec": {
   "display_name": "ait",
   "language": "python",
   "name": "python3"
  },
  "language_info": {
   "codemirror_mode": {
    "name": "ipython",
    "version": 3
   },
   "file_extension": ".py",
   "mimetype": "text/x-python",
   "name": "python",
   "nbconvert_exporter": "python",
   "pygments_lexer": "ipython3",
   "version": "3.11.9"
  }
 },
 "nbformat": 4,
 "nbformat_minor": 2
}
